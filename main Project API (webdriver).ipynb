{
 "cells": [
  {
   "cell_type": "code",
   "execution_count": 1,
   "metadata": {
    "ExecuteTime": {
     "end_time": "2020-02-19T20:24:53.291909Z",
     "start_time": "2020-02-19T20:24:51.842184Z"
    }
   },
   "outputs": [],
   "source": [
    "import json\n",
    "import requests\n",
    "import numpy as np\n",
    "import pandas as pd\n",
    "import base64\n",
    "from bs4 import BeautifulSoup\n",
    "from pandas.io.json import json_normalize\n",
    "import matplotlib.pyplot as plt\n",
    "%matplotlib inline\n",
    "from matplotlib import ticker\n",
    "import ipywidgets as widgets\n",
    "from IPython.display import display\n",
    "import re\n",
    "import time\n",
    "from selenium import webdriver"
   ]
  },
  {
   "cell_type": "code",
   "execution_count": 40,
   "metadata": {
    "ExecuteTime": {
     "end_time": "2020-02-19T20:39:36.599623Z",
     "start_time": "2020-02-19T20:39:36.594809Z"
    }
   },
   "outputs": [],
   "source": [
    "#Falta sacar resultados de mas tiempo pendiente de ver como usar: #https://es.investing.com/equities/morehistory\n",
    "#Crear linea de resultados esperados para poder comparar con resultados obtenidos\n",
    "#Añadir en el grafico un segundo eje Y a la derecha con el volumen\n",
    "#Ver que hacer con las unidades de Billions y Millions\n"
   ]
  },
  {
   "cell_type": "markdown",
   "metadata": {},
   "source": [
    "## Web Scraping"
   ]
  },
  {
   "cell_type": "code",
   "execution_count": 41,
   "metadata": {
    "ExecuteTime": {
     "end_time": "2020-02-19T20:39:39.649342Z",
     "start_time": "2020-02-19T20:39:37.440824Z"
    }
   },
   "outputs": [],
   "source": [
    "url='https://investing.com/equities'\n",
    "headers = {'user-agent': 'Mozilla/5.0 (Macintosh; Intel Mac OS X 10_14_6) AppleWebKit/537.36 (KHTML, like Gecko) Chrome/79.0.3945.130 Safari/537.36'}\n",
    "\n",
    "html=requests.get(url,headers=headers).content\n",
    "soup=BeautifulSoup(html,'lxml')\n",
    "\n",
    "table = soup.find_all('table',{'id':'cross_rate_markets_stocks_1'})"
   ]
  },
  {
   "cell_type": "code",
   "execution_count": 42,
   "metadata": {
    "ExecuteTime": {
     "end_time": "2020-02-19T20:39:40.691010Z",
     "start_time": "2020-02-19T20:39:40.685112Z"
    }
   },
   "outputs": [],
   "source": [
    "table2=table[0]"
   ]
  },
  {
   "cell_type": "code",
   "execution_count": 43,
   "metadata": {
    "ExecuteTime": {
     "end_time": "2020-02-19T20:39:41.736929Z",
     "start_time": "2020-02-19T20:39:41.732203Z"
    }
   },
   "outputs": [],
   "source": [
    "rows=table2.find_all('tr')\n",
    "rows=rows[1:]"
   ]
  },
  {
   "cell_type": "code",
   "execution_count": 44,
   "metadata": {
    "ExecuteTime": {
     "end_time": "2020-02-19T20:39:42.846913Z",
     "start_time": "2020-02-19T20:39:42.836327Z"
    }
   },
   "outputs": [],
   "source": [
    "titles = [row.a.get('title') for row in rows]\n",
    "links = [row.a.get('href') for row in rows]"
   ]
  },
  {
   "cell_type": "markdown",
   "metadata": {},
   "source": [
    "Diccionario con todas las empresas del IBEX"
   ]
  },
  {
   "cell_type": "code",
   "execution_count": 45,
   "metadata": {
    "ExecuteTime": {
     "end_time": "2020-02-19T20:39:43.814305Z",
     "start_time": "2020-02-19T20:39:43.808843Z"
    }
   },
   "outputs": [],
   "source": [
    "dict_companies = { titles[i] : links[i] for i in range(len(titles)) }"
   ]
  },
  {
   "cell_type": "code",
   "execution_count": 46,
   "metadata": {
    "ExecuteTime": {
     "end_time": "2020-02-19T20:39:44.791605Z",
     "start_time": "2020-02-19T20:39:44.778123Z"
    }
   },
   "outputs": [
    {
     "data": {
      "application/vnd.jupyter.widget-view+json": {
       "model_id": "0ed650d14662416ca3b3c1b8f7cb811a",
       "version_major": 2,
       "version_minor": 0
      },
      "text/plain": [
       "Dropdown(description='Company:', options=('Chevron Corp', 'Citigroup Inc', 'Bank of America Corp', 'AT&T Inc',…"
      ]
     },
     "metadata": {},
     "output_type": "display_data"
    }
   ],
   "source": [
    "companies_dropdown=widgets.Dropdown(options=titles,description='Company:')\n",
    "companies_dropdown"
   ]
  },
  {
   "cell_type": "code",
   "execution_count": 73,
   "metadata": {
    "ExecuteTime": {
     "end_time": "2020-02-19T20:42:12.685476Z",
     "start_time": "2020-02-19T20:42:12.674900Z"
    }
   },
   "outputs": [
    {
     "data": {
      "text/plain": [
       "'/equities/tesla-motors'"
      ]
     },
     "execution_count": 73,
     "metadata": {},
     "output_type": "execute_result"
    }
   ],
   "source": [
    "company_web=dict_companies.get(companies_dropdown.value)\n",
    "company_web"
   ]
  },
  {
   "cell_type": "markdown",
   "metadata": {},
   "source": [
    "### CREAT WIDGET PARA SELECCIONAR EMPRESA DEL DICCIONARIO Y ASIGNAR A UNA VARIABLE"
   ]
  },
  {
   "cell_type": "code",
   "execution_count": 74,
   "metadata": {
    "ExecuteTime": {
     "end_time": "2020-02-19T20:42:14.773561Z",
     "start_time": "2020-02-19T20:42:13.509357Z"
    }
   },
   "outputs": [],
   "source": [
    "#Publicacion resultados: https://es.investing.com/equities/apple-computer-inc-earnings\n",
    "url=f'https://investing.com{company_web}-earnings'\n",
    "headers = {'user-agent': 'Mozilla/5.0 (Macintosh; Intel Mac OS X 10_14_6) AppleWebKit/537.36 (KHTML, like Gecko) Chrome/79.0.3945.130 Safari/537.36'}\n",
    "\n",
    "#https://es.investing.com/equities/morehistory\n",
    "\n",
    "html=requests.get(url,headers=headers).content\n",
    "soup=BeautifulSoup(html,'lxml')"
   ]
  },
  {
   "cell_type": "code",
   "execution_count": 75,
   "metadata": {
    "ExecuteTime": {
     "end_time": "2020-02-19T20:42:15.457455Z",
     "start_time": "2020-02-19T20:42:15.454050Z"
    }
   },
   "outputs": [],
   "source": [
    "#table = soup.find_all('table',{'class':'genTbl openTbl ecoCalTbl earnings earningsPageTbl'})"
   ]
  },
  {
   "cell_type": "code",
   "execution_count": 76,
   "metadata": {
    "ExecuteTime": {
     "end_time": "2020-02-19T20:42:16.198069Z",
     "start_time": "2020-02-19T20:42:16.097135Z"
    }
   },
   "outputs": [
    {
     "data": {
      "text/plain": [
       "[<h1 class=\"float_lang_base_1 relativeAttr\" dir=\"ltr\" itemprop=\"name\">Tesla Inc (TSLA)\t</h1>]"
      ]
     },
     "execution_count": 76,
     "metadata": {},
     "output_type": "execute_result"
    }
   ],
   "source": [
    "name_api = soup.find_all('h1',{'class':'float_lang_base_1 relativeAttr'})\n",
    "name_api = soup.find_all('h1',{'class':'float_lang_base_1 relativeAttr'})\n",
    "name_api"
   ]
  },
  {
   "cell_type": "code",
   "execution_count": 77,
   "metadata": {
    "ExecuteTime": {
     "end_time": "2020-02-19T20:42:16.839049Z",
     "start_time": "2020-02-19T20:42:16.789675Z"
    }
   },
   "outputs": [
    {
     "data": {
      "text/plain": [
       "'TSLA'"
      ]
     },
     "execution_count": 77,
     "metadata": {},
     "output_type": "execute_result"
    }
   ],
   "source": [
    "name_api = soup.find_all('h1',{'class':'float_lang_base_1 relativeAttr'})\n",
    "name_api = name_api[0].text.strip().split('\\n')\n",
    "name_api=re.findall('\\((.*)\\)',name_api[0])\n",
    "name_api=name_api[0]\n",
    "name_api"
   ]
  },
  {
   "cell_type": "code",
   "execution_count": 130,
   "metadata": {
    "ExecuteTime": {
     "end_time": "2020-02-19T21:55:38.785246Z",
     "start_time": "2020-02-19T21:55:19.256247Z"
    }
   },
   "outputs": [
    {
     "data": {
      "text/html": [
       "<div>\n",
       "<style scoped>\n",
       "    .dataframe tbody tr th:only-of-type {\n",
       "        vertical-align: middle;\n",
       "    }\n",
       "\n",
       "    .dataframe tbody tr th {\n",
       "        vertical-align: top;\n",
       "    }\n",
       "\n",
       "    .dataframe thead th {\n",
       "        text-align: right;\n",
       "    }\n",
       "</style>\n",
       "<table border=\"1\" class=\"dataframe\">\n",
       "  <thead>\n",
       "    <tr style=\"text-align: right;\">\n",
       "      <th></th>\n",
       "      <th>Release Date</th>\n",
       "      <th>Period End</th>\n",
       "      <th>EPS</th>\n",
       "      <th>/ Forecast</th>\n",
       "      <th>Revenue</th>\n",
       "      <th>/ Forecast.1</th>\n",
       "    </tr>\n",
       "  </thead>\n",
       "  <tbody>\n",
       "    <tr>\n",
       "      <th>0</th>\n",
       "      <td>Apr 29, 2020</td>\n",
       "      <td>03/2020</td>\n",
       "      <td>--</td>\n",
       "      <td>/ 0.92</td>\n",
       "      <td>--</td>\n",
       "      <td>/ 6.58B</td>\n",
       "    </tr>\n",
       "    <tr>\n",
       "      <th>1</th>\n",
       "      <td>Jan 29, 2020</td>\n",
       "      <td>12/2019</td>\n",
       "      <td>2.14</td>\n",
       "      <td>/ 1.72</td>\n",
       "      <td>7.38B</td>\n",
       "      <td>/ 7,020M</td>\n",
       "    </tr>\n",
       "    <tr>\n",
       "      <th>2</th>\n",
       "      <td>Oct 23, 2019</td>\n",
       "      <td>09/2019</td>\n",
       "      <td>1.86</td>\n",
       "      <td>/ -0.46</td>\n",
       "      <td>6.3B</td>\n",
       "      <td>/ 6.43B</td>\n",
       "    </tr>\n",
       "    <tr>\n",
       "      <th>3</th>\n",
       "      <td>Jul 24, 2019</td>\n",
       "      <td>06/2019</td>\n",
       "      <td>-1.12</td>\n",
       "      <td>/ -0.35</td>\n",
       "      <td>6.35B</td>\n",
       "      <td>/ 6.47B</td>\n",
       "    </tr>\n",
       "    <tr>\n",
       "      <th>4</th>\n",
       "      <td>Apr 24, 2019</td>\n",
       "      <td>03/2019</td>\n",
       "      <td>-2.9</td>\n",
       "      <td>/ -1.12</td>\n",
       "      <td>4.54B</td>\n",
       "      <td>/ 5.45B</td>\n",
       "    </tr>\n",
       "    <tr>\n",
       "      <th>5</th>\n",
       "      <td>Jan 30, 2019</td>\n",
       "      <td>12/2018</td>\n",
       "      <td>1.93</td>\n",
       "      <td>/ 2.2</td>\n",
       "      <td>7.23B</td>\n",
       "      <td>/ 7.12B</td>\n",
       "    </tr>\n",
       "    <tr>\n",
       "      <th>6</th>\n",
       "      <td>Oct 24, 2018</td>\n",
       "      <td>09/2018</td>\n",
       "      <td>2.9</td>\n",
       "      <td>/ -0.03</td>\n",
       "      <td>6.82B</td>\n",
       "      <td>/ 6.05B</td>\n",
       "    </tr>\n",
       "    <tr>\n",
       "      <th>7</th>\n",
       "      <td>Aug 01, 2018</td>\n",
       "      <td>06/2018</td>\n",
       "      <td>-3.06</td>\n",
       "      <td>/ -2.88</td>\n",
       "      <td>4B</td>\n",
       "      <td>/ 3.99B</td>\n",
       "    </tr>\n",
       "    <tr>\n",
       "      <th>8</th>\n",
       "      <td>May 02, 2018</td>\n",
       "      <td>03/2018</td>\n",
       "      <td>-3.35</td>\n",
       "      <td>/ -3.53</td>\n",
       "      <td>3.41B</td>\n",
       "      <td>/ 3.27B</td>\n",
       "    </tr>\n",
       "    <tr>\n",
       "      <th>9</th>\n",
       "      <td>Feb 07, 2018</td>\n",
       "      <td>12/2017</td>\n",
       "      <td>-3.04</td>\n",
       "      <td>/ -3.12</td>\n",
       "      <td>3.29B</td>\n",
       "      <td>/ 3,280M</td>\n",
       "    </tr>\n",
       "    <tr>\n",
       "      <th>10</th>\n",
       "      <td>Nov 01, 2017</td>\n",
       "      <td>09/2017</td>\n",
       "      <td>-2.92</td>\n",
       "      <td>/ -2.29</td>\n",
       "      <td>2.98B</td>\n",
       "      <td>/ 2,948M</td>\n",
       "    </tr>\n",
       "    <tr>\n",
       "      <th>11</th>\n",
       "      <td>Aug 02, 2017</td>\n",
       "      <td>06/2017</td>\n",
       "      <td>-1.33</td>\n",
       "      <td>/ -1.82</td>\n",
       "      <td>2.79B</td>\n",
       "      <td>/ 2,513M</td>\n",
       "    </tr>\n",
       "    <tr>\n",
       "      <th>12</th>\n",
       "      <td>May 03, 2017</td>\n",
       "      <td>03/2017</td>\n",
       "      <td>-1.33</td>\n",
       "      <td>/ -0.81</td>\n",
       "      <td>2.70B</td>\n",
       "      <td>/ 2,615M</td>\n",
       "    </tr>\n",
       "    <tr>\n",
       "      <th>13</th>\n",
       "      <td>Feb 22, 2017</td>\n",
       "      <td>12/2016</td>\n",
       "      <td>-0.69</td>\n",
       "      <td>/ -0.43</td>\n",
       "      <td>2.28B</td>\n",
       "      <td>/ 2,169M</td>\n",
       "    </tr>\n",
       "    <tr>\n",
       "      <th>14</th>\n",
       "      <td>Oct 26, 2016</td>\n",
       "      <td>09/2016</td>\n",
       "      <td>0.71</td>\n",
       "      <td>/ -0.58</td>\n",
       "      <td>2.30B</td>\n",
       "      <td>/ 2,005M</td>\n",
       "    </tr>\n",
       "    <tr>\n",
       "      <th>15</th>\n",
       "      <td>Aug 03, 2016</td>\n",
       "      <td>06/2016</td>\n",
       "      <td>0.71</td>\n",
       "      <td>/ -0.52</td>\n",
       "      <td>1.27B</td>\n",
       "      <td>/ 1,630M</td>\n",
       "    </tr>\n",
       "    <tr>\n",
       "      <th>16</th>\n",
       "      <td>May 04, 2016</td>\n",
       "      <td>03/2016</td>\n",
       "      <td>-1.06</td>\n",
       "      <td>/ -0.58</td>\n",
       "      <td>1.15B</td>\n",
       "      <td>/ 1,597M</td>\n",
       "    </tr>\n",
       "    <tr>\n",
       "      <th>17</th>\n",
       "      <td>Feb 10, 2016</td>\n",
       "      <td>12/2015</td>\n",
       "      <td>-0.57</td>\n",
       "      <td>/ 0.10</td>\n",
       "      <td>1.21B</td>\n",
       "      <td>/ 1,792M</td>\n",
       "    </tr>\n",
       "    <tr>\n",
       "      <th>18</th>\n",
       "      <td>Nov 03, 2015</td>\n",
       "      <td>09/2015</td>\n",
       "      <td>-0.87</td>\n",
       "      <td>/ -0.50</td>\n",
       "      <td>936.8M</td>\n",
       "      <td>/ 1,261M</td>\n",
       "    </tr>\n",
       "    <tr>\n",
       "      <th>19</th>\n",
       "      <td>Aug 05, 2015</td>\n",
       "      <td>06/2015</td>\n",
       "      <td>-0.48</td>\n",
       "      <td>/ -0.60</td>\n",
       "      <td>955.0M</td>\n",
       "      <td>/ 1,176M</td>\n",
       "    </tr>\n",
       "    <tr>\n",
       "      <th>20</th>\n",
       "      <td>May 06, 2015</td>\n",
       "      <td>03/2015</td>\n",
       "      <td>-0.36</td>\n",
       "      <td>/ -0.50</td>\n",
       "      <td>939.9M</td>\n",
       "      <td>/ 1,043M</td>\n",
       "    </tr>\n",
       "    <tr>\n",
       "      <th>21</th>\n",
       "      <td>Feb 11, 2015</td>\n",
       "      <td>12/2014</td>\n",
       "      <td>-0.13</td>\n",
       "      <td>/ 0.31</td>\n",
       "      <td>956.7M</td>\n",
       "      <td>/ 1,225M</td>\n",
       "    </tr>\n",
       "    <tr>\n",
       "      <th>22</th>\n",
       "      <td>Nov 05, 2014</td>\n",
       "      <td>09/2014</td>\n",
       "      <td>0.02</td>\n",
       "      <td>/ -0.01</td>\n",
       "      <td>851.8M</td>\n",
       "      <td>/ 889.28M</td>\n",
       "    </tr>\n",
       "    <tr>\n",
       "      <th>23</th>\n",
       "      <td>Jul 31, 2014</td>\n",
       "      <td>06/2014</td>\n",
       "      <td>0.11</td>\n",
       "      <td>/ 0.04</td>\n",
       "      <td>1.39B</td>\n",
       "      <td>/ 810.61M</td>\n",
       "    </tr>\n",
       "    <tr>\n",
       "      <th>24</th>\n",
       "      <td>May 07, 2014</td>\n",
       "      <td>03/2014</td>\n",
       "      <td>0.12</td>\n",
       "      <td>/ 0.10</td>\n",
       "      <td>--</td>\n",
       "      <td>/ 699.09M</td>\n",
       "    </tr>\n",
       "    <tr>\n",
       "      <th>25</th>\n",
       "      <td>Feb 19, 2014</td>\n",
       "      <td>12/2013</td>\n",
       "      <td>0.33</td>\n",
       "      <td>/ 0.21</td>\n",
       "      <td>--</td>\n",
       "      <td>/ 686.25M</td>\n",
       "    </tr>\n",
       "    <tr>\n",
       "      <th>26</th>\n",
       "      <td>Nov 05, 2013</td>\n",
       "      <td>09/2013</td>\n",
       "      <td>0.12</td>\n",
       "      <td>/ 0.11</td>\n",
       "      <td>--</td>\n",
       "      <td>/ 534.64M</td>\n",
       "    </tr>\n",
       "  </tbody>\n",
       "</table>\n",
       "</div>"
      ],
      "text/plain": [
       "    Release Date Period End    EPS / Forecast Revenue / Forecast.1\n",
       "0   Apr 29, 2020    03/2020     --     / 0.92      --      / 6.58B\n",
       "1   Jan 29, 2020    12/2019   2.14     / 1.72   7.38B     / 7,020M\n",
       "2   Oct 23, 2019    09/2019   1.86    / -0.46    6.3B      / 6.43B\n",
       "3   Jul 24, 2019    06/2019  -1.12    / -0.35   6.35B      / 6.47B\n",
       "4   Apr 24, 2019    03/2019   -2.9    / -1.12   4.54B      / 5.45B\n",
       "5   Jan 30, 2019    12/2018   1.93      / 2.2   7.23B      / 7.12B\n",
       "6   Oct 24, 2018    09/2018    2.9    / -0.03   6.82B      / 6.05B\n",
       "7   Aug 01, 2018    06/2018  -3.06    / -2.88      4B      / 3.99B\n",
       "8   May 02, 2018    03/2018  -3.35    / -3.53   3.41B      / 3.27B\n",
       "9   Feb 07, 2018    12/2017  -3.04    / -3.12   3.29B     / 3,280M\n",
       "10  Nov 01, 2017    09/2017  -2.92    / -2.29   2.98B     / 2,948M\n",
       "11  Aug 02, 2017    06/2017  -1.33    / -1.82   2.79B     / 2,513M\n",
       "12  May 03, 2017    03/2017  -1.33    / -0.81   2.70B     / 2,615M\n",
       "13  Feb 22, 2017    12/2016  -0.69    / -0.43   2.28B     / 2,169M\n",
       "14  Oct 26, 2016    09/2016   0.71    / -0.58   2.30B     / 2,005M\n",
       "15  Aug 03, 2016    06/2016   0.71    / -0.52   1.27B     / 1,630M\n",
       "16  May 04, 2016    03/2016  -1.06    / -0.58   1.15B     / 1,597M\n",
       "17  Feb 10, 2016    12/2015  -0.57     / 0.10   1.21B     / 1,792M\n",
       "18  Nov 03, 2015    09/2015  -0.87    / -0.50  936.8M     / 1,261M\n",
       "19  Aug 05, 2015    06/2015  -0.48    / -0.60  955.0M     / 1,176M\n",
       "20  May 06, 2015    03/2015  -0.36    / -0.50  939.9M     / 1,043M\n",
       "21  Feb 11, 2015    12/2014  -0.13     / 0.31  956.7M     / 1,225M\n",
       "22  Nov 05, 2014    09/2014   0.02    / -0.01  851.8M    / 889.28M\n",
       "23  Jul 31, 2014    06/2014   0.11     / 0.04   1.39B    / 810.61M\n",
       "24  May 07, 2014    03/2014   0.12     / 0.10      --    / 699.09M\n",
       "25  Feb 19, 2014    12/2013   0.33     / 0.21      --    / 686.25M\n",
       "26  Nov 05, 2013    09/2013   0.12     / 0.11      --    / 534.64M"
      ]
     },
     "execution_count": 130,
     "metadata": {},
     "output_type": "execute_result"
    }
   ],
   "source": [
    "\n",
    "driver = webdriver.Chrome('/Users/inesgalofrebofill/Documents/Ironhack/chromedriver')  # Optional argument, if not specified will search path.\n",
    "driver.get(f'https://investing.com{company_web}-earnings');\n",
    "time.sleep(2) # Let the user actually see something!\n",
    "search_box = driver.find_elements_by_id('showMoreEarningsHistory')[0]\n",
    "search_box.click()\n",
    "time.sleep(2)\n",
    "search_box.click()\n",
    "time.sleep(2)\n",
    "search_box.click()\n",
    "time.sleep(2)\n",
    "search_box.click()\n",
    "\n",
    "time.sleep(2)\n",
    "df = pd.read_html(driver.page_source)[0]\n",
    "\n",
    "time.sleep(2) # Let the user actually see something!\n",
    "driver.quit()\n",
    "df"
   ]
  },
  {
   "cell_type": "code",
   "execution_count": 131,
   "metadata": {
    "ExecuteTime": {
     "end_time": "2020-02-19T21:55:54.861559Z",
     "start_time": "2020-02-19T21:55:54.838294Z"
    }
   },
   "outputs": [],
   "source": [
    "df2=df"
   ]
  },
  {
   "cell_type": "code",
   "execution_count": 239,
   "metadata": {
    "ExecuteTime": {
     "end_time": "2020-02-19T22:33:13.254387Z",
     "start_time": "2020-02-19T22:33:13.249258Z"
    }
   },
   "outputs": [],
   "source": [
    "df=df2"
   ]
  },
  {
   "cell_type": "code",
   "execution_count": 240,
   "metadata": {
    "ExecuteTime": {
     "end_time": "2020-02-19T22:33:14.230715Z",
     "start_time": "2020-02-19T22:33:14.224646Z"
    }
   },
   "outputs": [],
   "source": [
    "df=df[df.Revenue != '--']"
   ]
  },
  {
   "cell_type": "code",
   "execution_count": 241,
   "metadata": {
    "ExecuteTime": {
     "end_time": "2020-02-19T22:33:15.185431Z",
     "start_time": "2020-02-19T22:33:15.181994Z"
    }
   },
   "outputs": [],
   "source": [
    "#df=df.rename()"
   ]
  },
  {
   "cell_type": "code",
   "execution_count": 242,
   "metadata": {
    "ExecuteTime": {
     "end_time": "2020-02-19T22:33:16.312300Z",
     "start_time": "2020-02-19T22:33:16.212800Z"
    }
   },
   "outputs": [
    {
     "name": "stderr",
     "output_type": "stream",
     "text": [
      "/usr/local/lib/python3.7/site-packages/ipykernel_launcher.py:1: SettingWithCopyWarning: \n",
      "A value is trying to be set on a copy of a slice from a DataFrame.\n",
      "Try using .loc[row_indexer,col_indexer] = value instead\n",
      "\n",
      "See the caveats in the documentation: http://pandas.pydata.org/pandas-docs/stable/user_guide/indexing.html#returning-a-view-versus-a-copy\n",
      "  \"\"\"Entry point for launching an IPython kernel.\n",
      "/usr/local/lib/python3.7/site-packages/ipykernel_launcher.py:3: SettingWithCopyWarning: \n",
      "A value is trying to be set on a copy of a slice from a DataFrame.\n",
      "Try using .loc[row_indexer,col_indexer] = value instead\n",
      "\n",
      "See the caveats in the documentation: http://pandas.pydata.org/pandas-docs/stable/user_guide/indexing.html#returning-a-view-versus-a-copy\n",
      "  This is separate from the ipykernel package so we can avoid doing imports until\n"
     ]
    },
    {
     "data": {
      "text/html": [
       "<div>\n",
       "<style scoped>\n",
       "    .dataframe tbody tr th:only-of-type {\n",
       "        vertical-align: middle;\n",
       "    }\n",
       "\n",
       "    .dataframe tbody tr th {\n",
       "        vertical-align: top;\n",
       "    }\n",
       "\n",
       "    .dataframe thead th {\n",
       "        text-align: right;\n",
       "    }\n",
       "</style>\n",
       "<table border=\"1\" class=\"dataframe\">\n",
       "  <thead>\n",
       "    <tr style=\"text-align: right;\">\n",
       "      <th></th>\n",
       "      <th>Release Date</th>\n",
       "      <th>Period End</th>\n",
       "      <th>EPS</th>\n",
       "      <th>/ Forecast</th>\n",
       "      <th>Revenue</th>\n",
       "      <th>/ Forecast.1</th>\n",
       "      <th>Period_End</th>\n",
       "      <th>Forecast_EPS</th>\n",
       "      <th>Revenue2</th>\n",
       "      <th>Forecast_Revenue</th>\n",
       "    </tr>\n",
       "  </thead>\n",
       "  <tbody>\n",
       "    <tr>\n",
       "      <th>1</th>\n",
       "      <td>2020-01-29</td>\n",
       "      <td>12/2019</td>\n",
       "      <td>2.14</td>\n",
       "      <td>/ 1.72</td>\n",
       "      <td>7.38B</td>\n",
       "      <td>/ 7020M</td>\n",
       "      <td>2019-12-01</td>\n",
       "      <td>1.72</td>\n",
       "      <td>7380.0</td>\n",
       "      <td>7020.00</td>\n",
       "    </tr>\n",
       "    <tr>\n",
       "      <th>2</th>\n",
       "      <td>2019-10-23</td>\n",
       "      <td>09/2019</td>\n",
       "      <td>1.86</td>\n",
       "      <td>/ -0.46</td>\n",
       "      <td>6.3B</td>\n",
       "      <td>/ 6.43B</td>\n",
       "      <td>2019-09-01</td>\n",
       "      <td>-0.46</td>\n",
       "      <td>6300.0</td>\n",
       "      <td>6430.00</td>\n",
       "    </tr>\n",
       "    <tr>\n",
       "      <th>3</th>\n",
       "      <td>2019-07-24</td>\n",
       "      <td>06/2019</td>\n",
       "      <td>-1.12</td>\n",
       "      <td>/ -0.35</td>\n",
       "      <td>6.35B</td>\n",
       "      <td>/ 6.47B</td>\n",
       "      <td>2019-06-01</td>\n",
       "      <td>-0.35</td>\n",
       "      <td>6350.0</td>\n",
       "      <td>6470.00</td>\n",
       "    </tr>\n",
       "    <tr>\n",
       "      <th>4</th>\n",
       "      <td>2019-04-24</td>\n",
       "      <td>03/2019</td>\n",
       "      <td>-2.9</td>\n",
       "      <td>/ -1.12</td>\n",
       "      <td>4.54B</td>\n",
       "      <td>/ 5.45B</td>\n",
       "      <td>2019-03-01</td>\n",
       "      <td>-1.12</td>\n",
       "      <td>4540.0</td>\n",
       "      <td>5450.00</td>\n",
       "    </tr>\n",
       "    <tr>\n",
       "      <th>5</th>\n",
       "      <td>2019-01-30</td>\n",
       "      <td>12/2018</td>\n",
       "      <td>1.93</td>\n",
       "      <td>/ 2.2</td>\n",
       "      <td>7.23B</td>\n",
       "      <td>/ 7.12B</td>\n",
       "      <td>2018-12-01</td>\n",
       "      <td>2.2</td>\n",
       "      <td>7230.0</td>\n",
       "      <td>7120.00</td>\n",
       "    </tr>\n",
       "    <tr>\n",
       "      <th>6</th>\n",
       "      <td>2018-10-24</td>\n",
       "      <td>09/2018</td>\n",
       "      <td>2.9</td>\n",
       "      <td>/ -0.03</td>\n",
       "      <td>6.82B</td>\n",
       "      <td>/ 6.05B</td>\n",
       "      <td>2018-09-01</td>\n",
       "      <td>-0.03</td>\n",
       "      <td>6820.0</td>\n",
       "      <td>6050.00</td>\n",
       "    </tr>\n",
       "    <tr>\n",
       "      <th>7</th>\n",
       "      <td>2018-08-01</td>\n",
       "      <td>06/2018</td>\n",
       "      <td>-3.06</td>\n",
       "      <td>/ -2.88</td>\n",
       "      <td>4B</td>\n",
       "      <td>/ 3.99B</td>\n",
       "      <td>2018-06-01</td>\n",
       "      <td>-2.88</td>\n",
       "      <td>4000.0</td>\n",
       "      <td>3990.00</td>\n",
       "    </tr>\n",
       "    <tr>\n",
       "      <th>8</th>\n",
       "      <td>2018-05-02</td>\n",
       "      <td>03/2018</td>\n",
       "      <td>-3.35</td>\n",
       "      <td>/ -3.53</td>\n",
       "      <td>3.41B</td>\n",
       "      <td>/ 3.27B</td>\n",
       "      <td>2018-03-01</td>\n",
       "      <td>-3.53</td>\n",
       "      <td>3410.0</td>\n",
       "      <td>3270.00</td>\n",
       "    </tr>\n",
       "    <tr>\n",
       "      <th>9</th>\n",
       "      <td>2018-02-07</td>\n",
       "      <td>12/2017</td>\n",
       "      <td>-3.04</td>\n",
       "      <td>/ -3.12</td>\n",
       "      <td>3.29B</td>\n",
       "      <td>/ 3280M</td>\n",
       "      <td>2017-12-01</td>\n",
       "      <td>-3.12</td>\n",
       "      <td>3290.0</td>\n",
       "      <td>3280.00</td>\n",
       "    </tr>\n",
       "    <tr>\n",
       "      <th>10</th>\n",
       "      <td>2017-11-01</td>\n",
       "      <td>09/2017</td>\n",
       "      <td>-2.92</td>\n",
       "      <td>/ -2.29</td>\n",
       "      <td>2.98B</td>\n",
       "      <td>/ 2948M</td>\n",
       "      <td>2017-09-01</td>\n",
       "      <td>-2.29</td>\n",
       "      <td>2980.0</td>\n",
       "      <td>2948.00</td>\n",
       "    </tr>\n",
       "    <tr>\n",
       "      <th>11</th>\n",
       "      <td>2017-08-02</td>\n",
       "      <td>06/2017</td>\n",
       "      <td>-1.33</td>\n",
       "      <td>/ -1.82</td>\n",
       "      <td>2.79B</td>\n",
       "      <td>/ 2513M</td>\n",
       "      <td>2017-06-01</td>\n",
       "      <td>-1.82</td>\n",
       "      <td>2790.0</td>\n",
       "      <td>2513.00</td>\n",
       "    </tr>\n",
       "    <tr>\n",
       "      <th>12</th>\n",
       "      <td>2017-05-03</td>\n",
       "      <td>03/2017</td>\n",
       "      <td>-1.33</td>\n",
       "      <td>/ -0.81</td>\n",
       "      <td>2.70B</td>\n",
       "      <td>/ 2615M</td>\n",
       "      <td>2017-03-01</td>\n",
       "      <td>-0.81</td>\n",
       "      <td>2700.0</td>\n",
       "      <td>2615.00</td>\n",
       "    </tr>\n",
       "    <tr>\n",
       "      <th>13</th>\n",
       "      <td>2017-02-22</td>\n",
       "      <td>12/2016</td>\n",
       "      <td>-0.69</td>\n",
       "      <td>/ -0.43</td>\n",
       "      <td>2.28B</td>\n",
       "      <td>/ 2169M</td>\n",
       "      <td>2016-12-01</td>\n",
       "      <td>-0.43</td>\n",
       "      <td>2280.0</td>\n",
       "      <td>2169.00</td>\n",
       "    </tr>\n",
       "    <tr>\n",
       "      <th>14</th>\n",
       "      <td>2016-10-26</td>\n",
       "      <td>09/2016</td>\n",
       "      <td>0.71</td>\n",
       "      <td>/ -0.58</td>\n",
       "      <td>2.30B</td>\n",
       "      <td>/ 2005M</td>\n",
       "      <td>2016-09-01</td>\n",
       "      <td>-0.58</td>\n",
       "      <td>2300.0</td>\n",
       "      <td>2005.00</td>\n",
       "    </tr>\n",
       "    <tr>\n",
       "      <th>15</th>\n",
       "      <td>2016-08-03</td>\n",
       "      <td>06/2016</td>\n",
       "      <td>0.71</td>\n",
       "      <td>/ -0.52</td>\n",
       "      <td>1.27B</td>\n",
       "      <td>/ 1630M</td>\n",
       "      <td>2016-06-01</td>\n",
       "      <td>-0.52</td>\n",
       "      <td>1270.0</td>\n",
       "      <td>1630.00</td>\n",
       "    </tr>\n",
       "    <tr>\n",
       "      <th>16</th>\n",
       "      <td>2016-05-04</td>\n",
       "      <td>03/2016</td>\n",
       "      <td>-1.06</td>\n",
       "      <td>/ -0.58</td>\n",
       "      <td>1.15B</td>\n",
       "      <td>/ 1597M</td>\n",
       "      <td>2016-03-01</td>\n",
       "      <td>-0.58</td>\n",
       "      <td>1150.0</td>\n",
       "      <td>1597.00</td>\n",
       "    </tr>\n",
       "    <tr>\n",
       "      <th>17</th>\n",
       "      <td>2016-02-10</td>\n",
       "      <td>12/2015</td>\n",
       "      <td>-0.57</td>\n",
       "      <td>/ 0.10</td>\n",
       "      <td>1.21B</td>\n",
       "      <td>/ 1792M</td>\n",
       "      <td>2015-12-01</td>\n",
       "      <td>0.10</td>\n",
       "      <td>1210.0</td>\n",
       "      <td>1792.00</td>\n",
       "    </tr>\n",
       "    <tr>\n",
       "      <th>18</th>\n",
       "      <td>2015-11-03</td>\n",
       "      <td>09/2015</td>\n",
       "      <td>-0.87</td>\n",
       "      <td>/ -0.50</td>\n",
       "      <td>936.8M</td>\n",
       "      <td>/ 1261M</td>\n",
       "      <td>2015-09-01</td>\n",
       "      <td>-0.50</td>\n",
       "      <td>936.8</td>\n",
       "      <td>1261.00</td>\n",
       "    </tr>\n",
       "    <tr>\n",
       "      <th>19</th>\n",
       "      <td>2015-08-05</td>\n",
       "      <td>06/2015</td>\n",
       "      <td>-0.48</td>\n",
       "      <td>/ -0.60</td>\n",
       "      <td>955.0M</td>\n",
       "      <td>/ 1176M</td>\n",
       "      <td>2015-06-01</td>\n",
       "      <td>-0.60</td>\n",
       "      <td>955.0</td>\n",
       "      <td>1176.00</td>\n",
       "    </tr>\n",
       "    <tr>\n",
       "      <th>20</th>\n",
       "      <td>2015-05-06</td>\n",
       "      <td>03/2015</td>\n",
       "      <td>-0.36</td>\n",
       "      <td>/ -0.50</td>\n",
       "      <td>939.9M</td>\n",
       "      <td>/ 1043M</td>\n",
       "      <td>2015-03-01</td>\n",
       "      <td>-0.50</td>\n",
       "      <td>939.9</td>\n",
       "      <td>1043.00</td>\n",
       "    </tr>\n",
       "    <tr>\n",
       "      <th>21</th>\n",
       "      <td>2015-02-11</td>\n",
       "      <td>12/2014</td>\n",
       "      <td>-0.13</td>\n",
       "      <td>/ 0.31</td>\n",
       "      <td>956.7M</td>\n",
       "      <td>/ 1225M</td>\n",
       "      <td>2014-12-01</td>\n",
       "      <td>0.31</td>\n",
       "      <td>956.7</td>\n",
       "      <td>1225.00</td>\n",
       "    </tr>\n",
       "    <tr>\n",
       "      <th>22</th>\n",
       "      <td>2014-11-05</td>\n",
       "      <td>09/2014</td>\n",
       "      <td>0.02</td>\n",
       "      <td>/ -0.01</td>\n",
       "      <td>851.8M</td>\n",
       "      <td>/ 889.28M</td>\n",
       "      <td>2014-09-01</td>\n",
       "      <td>-0.01</td>\n",
       "      <td>851.8</td>\n",
       "      <td>889.28</td>\n",
       "    </tr>\n",
       "    <tr>\n",
       "      <th>23</th>\n",
       "      <td>2014-07-31</td>\n",
       "      <td>06/2014</td>\n",
       "      <td>0.11</td>\n",
       "      <td>/ 0.04</td>\n",
       "      <td>1.39B</td>\n",
       "      <td>/ 810.61M</td>\n",
       "      <td>2014-06-01</td>\n",
       "      <td>0.04</td>\n",
       "      <td>1390.0</td>\n",
       "      <td>810.61</td>\n",
       "    </tr>\n",
       "  </tbody>\n",
       "</table>\n",
       "</div>"
      ],
      "text/plain": [
       "   Release Date Period End    EPS / Forecast Revenue / Forecast.1  Period_End  \\\n",
       "1    2020-01-29    12/2019   2.14     / 1.72   7.38B      / 7020M  2019-12-01   \n",
       "2    2019-10-23    09/2019   1.86    / -0.46    6.3B      / 6.43B  2019-09-01   \n",
       "3    2019-07-24    06/2019  -1.12    / -0.35   6.35B      / 6.47B  2019-06-01   \n",
       "4    2019-04-24    03/2019   -2.9    / -1.12   4.54B      / 5.45B  2019-03-01   \n",
       "5    2019-01-30    12/2018   1.93      / 2.2   7.23B      / 7.12B  2018-12-01   \n",
       "6    2018-10-24    09/2018    2.9    / -0.03   6.82B      / 6.05B  2018-09-01   \n",
       "7    2018-08-01    06/2018  -3.06    / -2.88      4B      / 3.99B  2018-06-01   \n",
       "8    2018-05-02    03/2018  -3.35    / -3.53   3.41B      / 3.27B  2018-03-01   \n",
       "9    2018-02-07    12/2017  -3.04    / -3.12   3.29B      / 3280M  2017-12-01   \n",
       "10   2017-11-01    09/2017  -2.92    / -2.29   2.98B      / 2948M  2017-09-01   \n",
       "11   2017-08-02    06/2017  -1.33    / -1.82   2.79B      / 2513M  2017-06-01   \n",
       "12   2017-05-03    03/2017  -1.33    / -0.81   2.70B      / 2615M  2017-03-01   \n",
       "13   2017-02-22    12/2016  -0.69    / -0.43   2.28B      / 2169M  2016-12-01   \n",
       "14   2016-10-26    09/2016   0.71    / -0.58   2.30B      / 2005M  2016-09-01   \n",
       "15   2016-08-03    06/2016   0.71    / -0.52   1.27B      / 1630M  2016-06-01   \n",
       "16   2016-05-04    03/2016  -1.06    / -0.58   1.15B      / 1597M  2016-03-01   \n",
       "17   2016-02-10    12/2015  -0.57     / 0.10   1.21B      / 1792M  2015-12-01   \n",
       "18   2015-11-03    09/2015  -0.87    / -0.50  936.8M      / 1261M  2015-09-01   \n",
       "19   2015-08-05    06/2015  -0.48    / -0.60  955.0M      / 1176M  2015-06-01   \n",
       "20   2015-05-06    03/2015  -0.36    / -0.50  939.9M      / 1043M  2015-03-01   \n",
       "21   2015-02-11    12/2014  -0.13     / 0.31  956.7M      / 1225M  2014-12-01   \n",
       "22   2014-11-05    09/2014   0.02    / -0.01  851.8M    / 889.28M  2014-09-01   \n",
       "23   2014-07-31    06/2014   0.11     / 0.04   1.39B    / 810.61M  2014-06-01   \n",
       "\n",
       "   Forecast_EPS  Revenue2  Forecast_Revenue  \n",
       "1          1.72    7380.0           7020.00  \n",
       "2         -0.46    6300.0           6430.00  \n",
       "3         -0.35    6350.0           6470.00  \n",
       "4         -1.12    4540.0           5450.00  \n",
       "5           2.2    7230.0           7120.00  \n",
       "6         -0.03    6820.0           6050.00  \n",
       "7         -2.88    4000.0           3990.00  \n",
       "8         -3.53    3410.0           3270.00  \n",
       "9         -3.12    3290.0           3280.00  \n",
       "10        -2.29    2980.0           2948.00  \n",
       "11        -1.82    2790.0           2513.00  \n",
       "12        -0.81    2700.0           2615.00  \n",
       "13        -0.43    2280.0           2169.00  \n",
       "14        -0.58    2300.0           2005.00  \n",
       "15        -0.52    1270.0           1630.00  \n",
       "16        -0.58    1150.0           1597.00  \n",
       "17         0.10    1210.0           1792.00  \n",
       "18        -0.50     936.8           1261.00  \n",
       "19        -0.60     955.0           1176.00  \n",
       "20        -0.50     939.9           1043.00  \n",
       "21         0.31     956.7           1225.00  \n",
       "22        -0.01     851.8            889.28  \n",
       "23         0.04    1390.0            810.61  "
      ]
     },
     "execution_count": 242,
     "metadata": {},
     "output_type": "execute_result"
    }
   ],
   "source": [
    "df['Release Date']=pd.to_datetime(df['Release Date']).dt.date\n",
    "#df['Period End']='30/'+df['Period End']\n",
    "df['Period_End']=pd.to_datetime(df['Period End']).dt.date\n",
    "df=df.replace('[,]', '', regex=True)\n",
    "df['Forecast_EPS']=df['/ Forecast'].replace('/', '', regex=True)\n",
    "df['Revenue2']=df['Revenue'].replace('M', '', regex=True)\n",
    "df['Revenue2']=df['Revenue2'].apply(lambda x: x.replace('.', '') if x.endswith('B') else x)\n",
    "df['Revenue2']=df['Revenue2'].apply(lambda x: x.replace('B', '00') if x.endswith('B') and len(x)==3 else x)\n",
    "df['Revenue2']=df['Revenue2'].apply(lambda x: x.replace('B', '000') if x.endswith('B') and len(x)==2 else x)\n",
    "df['Revenue2']=df['Revenue2'].apply(lambda x: x.replace('B', '0') if x.endswith('B') else x)\n",
    "\n",
    "df['Revenue2']=df['Revenue2'].astype(float)\n",
    "df['Forecast_Revenue']=df['/ Forecast.1'].replace('/', '', regex=True)\n",
    "\n",
    "df['Forecast_Revenue']=df['Forecast_Revenue'].replace('[M]', '', regex=True)\n",
    "df['Forecast_Revenue']=df['Forecast_Revenue'].apply(lambda x: x.replace('.', '') if x.endswith('B') else x)\n",
    "df['Forecast_Revenue']=df['Forecast_Revenue'].apply(lambda x: x.replace('B', '00') if x.endswith('B') and len(x)==3 else x)\n",
    "df['Forecast_Revenue']=df['Forecast_Revenue'].apply(lambda x: x.replace('B', '000') if x.endswith('B') and len(x)==2 else x)\n",
    "df['Forecast_Revenue']=df['Forecast_Revenue'].apply(lambda x: x.replace('B', '0') if x.endswith('B') else x)\n",
    "\n",
    "df['Forecast_Revenue']=df['Forecast_Revenue'].astype(float)\n",
    "\n",
    "\n",
    "\n",
    "\n",
    "df"
   ]
  },
  {
   "cell_type": "code",
   "execution_count": 234,
   "metadata": {
    "ExecuteTime": {
     "end_time": "2020-02-19T22:32:09.573281Z",
     "start_time": "2020-02-19T22:32:09.564859Z"
    }
   },
   "outputs": [
    {
     "data": {
      "text/plain": [
       "3"
      ]
     },
     "execution_count": 234,
     "metadata": {},
     "output_type": "execute_result"
    }
   ],
   "source": [
    "len(df['Revenue2'][2])"
   ]
  },
  {
   "cell_type": "markdown",
   "metadata": {},
   "source": [
    "### API"
   ]
  },
  {
   "cell_type": "code",
   "execution_count": 95,
   "metadata": {
    "ExecuteTime": {
     "end_time": "2020-02-19T21:42:20.240637Z",
     "start_time": "2020-02-19T21:42:19.420943Z"
    }
   },
   "outputs": [],
   "source": [
    "#https://financialmodelingprep.com/developer/docs/companies-key-stats-free-api/#Python\n",
    "\n",
    "#'https://financialmodelingprep.com/api/v3/historical-price-full/AAPL'\n",
    "\n",
    "\n",
    "url = f'https://financialmodelingprep.com/api/v3/historical-price-full/{name_api}'\n",
    "response = requests.get(url)\n",
    "\n"
   ]
  },
  {
   "cell_type": "code",
   "execution_count": 96,
   "metadata": {
    "ExecuteTime": {
     "end_time": "2020-02-19T21:42:21.216921Z",
     "start_time": "2020-02-19T21:42:21.175082Z"
    }
   },
   "outputs": [],
   "source": [
    "result=response.json()\n",
    "result\n",
    "data=pd.DataFrame(json_normalize(result))"
   ]
  },
  {
   "cell_type": "code",
   "execution_count": 97,
   "metadata": {
    "ExecuteTime": {
     "end_time": "2020-02-19T21:42:22.152263Z",
     "start_time": "2020-02-19T21:42:22.145990Z"
    }
   },
   "outputs": [],
   "source": [
    "#data['historical'][0]"
   ]
  },
  {
   "cell_type": "code",
   "execution_count": 98,
   "metadata": {
    "ExecuteTime": {
     "end_time": "2020-02-19T21:42:23.448195Z",
     "start_time": "2020-02-19T21:42:23.343260Z"
    }
   },
   "outputs": [
    {
     "data": {
      "text/html": [
       "<div>\n",
       "<style scoped>\n",
       "    .dataframe tbody tr th:only-of-type {\n",
       "        vertical-align: middle;\n",
       "    }\n",
       "\n",
       "    .dataframe tbody tr th {\n",
       "        vertical-align: top;\n",
       "    }\n",
       "\n",
       "    .dataframe thead th {\n",
       "        text-align: right;\n",
       "    }\n",
       "</style>\n",
       "<table border=\"1\" class=\"dataframe\">\n",
       "  <thead>\n",
       "    <tr style=\"text-align: right;\">\n",
       "      <th></th>\n",
       "      <th>date</th>\n",
       "      <th>open</th>\n",
       "      <th>high</th>\n",
       "      <th>low</th>\n",
       "      <th>close</th>\n",
       "      <th>adjClose</th>\n",
       "      <th>volume</th>\n",
       "      <th>unadjustedVolume</th>\n",
       "      <th>change</th>\n",
       "      <th>changePercent</th>\n",
       "      <th>vwap</th>\n",
       "      <th>label</th>\n",
       "      <th>changeOverTime</th>\n",
       "    </tr>\n",
       "  </thead>\n",
       "  <tbody>\n",
       "    <tr>\n",
       "      <th>0</th>\n",
       "      <td>2015-02-19</td>\n",
       "      <td>205.00</td>\n",
       "      <td>212.44</td>\n",
       "      <td>203.75</td>\n",
       "      <td>211.71</td>\n",
       "      <td>211.71</td>\n",
       "      <td>5154100.0</td>\n",
       "      <td>5154100.0</td>\n",
       "      <td>-6.71</td>\n",
       "      <td>-3.273</td>\n",
       "      <td>209.30000</td>\n",
       "      <td>February 19, 15</td>\n",
       "      <td>-0.03273</td>\n",
       "    </tr>\n",
       "    <tr>\n",
       "      <th>1</th>\n",
       "      <td>2015-02-20</td>\n",
       "      <td>210.78</td>\n",
       "      <td>217.60</td>\n",
       "      <td>209.81</td>\n",
       "      <td>217.11</td>\n",
       "      <td>217.11</td>\n",
       "      <td>5982100.0</td>\n",
       "      <td>5982100.0</td>\n",
       "      <td>-6.33</td>\n",
       "      <td>-3.003</td>\n",
       "      <td>214.84000</td>\n",
       "      <td>February 20, 15</td>\n",
       "      <td>-0.03003</td>\n",
       "    </tr>\n",
       "    <tr>\n",
       "      <th>2</th>\n",
       "      <td>2015-02-23</td>\n",
       "      <td>215.66</td>\n",
       "      <td>218.20</td>\n",
       "      <td>206.33</td>\n",
       "      <td>207.34</td>\n",
       "      <td>207.34</td>\n",
       "      <td>8499800.0</td>\n",
       "      <td>8499800.0</td>\n",
       "      <td>8.32</td>\n",
       "      <td>3.858</td>\n",
       "      <td>210.62333</td>\n",
       "      <td>February 23, 15</td>\n",
       "      <td>0.03858</td>\n",
       "    </tr>\n",
       "    <tr>\n",
       "      <th>3</th>\n",
       "      <td>2015-02-24</td>\n",
       "      <td>207.29</td>\n",
       "      <td>207.29</td>\n",
       "      <td>201.70</td>\n",
       "      <td>204.11</td>\n",
       "      <td>204.11</td>\n",
       "      <td>6584900.0</td>\n",
       "      <td>6584900.0</td>\n",
       "      <td>3.18</td>\n",
       "      <td>1.534</td>\n",
       "      <td>204.36667</td>\n",
       "      <td>February 24, 15</td>\n",
       "      <td>0.01534</td>\n",
       "    </tr>\n",
       "    <tr>\n",
       "      <th>4</th>\n",
       "      <td>2015-02-25</td>\n",
       "      <td>204.94</td>\n",
       "      <td>207.14</td>\n",
       "      <td>202.58</td>\n",
       "      <td>203.76</td>\n",
       "      <td>203.76</td>\n",
       "      <td>3909500.0</td>\n",
       "      <td>3909500.0</td>\n",
       "      <td>1.18</td>\n",
       "      <td>0.576</td>\n",
       "      <td>204.49333</td>\n",
       "      <td>February 25, 15</td>\n",
       "      <td>0.00576</td>\n",
       "    </tr>\n",
       "    <tr>\n",
       "      <th>...</th>\n",
       "      <td>...</td>\n",
       "      <td>...</td>\n",
       "      <td>...</td>\n",
       "      <td>...</td>\n",
       "      <td>...</td>\n",
       "      <td>...</td>\n",
       "      <td>...</td>\n",
       "      <td>...</td>\n",
       "      <td>...</td>\n",
       "      <td>...</td>\n",
       "      <td>...</td>\n",
       "      <td>...</td>\n",
       "      <td>...</td>\n",
       "    </tr>\n",
       "    <tr>\n",
       "      <th>1253</th>\n",
       "      <td>2020-02-11</td>\n",
       "      <td>768.79</td>\n",
       "      <td>783.51</td>\n",
       "      <td>758.00</td>\n",
       "      <td>774.38</td>\n",
       "      <td>774.38</td>\n",
       "      <td>11697500.0</td>\n",
       "      <td>11697500.0</td>\n",
       "      <td>-5.59</td>\n",
       "      <td>-0.727</td>\n",
       "      <td>771.96333</td>\n",
       "      <td>February 11, 20</td>\n",
       "      <td>-0.00727</td>\n",
       "    </tr>\n",
       "    <tr>\n",
       "      <th>1254</th>\n",
       "      <td>2020-02-12</td>\n",
       "      <td>777.87</td>\n",
       "      <td>789.75</td>\n",
       "      <td>763.37</td>\n",
       "      <td>767.29</td>\n",
       "      <td>767.29</td>\n",
       "      <td>12022500.0</td>\n",
       "      <td>12022500.0</td>\n",
       "      <td>10.58</td>\n",
       "      <td>1.360</td>\n",
       "      <td>773.47000</td>\n",
       "      <td>February 12, 20</td>\n",
       "      <td>0.01360</td>\n",
       "    </tr>\n",
       "    <tr>\n",
       "      <th>1255</th>\n",
       "      <td>2020-02-13</td>\n",
       "      <td>741.84</td>\n",
       "      <td>818.00</td>\n",
       "      <td>735.00</td>\n",
       "      <td>804.00</td>\n",
       "      <td>804.00</td>\n",
       "      <td>26289300.0</td>\n",
       "      <td>26289300.0</td>\n",
       "      <td>-62.16</td>\n",
       "      <td>-8.379</td>\n",
       "      <td>785.66667</td>\n",
       "      <td>February 13, 20</td>\n",
       "      <td>-0.08379</td>\n",
       "    </tr>\n",
       "    <tr>\n",
       "      <th>1256</th>\n",
       "      <td>2020-02-14</td>\n",
       "      <td>787.22</td>\n",
       "      <td>812.97</td>\n",
       "      <td>785.50</td>\n",
       "      <td>800.03</td>\n",
       "      <td>800.03</td>\n",
       "      <td>15693711.0</td>\n",
       "      <td>15693711.0</td>\n",
       "      <td>-12.81</td>\n",
       "      <td>-1.627</td>\n",
       "      <td>799.50000</td>\n",
       "      <td>February 14, 20</td>\n",
       "      <td>-0.01627</td>\n",
       "    </tr>\n",
       "    <tr>\n",
       "      <th>1257</th>\n",
       "      <td>2020-02-18</td>\n",
       "      <td>841.60</td>\n",
       "      <td>860.00</td>\n",
       "      <td>832.36</td>\n",
       "      <td>858.40</td>\n",
       "      <td>858.40</td>\n",
       "      <td>16060166.0</td>\n",
       "      <td>16060166.0</td>\n",
       "      <td>-16.80</td>\n",
       "      <td>-1.996</td>\n",
       "      <td>850.25333</td>\n",
       "      <td>February 18, 20</td>\n",
       "      <td>-0.01996</td>\n",
       "    </tr>\n",
       "  </tbody>\n",
       "</table>\n",
       "<p>1258 rows × 13 columns</p>\n",
       "</div>"
      ],
      "text/plain": [
       "            date    open    high     low   close  adjClose      volume  \\\n",
       "0     2015-02-19  205.00  212.44  203.75  211.71    211.71   5154100.0   \n",
       "1     2015-02-20  210.78  217.60  209.81  217.11    217.11   5982100.0   \n",
       "2     2015-02-23  215.66  218.20  206.33  207.34    207.34   8499800.0   \n",
       "3     2015-02-24  207.29  207.29  201.70  204.11    204.11   6584900.0   \n",
       "4     2015-02-25  204.94  207.14  202.58  203.76    203.76   3909500.0   \n",
       "...          ...     ...     ...     ...     ...       ...         ...   \n",
       "1253  2020-02-11  768.79  783.51  758.00  774.38    774.38  11697500.0   \n",
       "1254  2020-02-12  777.87  789.75  763.37  767.29    767.29  12022500.0   \n",
       "1255  2020-02-13  741.84  818.00  735.00  804.00    804.00  26289300.0   \n",
       "1256  2020-02-14  787.22  812.97  785.50  800.03    800.03  15693711.0   \n",
       "1257  2020-02-18  841.60  860.00  832.36  858.40    858.40  16060166.0   \n",
       "\n",
       "      unadjustedVolume  change  changePercent       vwap            label  \\\n",
       "0            5154100.0   -6.71         -3.273  209.30000  February 19, 15   \n",
       "1            5982100.0   -6.33         -3.003  214.84000  February 20, 15   \n",
       "2            8499800.0    8.32          3.858  210.62333  February 23, 15   \n",
       "3            6584900.0    3.18          1.534  204.36667  February 24, 15   \n",
       "4            3909500.0    1.18          0.576  204.49333  February 25, 15   \n",
       "...                ...     ...            ...        ...              ...   \n",
       "1253        11697500.0   -5.59         -0.727  771.96333  February 11, 20   \n",
       "1254        12022500.0   10.58          1.360  773.47000  February 12, 20   \n",
       "1255        26289300.0  -62.16         -8.379  785.66667  February 13, 20   \n",
       "1256        15693711.0  -12.81         -1.627  799.50000  February 14, 20   \n",
       "1257        16060166.0  -16.80         -1.996  850.25333  February 18, 20   \n",
       "\n",
       "      changeOverTime  \n",
       "0           -0.03273  \n",
       "1           -0.03003  \n",
       "2            0.03858  \n",
       "3            0.01534  \n",
       "4            0.00576  \n",
       "...              ...  \n",
       "1253        -0.00727  \n",
       "1254         0.01360  \n",
       "1255        -0.08379  \n",
       "1256        -0.01627  \n",
       "1257        -0.01996  \n",
       "\n",
       "[1258 rows x 13 columns]"
      ]
     },
     "execution_count": 98,
     "metadata": {},
     "output_type": "execute_result"
    }
   ],
   "source": [
    "data2=json_normalize(data['historical'][0])\n",
    "data2"
   ]
  },
  {
   "cell_type": "code",
   "execution_count": 99,
   "metadata": {
    "ExecuteTime": {
     "end_time": "2020-02-19T21:42:24.446757Z",
     "start_time": "2020-02-19T21:42:24.432932Z"
    }
   },
   "outputs": [
    {
     "name": "stderr",
     "output_type": "stream",
     "text": [
      "/usr/local/lib/python3.7/site-packages/ipykernel_launcher.py:2: SettingWithCopyWarning: \n",
      "A value is trying to be set on a copy of a slice from a DataFrame.\n",
      "Try using .loc[row_indexer,col_indexer] = value instead\n",
      "\n",
      "See the caveats in the documentation: http://pandas.pydata.org/pandas-docs/stable/user_guide/indexing.html#returning-a-view-versus-a-copy\n",
      "  \n"
     ]
    }
   ],
   "source": [
    "data3=data2[['date','open','close','volume','change','changePercent','vwap']]\n",
    "data3['date']=pd.to_datetime(data3['date']).dt.date"
   ]
  },
  {
   "cell_type": "code",
   "execution_count": 100,
   "metadata": {
    "ExecuteTime": {
     "end_time": "2020-02-19T21:42:25.928539Z",
     "start_time": "2020-02-19T21:42:25.912458Z"
    }
   },
   "outputs": [
    {
     "data": {
      "text/html": [
       "<div>\n",
       "<style scoped>\n",
       "    .dataframe tbody tr th:only-of-type {\n",
       "        vertical-align: middle;\n",
       "    }\n",
       "\n",
       "    .dataframe tbody tr th {\n",
       "        vertical-align: top;\n",
       "    }\n",
       "\n",
       "    .dataframe thead th {\n",
       "        text-align: right;\n",
       "    }\n",
       "</style>\n",
       "<table border=\"1\" class=\"dataframe\">\n",
       "  <thead>\n",
       "    <tr style=\"text-align: right;\">\n",
       "      <th></th>\n",
       "      <th>date</th>\n",
       "      <th>open</th>\n",
       "      <th>close</th>\n",
       "      <th>volume</th>\n",
       "      <th>change</th>\n",
       "      <th>changePercent</th>\n",
       "      <th>vwap</th>\n",
       "    </tr>\n",
       "  </thead>\n",
       "  <tbody>\n",
       "    <tr>\n",
       "      <th>0</th>\n",
       "      <td>2015-02-19</td>\n",
       "      <td>205.00</td>\n",
       "      <td>211.71</td>\n",
       "      <td>5154100.0</td>\n",
       "      <td>-6.71</td>\n",
       "      <td>-3.273</td>\n",
       "      <td>209.30000</td>\n",
       "    </tr>\n",
       "    <tr>\n",
       "      <th>1</th>\n",
       "      <td>2015-02-20</td>\n",
       "      <td>210.78</td>\n",
       "      <td>217.11</td>\n",
       "      <td>5982100.0</td>\n",
       "      <td>-6.33</td>\n",
       "      <td>-3.003</td>\n",
       "      <td>214.84000</td>\n",
       "    </tr>\n",
       "    <tr>\n",
       "      <th>2</th>\n",
       "      <td>2015-02-23</td>\n",
       "      <td>215.66</td>\n",
       "      <td>207.34</td>\n",
       "      <td>8499800.0</td>\n",
       "      <td>8.32</td>\n",
       "      <td>3.858</td>\n",
       "      <td>210.62333</td>\n",
       "    </tr>\n",
       "    <tr>\n",
       "      <th>3</th>\n",
       "      <td>2015-02-24</td>\n",
       "      <td>207.29</td>\n",
       "      <td>204.11</td>\n",
       "      <td>6584900.0</td>\n",
       "      <td>3.18</td>\n",
       "      <td>1.534</td>\n",
       "      <td>204.36667</td>\n",
       "    </tr>\n",
       "    <tr>\n",
       "      <th>4</th>\n",
       "      <td>2015-02-25</td>\n",
       "      <td>204.94</td>\n",
       "      <td>203.76</td>\n",
       "      <td>3909500.0</td>\n",
       "      <td>1.18</td>\n",
       "      <td>0.576</td>\n",
       "      <td>204.49333</td>\n",
       "    </tr>\n",
       "  </tbody>\n",
       "</table>\n",
       "</div>"
      ],
      "text/plain": [
       "         date    open   close     volume  change  changePercent       vwap\n",
       "0  2015-02-19  205.00  211.71  5154100.0   -6.71         -3.273  209.30000\n",
       "1  2015-02-20  210.78  217.11  5982100.0   -6.33         -3.003  214.84000\n",
       "2  2015-02-23  215.66  207.34  8499800.0    8.32          3.858  210.62333\n",
       "3  2015-02-24  207.29  204.11  6584900.0    3.18          1.534  204.36667\n",
       "4  2015-02-25  204.94  203.76  3909500.0    1.18          0.576  204.49333"
      ]
     },
     "execution_count": 100,
     "metadata": {},
     "output_type": "execute_result"
    }
   ],
   "source": [
    "data3.head(5)"
   ]
  },
  {
   "cell_type": "code",
   "execution_count": 200,
   "metadata": {
    "ExecuteTime": {
     "end_time": "2020-02-19T22:23:30.636511Z",
     "start_time": "2020-02-19T22:23:30.282270Z"
    }
   },
   "outputs": [
    {
     "data": {
      "text/plain": [
       "[<matplotlib.lines.Line2D at 0x11ea98950>]"
      ]
     },
     "execution_count": 200,
     "metadata": {},
     "output_type": "execute_result"
    },
    {
     "data": {
      "image/png": "[encoded data removed]",
      "text/plain": [
       "<Figure size 1080x504 with 1 Axes>"
      ]
     },
     "metadata": {
      "needs_background": "light"
     },
     "output_type": "display_data"
    }
   ],
   "source": [
    "# Requirement 1\n",
    "fig,ax = plt.subplots(nrows=1,ncols=1,figsize=(15,7),subplot_kw = {'title' :companies_dropdown.value})\n",
    "\n",
    "\n",
    "ax.plot(data3.date,data3.open,\n",
    "       linewidth=2.5,color='darkmagenta',label=2014)\n",
    "\n",
    "\n"
   ]
  },
  {
   "cell_type": "code",
   "execution_count": 243,
   "metadata": {
    "ExecuteTime": {
     "end_time": "2020-02-19T22:33:30.105285Z",
     "start_time": "2020-02-19T22:33:29.788496Z"
    }
   },
   "outputs": [
    {
     "data": {
      "text/plain": [
       "[<matplotlib.lines.Line2D at 0x11ea055d0>]"
      ]
     },
     "execution_count": 243,
     "metadata": {},
     "output_type": "execute_result"
    },
    {
     "data": {
      "image/png": "[encoded data removed]",
      "text/plain": [
       "<Figure size 1080x504 with 1 Axes>"
      ]
     },
     "metadata": {
      "needs_background": "light"
     },
     "output_type": "display_data"
    }
   ],
   "source": [
    "fig,ax = plt.subplots(nrows=1,ncols=1,figsize=(15,7),subplot_kw = {'title' :companies_dropdown.value})\n",
    "\n",
    "\n",
    "ax.plot(df.Period_End,df.Revenue2,\n",
    "        linewidth=2,\n",
    "       color='grey',\n",
    "       alpha=0.3,\n",
    "        marker = 'o', \n",
    "        markersize = 5,\n",
    "        markeredgecolor = 'black',\n",
    "        markeredgewidth = 2)\n",
    "\n",
    "ax.plot(df.Period_End,df.Forecast_Revenue,\n",
    "        linewidth=2,\n",
    "       color='darkblue',\n",
    "       alpha=0.3,\n",
    "        marker = 'o', \n",
    "        markersize = 5,\n",
    "        markeredgecolor = 'black',\n",
    "        markeredgewidth = 2)\n",
    "\n"
   ]
  },
  {
   "cell_type": "code",
   "execution_count": null,
   "metadata": {
    "ExecuteTime": {
     "end_time": "2020-02-19T19:00:26.667030Z",
     "start_time": "2020-02-19T19:00:26.530468Z"
    }
   },
   "outputs": [],
   "source": []
  },
  {
   "cell_type": "code",
   "execution_count": 70,
   "metadata": {
    "ExecuteTime": {
     "end_time": "2020-02-19T20:22:30.352846Z",
     "start_time": "2020-02-19T20:22:08.442921Z"
    }
   },
   "outputs": [],
   "source": [
    "\n"
   ]
  },
  {
   "cell_type": "code",
   "execution_count": null,
   "metadata": {},
   "outputs": [],
   "source": []
  }
 ],
 "metadata": {
  "kernelspec": {
   "display_name": "Python 3",
   "language": "python",
   "name": "python3"
  },
  "language_info": {
   "codemirror_mode": {
    "name": "ipython",
    "version": 3
   },
   "file_extension": ".py",
   "mimetype": "text/x-python",
   "name": "python",
   "nbconvert_exporter": "python",
   "pygments_lexer": "ipython3",
   "version": "3.7.4"
  },
  "varInspector": {
   "cols": {
    "lenName": 16,
    "lenType": 16,
    "lenVar": 40
   },
   "kernels_config": {
    "python": {
     "delete_cmd_postfix": "",
     "delete_cmd_prefix": "del ",
     "library": "var_list.py",
     "varRefreshCmd": "print(var_dic_list())"
    },
    "r": {
     "delete_cmd_postfix": ") ",
     "delete_cmd_prefix": "rm(",
     "library": "var_list.r",
     "varRefreshCmd": "cat(var_dic_list()) "
    }
   },
   "types_to_exclude": [
    "module",
    "function",
    "builtin_function_or_method",
    "instance",
    "_Feature"
   ],
   "window_display": false
  }
 },
 "nbformat": 4,
 "nbformat_minor": 2
}
