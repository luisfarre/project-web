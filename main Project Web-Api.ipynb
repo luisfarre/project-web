{
 "cells": [
  {
   "cell_type": "markdown",
   "metadata": {},
   "source": [
    "# WEB SCRAPING + APIs PROJECT"
   ]
  },
  {
   "cell_type": "markdown",
   "metadata": {
    "heading_collapsed": true
   },
   "source": [
    "## Description"
   ]
  },
  {
   "cell_type": "markdown",
   "metadata": {
    "ExecuteTime": {
     "end_time": "2020-02-19T23:34:27.210488Z",
     "start_time": "2020-02-19T23:34:27.197064Z"
    },
    "hidden": true
   },
   "source": [
    "Creator: Luis Farre\n",
    "Date: 20/02/2020\n",
    "\n",
    "Description: El objetivo de este proyecto es obtener los datos necesarios \n",
    "para entender si existe una correlacion entre la cotizacion de las acciones \n",
    "de una empresa con la facturacion de esta.\n",
    "\n",
    "Para ello se ha sacado informacion sobre los resultados de www.investing.com\n",
    "Y se ha utilizado la api www.financialmodelingprep.com para obtener la evolucion de la cotizacion.\n"
   ]
  },
  {
   "cell_type": "markdown",
   "metadata": {
    "heading_collapsed": true
   },
   "source": [
    "## Imports"
   ]
  },
  {
   "cell_type": "code",
   "execution_count": 1,
   "metadata": {
    "ExecuteTime": {
     "end_time": "2020-02-20T21:33:55.917078Z",
     "start_time": "2020-02-20T21:33:54.623578Z"
    },
    "hidden": true
   },
   "outputs": [],
   "source": [
    "import json\n",
    "import requests\n",
    "import numpy as np\n",
    "import pandas as pd\n",
    "import base64\n",
    "from bs4 import BeautifulSoup\n",
    "from pandas.io.json import json_normalize\n",
    "import matplotlib.pyplot as plt\n",
    "%matplotlib inline\n",
    "from matplotlib import ticker\n",
    "import ipywidgets as widgets\n",
    "from IPython.display import display\n",
    "import re\n",
    "import time\n",
    "from selenium import webdriver"
   ]
  },
  {
   "cell_type": "markdown",
   "metadata": {
    "heading_collapsed": true
   },
   "source": [
    "## Web Scraping"
   ]
  },
  {
   "cell_type": "markdown",
   "metadata": {
    "heading_collapsed": true,
    "hidden": true
   },
   "source": [
    "### Unites States 50 Companies"
   ]
  },
  {
   "cell_type": "code",
   "execution_count": 2,
   "metadata": {
    "ExecuteTime": {
     "end_time": "2020-02-20T21:34:07.032096Z",
     "start_time": "2020-02-20T21:34:04.594180Z"
    },
    "hidden": true
   },
   "outputs": [],
   "source": [
    "'''Se inspecciona la web y medinte el id, se saca la informacion completa de la tabla'''\n",
    "\n",
    "\n",
    "url='https://investing.com/equities'\n",
    "headers = {'user-agent': 'Mozilla/5.0 (Macintosh; Intel Mac OS X 10_14_6) AppleWebKit/537.36 (KHTML, like Gecko) Chrome/79.0.3945.130 Safari/537.36'}\n",
    "\n",
    "html=requests.get(url,headers=headers).content\n",
    "soup=BeautifulSoup(html,'lxml')\n",
    "\n",
    "table = soup.find_all('table',{'id':'cross_rate_markets_stocks_1'})[0]"
   ]
  },
  {
   "cell_type": "code",
   "execution_count": 3,
   "metadata": {
    "ExecuteTime": {
     "end_time": "2020-02-20T21:34:08.786246Z",
     "start_time": "2020-02-20T21:34:08.780057Z"
    },
    "hidden": true
   },
   "outputs": [],
   "source": [
    "rows=table.find_all('tr')\n",
    "rows=rows[1:]"
   ]
  },
  {
   "cell_type": "code",
   "execution_count": 4,
   "metadata": {
    "ExecuteTime": {
     "end_time": "2020-02-20T21:34:09.876967Z",
     "start_time": "2020-02-20T21:34:09.868958Z"
    },
    "hidden": true
   },
   "outputs": [],
   "source": [
    "'''Se obtienen los nombres de todas las empresas y los \n",
    "links especificos para entrar a ver el perfil y la informacion de cada una de ellas'''\n",
    "\n",
    "titles = [row.a.get('title') for row in rows]\n",
    "links = [row.a.get('href') for row in rows]"
   ]
  },
  {
   "cell_type": "markdown",
   "metadata": {
    "heading_collapsed": true,
    "hidden": true
   },
   "source": [
    "### Widget to choose Company"
   ]
  },
  {
   "cell_type": "code",
   "execution_count": 20,
   "metadata": {
    "ExecuteTime": {
     "end_time": "2020-02-20T21:37:07.051943Z",
     "start_time": "2020-02-20T21:37:07.045674Z"
    },
    "hidden": true
   },
   "outputs": [],
   "source": [
    "'''Se crea un diccionario con todas las empresas de la tabla como key y el link como value'''\n",
    "\n",
    "dict_companies = { titles[i] : links[i] for i in range(len(titles)) }"
   ]
  },
  {
   "cell_type": "code",
   "execution_count": 21,
   "metadata": {
    "ExecuteTime": {
     "end_time": "2020-02-20T21:37:45.699459Z",
     "start_time": "2020-02-20T21:37:45.675188Z"
    },
    "hidden": true
   },
   "outputs": [
    {
     "data": {
      "application/vnd.jupyter.widget-view+json": {
       "model_id": "9a42d24f858346879094dd93f5d1807a",
       "version_major": 2,
       "version_minor": 0
      },
      "text/plain": [
       "Dropdown(description='Company:', options=('Chevron Corp', 'Citigroup Inc', 'Bank of America Corp', 'AT&T Inc',…"
      ]
     },
     "metadata": {},
     "output_type": "display_data"
    }
   ],
   "source": [
    "'''Se genera un widget Dropdown que permita seleccionar la empresa que se quiere hacer el analysis'''\n",
    "companies_dropdown=widgets.Dropdown(options=titles,description='Company:')\n",
    "companies_dropdown"
   ]
  },
  {
   "cell_type": "code",
   "execution_count": 23,
   "metadata": {
    "ExecuteTime": {
     "end_time": "2020-02-20T21:38:39.880509Z",
     "start_time": "2020-02-20T21:38:39.870333Z"
    },
    "hidden": true
   },
   "outputs": [
    {
     "data": {
      "text/plain": [
       "'/equities/mcdonalds'"
      ]
     },
     "execution_count": 23,
     "metadata": {},
     "output_type": "execute_result"
    }
   ],
   "source": [
    "'''Se obtiene el value (link) de aquella empresa para poder acceder \n",
    "a la informacion especifica posteriormente'''\n",
    "\n",
    "company_web=dict_companies.get(companies_dropdown.value)\n",
    "company_web"
   ]
  },
  {
   "cell_type": "markdown",
   "metadata": {
    "heading_collapsed": true,
    "hidden": true
   },
   "source": [
    "### Find Company acronym for API call"
   ]
  },
  {
   "cell_type": "code",
   "execution_count": 25,
   "metadata": {
    "ExecuteTime": {
     "end_time": "2020-02-20T21:40:06.544949Z",
     "start_time": "2020-02-20T21:40:05.665531Z"
    },
    "hidden": true
   },
   "outputs": [],
   "source": [
    "'''Se realiza web scraping dentro del perfil de la empresa seleccionada'''\n",
    "\n",
    "url=f'https://investing.com{company_web}-earnings'\n",
    "headers = {'user-agent': 'Mozilla/5.0 (Macintosh; Intel Mac OS X 10_14_6) AppleWebKit/537.36 (KHTML, like Gecko) Chrome/79.0.3945.130 Safari/537.36'}\n",
    "\n",
    "#https://es.investing.com/equities/morehistory\n",
    "\n",
    "html=requests.get(url,headers=headers).content\n",
    "soup=BeautifulSoup(html,'lxml')"
   ]
  },
  {
   "cell_type": "code",
   "execution_count": 27,
   "metadata": {
    "ExecuteTime": {
     "end_time": "2020-02-20T21:40:22.998250Z",
     "start_time": "2020-02-20T21:40:22.929152Z"
    },
    "hidden": true
   },
   "outputs": [
    {
     "data": {
      "text/plain": [
       "'MCD'"
      ]
     },
     "execution_count": 27,
     "metadata": {},
     "output_type": "execute_result"
    }
   ],
   "source": [
    "'''Se obtiene el acronimo de la empresa para poder posteriormente hacer el request a la API'''\n",
    "\n",
    "name_api = soup.find_all('h1',{'class':'float_lang_base_1 relativeAttr'})\n",
    "name_api = name_api[0].text.strip().split('\\n')\n",
    "name_api=re.findall('\\((.*)\\)',name_api[0])[0]\n",
    "name_api"
   ]
  },
  {
   "cell_type": "markdown",
   "metadata": {
    "heading_collapsed": true,
    "hidden": true
   },
   "source": [
    "###  Webdriver Company Results"
   ]
  },
  {
   "cell_type": "code",
   "execution_count": 28,
   "metadata": {
    "ExecuteTime": {
     "end_time": "2020-02-20T21:45:32.011742Z",
     "start_time": "2020-02-20T21:45:15.856062Z"
    },
    "hidden": true
   },
   "outputs": [
    {
     "data": {
      "text/html": [
       "<div>\n",
       "<style scoped>\n",
       "    .dataframe tbody tr th:only-of-type {\n",
       "        vertical-align: middle;\n",
       "    }\n",
       "\n",
       "    .dataframe tbody tr th {\n",
       "        vertical-align: top;\n",
       "    }\n",
       "\n",
       "    .dataframe thead th {\n",
       "        text-align: right;\n",
       "    }\n",
       "</style>\n",
       "<table border=\"1\" class=\"dataframe\">\n",
       "  <thead>\n",
       "    <tr style=\"text-align: right;\">\n",
       "      <th></th>\n",
       "      <th>Release Date</th>\n",
       "      <th>Period End</th>\n",
       "      <th>EPS</th>\n",
       "      <th>/ Forecast</th>\n",
       "      <th>Revenue</th>\n",
       "      <th>/ Forecast.1</th>\n",
       "    </tr>\n",
       "  </thead>\n",
       "  <tbody>\n",
       "    <tr>\n",
       "      <th>0</th>\n",
       "      <td>Apr 22, 2020</td>\n",
       "      <td>03/2020</td>\n",
       "      <td>--</td>\n",
       "      <td>/ 1.9</td>\n",
       "      <td>--</td>\n",
       "      <td>/ 5.14B</td>\n",
       "    </tr>\n",
       "    <tr>\n",
       "      <th>1</th>\n",
       "      <td>Jan 29, 2020</td>\n",
       "      <td>12/2019</td>\n",
       "      <td>1.97</td>\n",
       "      <td>/ 1.96</td>\n",
       "      <td>5.35B</td>\n",
       "      <td>/ 5.31B</td>\n",
       "    </tr>\n",
       "    <tr>\n",
       "      <th>2</th>\n",
       "      <td>Oct 22, 2019</td>\n",
       "      <td>09/2019</td>\n",
       "      <td>2.11</td>\n",
       "      <td>/ 2.21</td>\n",
       "      <td>5.43B</td>\n",
       "      <td>/ 5.49B</td>\n",
       "    </tr>\n",
       "    <tr>\n",
       "      <th>3</th>\n",
       "      <td>Jul 26, 2019</td>\n",
       "      <td>06/2019</td>\n",
       "      <td>2.05</td>\n",
       "      <td>/ 2.05</td>\n",
       "      <td>5.34B</td>\n",
       "      <td>/ 5.33B</td>\n",
       "    </tr>\n",
       "  </tbody>\n",
       "</table>\n",
       "</div>"
      ],
      "text/plain": [
       "   Release Date Period End   EPS / Forecast Revenue / Forecast.1\n",
       "0  Apr 22, 2020    03/2020    --      / 1.9      --      / 5.14B\n",
       "1  Jan 29, 2020    12/2019  1.97     / 1.96   5.35B      / 5.31B\n",
       "2  Oct 22, 2019    09/2019  2.11     / 2.21   5.43B      / 5.49B\n",
       "3  Jul 26, 2019    06/2019  2.05     / 2.05   5.34B      / 5.33B"
      ]
     },
     "execution_count": 28,
     "metadata": {},
     "output_type": "execute_result"
    }
   ],
   "source": [
    "'''Mediante webdriver se accede a la web de la empresa donde estan \n",
    "los resultados trimestrales y se hace click en el apartado \n",
    "show more 3 veces para poder hacer luego scraping y sacar la informacion de la tabla completa.\n",
    "\n",
    "La manera de hacerlo es mediante entrar a la web (driver), al ejecutar este codigo \n",
    "se abrira el navegador y ejecutara acciones en la web para mostrar la tabla.\n",
    "\n",
    "Se utiliza time.sleep para dar tiempo a la web a cargar la informacion\n",
    "\n",
    "Es necesario tener el chromedriver de la misma version que el navegador'''\n",
    "\n",
    "driver = webdriver.Chrome('/Users/inesgalofrebofill/Documents/Ironhack/chromedriver')\n",
    "driver.get(f'https://investing.com{company_web}-earnings');\n",
    "time.sleep(2)\n",
    "search_box = driver.find_elements_by_id('showMoreEarningsHistory')[0]\n",
    "search_box.click()\n",
    "time.sleep(2)\n",
    "search_box.click()\n",
    "time.sleep(2)\n",
    "search_box.click()\n",
    "\n",
    "time.sleep(2)\n",
    "df = pd.read_html(driver.page_source)[0]\n",
    "\n",
    "time.sleep(2)\n",
    "driver.quit()\n",
    "df.head(4)"
   ]
  },
  {
   "cell_type": "code",
   "execution_count": 29,
   "metadata": {
    "ExecuteTime": {
     "end_time": "2020-02-20T21:46:02.860369Z",
     "start_time": "2020-02-20T21:46:02.853501Z"
    },
    "hidden": true
   },
   "outputs": [],
   "source": [
    "'''Se elimina toda columna que no tenga importe de Revenue ya que es irrelevante para el analisis'''\n",
    "\n",
    "df=df[df.Revenue != '--']"
   ]
  },
  {
   "cell_type": "code",
   "execution_count": 34,
   "metadata": {
    "ExecuteTime": {
     "end_time": "2020-02-20T21:50:21.123464Z",
     "start_time": "2020-02-20T21:50:21.043543Z"
    },
    "hidden": true
   },
   "outputs": [
    {
     "data": {
      "text/html": [
       "<div>\n",
       "<style scoped>\n",
       "    .dataframe tbody tr th:only-of-type {\n",
       "        vertical-align: middle;\n",
       "    }\n",
       "\n",
       "    .dataframe tbody tr th {\n",
       "        vertical-align: top;\n",
       "    }\n",
       "\n",
       "    .dataframe thead th {\n",
       "        text-align: right;\n",
       "    }\n",
       "</style>\n",
       "<table border=\"1\" class=\"dataframe\">\n",
       "  <thead>\n",
       "    <tr style=\"text-align: right;\">\n",
       "      <th></th>\n",
       "      <th>Release Date</th>\n",
       "      <th>Period End</th>\n",
       "      <th>EPS</th>\n",
       "      <th>/ Forecast</th>\n",
       "      <th>Revenue</th>\n",
       "      <th>/ Forecast.1</th>\n",
       "      <th>Period_End</th>\n",
       "      <th>Forecast_EPS</th>\n",
       "      <th>Revenue2</th>\n",
       "      <th>Forecast_Revenue</th>\n",
       "    </tr>\n",
       "  </thead>\n",
       "  <tbody>\n",
       "    <tr>\n",
       "      <th>1</th>\n",
       "      <td>2020-01-29</td>\n",
       "      <td>12/2019</td>\n",
       "      <td>1.97</td>\n",
       "      <td>/ 1.96</td>\n",
       "      <td>5.35B</td>\n",
       "      <td>/ 5.31B</td>\n",
       "      <td>2019-12-01</td>\n",
       "      <td>1.96</td>\n",
       "      <td>5350.0</td>\n",
       "      <td>5310.0</td>\n",
       "    </tr>\n",
       "    <tr>\n",
       "      <th>2</th>\n",
       "      <td>2019-10-22</td>\n",
       "      <td>09/2019</td>\n",
       "      <td>2.11</td>\n",
       "      <td>/ 2.21</td>\n",
       "      <td>5.43B</td>\n",
       "      <td>/ 5.49B</td>\n",
       "      <td>2019-09-01</td>\n",
       "      <td>2.21</td>\n",
       "      <td>5430.0</td>\n",
       "      <td>5490.0</td>\n",
       "    </tr>\n",
       "    <tr>\n",
       "      <th>3</th>\n",
       "      <td>2019-07-26</td>\n",
       "      <td>06/2019</td>\n",
       "      <td>2.05</td>\n",
       "      <td>/ 2.05</td>\n",
       "      <td>5.34B</td>\n",
       "      <td>/ 5.33B</td>\n",
       "      <td>2019-06-01</td>\n",
       "      <td>2.05</td>\n",
       "      <td>5340.0</td>\n",
       "      <td>5330.0</td>\n",
       "    </tr>\n",
       "    <tr>\n",
       "      <th>4</th>\n",
       "      <td>2019-04-30</td>\n",
       "      <td>03/2019</td>\n",
       "      <td>1.72</td>\n",
       "      <td>/ 1.75</td>\n",
       "      <td>4.96B</td>\n",
       "      <td>/ 4.94B</td>\n",
       "      <td>2019-03-01</td>\n",
       "      <td>1.75</td>\n",
       "      <td>4960.0</td>\n",
       "      <td>4940.0</td>\n",
       "    </tr>\n",
       "  </tbody>\n",
       "</table>\n",
       "</div>"
      ],
      "text/plain": [
       "  Release Date Period End   EPS / Forecast Revenue / Forecast.1  Period_End  \\\n",
       "1   2020-01-29    12/2019  1.97     / 1.96   5.35B      / 5.31B  2019-12-01   \n",
       "2   2019-10-22    09/2019  2.11     / 2.21   5.43B      / 5.49B  2019-09-01   \n",
       "3   2019-07-26    06/2019  2.05     / 2.05   5.34B      / 5.33B  2019-06-01   \n",
       "4   2019-04-30    03/2019  1.72     / 1.75   4.96B      / 4.94B  2019-03-01   \n",
       "\n",
       "  Forecast_EPS  Revenue2  Forecast_Revenue  \n",
       "1         1.96    5350.0            5310.0  \n",
       "2         2.21    5430.0            5490.0  \n",
       "3         2.05    5340.0            5330.0  \n",
       "4         1.75    4960.0            4940.0  "
      ]
     },
     "execution_count": 34,
     "metadata": {},
     "output_type": "execute_result"
    }
   ],
   "source": [
    "'''Se utiliza Regex para limpiar un poco las columnas e intentar traducir las unidades B y M en numericas. \n",
    "Es algo que no se ha conseguido que funcione a la perfeccion. '''\n",
    "\n",
    "\n",
    "df['Release Date']=pd.to_datetime(df['Release Date']).dt.date\n",
    "df['Period_End']=pd.to_datetime(df['Period End']).dt.date\n",
    "df=df.replace('[,]', '', regex=True)\n",
    "df['Forecast_EPS']=df['/ Forecast'].replace('/', '', regex=True)\n",
    "df['Revenue2']=df['Revenue'].replace('M', '', regex=True)\n",
    "df['Revenue2']=df['Revenue2'].apply(lambda x: x.replace('.', '') if x.endswith('B') else x)\n",
    "df['Revenue2']=df['Revenue2'].apply(lambda x: x.replace('B', '00') if x.endswith('B') and len(x)==3 else x)\n",
    "df['Revenue2']=df['Revenue2'].apply(lambda x: x.replace('B', '000') if x.endswith('B') and len(x)==2 else x)\n",
    "df['Revenue2']=df['Revenue2'].apply(lambda x: x.replace('B', '0') if x.endswith('B') else x)\n",
    "\n",
    "df['Revenue2']=df['Revenue2'].astype(float)\n",
    "df['Forecast_Revenue']=df['/ Forecast.1'].replace('/', '', regex=True)\n",
    "\n",
    "df['Forecast_Revenue']=df['Forecast_Revenue'].replace('[M]', '', regex=True)\n",
    "df['Forecast_Revenue']=df['Forecast_Revenue'].apply(lambda x: x.replace('.', '') if x.endswith('B') else x)\n",
    "df['Forecast_Revenue']=df['Forecast_Revenue'].apply(lambda x: x.replace('B', '00') if x.endswith('B') and len(x)==3 else x)\n",
    "df['Forecast_Revenue']=df['Forecast_Revenue'].apply(lambda x: x.replace('B', '000') if x.endswith('B') and len(x)==2 else x)\n",
    "df['Forecast_Revenue']=df['Forecast_Revenue'].apply(lambda x: x.replace('B', '0') if x.endswith('B') else x)\n",
    "\n",
    "df['Forecast_Revenue']=df['Forecast_Revenue'].astype(float)\n",
    "\n",
    "df_entrega=df[['Release Date','Period End','Revenue2','Forecast_Revenue']]\n",
    "df_entrega.to_csv(f'Resultados_{name_api}.csv')\n",
    "df.head(4)"
   ]
  },
  {
   "cell_type": "markdown",
   "metadata": {
    "heading_collapsed": true
   },
   "source": [
    "## API"
   ]
  },
  {
   "cell_type": "markdown",
   "metadata": {
    "heading_collapsed": true,
    "hidden": true
   },
   "source": [
    "### API call daily stock price"
   ]
  },
  {
   "cell_type": "code",
   "execution_count": 35,
   "metadata": {
    "ExecuteTime": {
     "end_time": "2020-02-20T21:54:58.753454Z",
     "start_time": "2020-02-20T21:54:57.949069Z"
    },
    "hidden": true
   },
   "outputs": [],
   "source": [
    "'''Se utiliza la api de www.financialmodelingprep.com para \n",
    "obtener la cotizacion historica de la empresa seleccionada anteriormente '''\n",
    "\n",
    "url = f'https://financialmodelingprep.com/api/v3/historical-price-full/{name_api}'\n",
    "response = requests.get(url)\n"
   ]
  },
  {
   "cell_type": "code",
   "execution_count": 37,
   "metadata": {
    "ExecuteTime": {
     "end_time": "2020-02-20T21:55:23.207653Z",
     "start_time": "2020-02-20T21:55:23.100566Z"
    },
    "hidden": true
   },
   "outputs": [
    {
     "data": {
      "text/html": [
       "<div>\n",
       "<style scoped>\n",
       "    .dataframe tbody tr th:only-of-type {\n",
       "        vertical-align: middle;\n",
       "    }\n",
       "\n",
       "    .dataframe tbody tr th {\n",
       "        vertical-align: top;\n",
       "    }\n",
       "\n",
       "    .dataframe thead th {\n",
       "        text-align: right;\n",
       "    }\n",
       "</style>\n",
       "<table border=\"1\" class=\"dataframe\">\n",
       "  <thead>\n",
       "    <tr style=\"text-align: right;\">\n",
       "      <th></th>\n",
       "      <th>date</th>\n",
       "      <th>open</th>\n",
       "      <th>high</th>\n",
       "      <th>low</th>\n",
       "      <th>close</th>\n",
       "      <th>adjClose</th>\n",
       "      <th>volume</th>\n",
       "      <th>unadjustedVolume</th>\n",
       "      <th>change</th>\n",
       "      <th>changePercent</th>\n",
       "      <th>vwap</th>\n",
       "      <th>label</th>\n",
       "      <th>changeOverTime</th>\n",
       "    </tr>\n",
       "  </thead>\n",
       "  <tbody>\n",
       "    <tr>\n",
       "      <th>0</th>\n",
       "      <td>2015-02-20</td>\n",
       "      <td>94.16</td>\n",
       "      <td>94.49</td>\n",
       "      <td>93.56</td>\n",
       "      <td>94.19</td>\n",
       "      <td>82.53</td>\n",
       "      <td>8155000.0</td>\n",
       "      <td>8155000.0</td>\n",
       "      <td>-0.03</td>\n",
       "      <td>-0.032</td>\n",
       "      <td>94.08000</td>\n",
       "      <td>February 20, 15</td>\n",
       "      <td>-0.00032</td>\n",
       "    </tr>\n",
       "    <tr>\n",
       "      <th>1</th>\n",
       "      <td>2015-02-23</td>\n",
       "      <td>94.12</td>\n",
       "      <td>94.41</td>\n",
       "      <td>93.95</td>\n",
       "      <td>94.31</td>\n",
       "      <td>82.63</td>\n",
       "      <td>5682000.0</td>\n",
       "      <td>5682000.0</td>\n",
       "      <td>-0.19</td>\n",
       "      <td>-0.202</td>\n",
       "      <td>94.22333</td>\n",
       "      <td>February 23, 15</td>\n",
       "      <td>-0.00202</td>\n",
       "    </tr>\n",
       "  </tbody>\n",
       "</table>\n",
       "</div>"
      ],
      "text/plain": [
       "         date   open   high    low  close  adjClose     volume  \\\n",
       "0  2015-02-20  94.16  94.49  93.56  94.19     82.53  8155000.0   \n",
       "1  2015-02-23  94.12  94.41  93.95  94.31     82.63  5682000.0   \n",
       "\n",
       "   unadjustedVolume  change  changePercent      vwap            label  \\\n",
       "0         8155000.0   -0.03         -0.032  94.08000  February 20, 15   \n",
       "1         5682000.0   -0.19         -0.202  94.22333  February 23, 15   \n",
       "\n",
       "   changeOverTime  \n",
       "0        -0.00032  \n",
       "1        -0.00202  "
      ]
     },
     "execution_count": 37,
     "metadata": {},
     "output_type": "execute_result"
    }
   ],
   "source": [
    "result=response.json()\n",
    "result\n",
    "data=pd.DataFrame(json_normalize(result))\n",
    "data=json_normalize(data['historical'][0])\n",
    "data.head(2)"
   ]
  },
  {
   "cell_type": "code",
   "execution_count": 38,
   "metadata": {
    "ExecuteTime": {
     "end_time": "2020-02-20T21:55:27.988030Z",
     "start_time": "2020-02-20T21:55:27.975165Z"
    },
    "hidden": true
   },
   "outputs": [],
   "source": [
    "'''Se seleccionan las columnas que realmente tienen utilidas para el analisis'''\n",
    "\n",
    "data=data[['date','open','close','volume','change','changePercent','vwap']]\n",
    "data['date']=pd.to_datetime(data['date']).dt.date"
   ]
  },
  {
   "cell_type": "code",
   "execution_count": 40,
   "metadata": {
    "ExecuteTime": {
     "end_time": "2020-02-20T21:56:53.245475Z",
     "start_time": "2020-02-20T21:56:53.197516Z"
    },
    "hidden": true
   },
   "outputs": [
    {
     "data": {
      "text/html": [
       "<div>\n",
       "<style scoped>\n",
       "    .dataframe tbody tr th:only-of-type {\n",
       "        vertical-align: middle;\n",
       "    }\n",
       "\n",
       "    .dataframe tbody tr th {\n",
       "        vertical-align: top;\n",
       "    }\n",
       "\n",
       "    .dataframe thead th {\n",
       "        text-align: right;\n",
       "    }\n",
       "</style>\n",
       "<table border=\"1\" class=\"dataframe\">\n",
       "  <thead>\n",
       "    <tr style=\"text-align: right;\">\n",
       "      <th></th>\n",
       "      <th>date</th>\n",
       "      <th>open</th>\n",
       "      <th>close</th>\n",
       "      <th>volume</th>\n",
       "      <th>change</th>\n",
       "      <th>changePercent</th>\n",
       "      <th>vwap</th>\n",
       "    </tr>\n",
       "  </thead>\n",
       "  <tbody>\n",
       "    <tr>\n",
       "      <th>0</th>\n",
       "      <td>2015-02-20</td>\n",
       "      <td>94.16</td>\n",
       "      <td>94.19</td>\n",
       "      <td>8155000.0</td>\n",
       "      <td>-0.03</td>\n",
       "      <td>-0.032</td>\n",
       "      <td>94.08000</td>\n",
       "    </tr>\n",
       "    <tr>\n",
       "      <th>1</th>\n",
       "      <td>2015-02-23</td>\n",
       "      <td>94.12</td>\n",
       "      <td>94.31</td>\n",
       "      <td>5682000.0</td>\n",
       "      <td>-0.19</td>\n",
       "      <td>-0.202</td>\n",
       "      <td>94.22333</td>\n",
       "    </tr>\n",
       "    <tr>\n",
       "      <th>2</th>\n",
       "      <td>2015-02-24</td>\n",
       "      <td>94.08</td>\n",
       "      <td>94.98</td>\n",
       "      <td>5643600.0</td>\n",
       "      <td>-0.90</td>\n",
       "      <td>-0.957</td>\n",
       "      <td>94.66667</td>\n",
       "    </tr>\n",
       "    <tr>\n",
       "      <th>3</th>\n",
       "      <td>2015-02-25</td>\n",
       "      <td>94.91</td>\n",
       "      <td>98.66</td>\n",
       "      <td>16751600.0</td>\n",
       "      <td>-3.75</td>\n",
       "      <td>-3.951</td>\n",
       "      <td>97.61000</td>\n",
       "    </tr>\n",
       "    <tr>\n",
       "      <th>4</th>\n",
       "      <td>2015-02-26</td>\n",
       "      <td>97.43</td>\n",
       "      <td>99.51</td>\n",
       "      <td>16098800.0</td>\n",
       "      <td>-2.08</td>\n",
       "      <td>-2.135</td>\n",
       "      <td>98.79667</td>\n",
       "    </tr>\n",
       "  </tbody>\n",
       "</table>\n",
       "</div>"
      ],
      "text/plain": [
       "         date   open  close      volume  change  changePercent      vwap\n",
       "0  2015-02-20  94.16  94.19   8155000.0   -0.03         -0.032  94.08000\n",
       "1  2015-02-23  94.12  94.31   5682000.0   -0.19         -0.202  94.22333\n",
       "2  2015-02-24  94.08  94.98   5643600.0   -0.90         -0.957  94.66667\n",
       "3  2015-02-25  94.91  98.66  16751600.0   -3.75         -3.951  97.61000\n",
       "4  2015-02-26  97.43  99.51  16098800.0   -2.08         -2.135  98.79667"
      ]
     },
     "execution_count": 40,
     "metadata": {},
     "output_type": "execute_result"
    }
   ],
   "source": [
    "data.to_csv(f'Cotizacion_stocks_{name_api}.csv')\n",
    "\n",
    "data.head(5)"
   ]
  },
  {
   "cell_type": "markdown",
   "metadata": {
    "heading_collapsed": true
   },
   "source": [
    "## Analysis and Charts"
   ]
  },
  {
   "cell_type": "code",
   "execution_count": 42,
   "metadata": {
    "ExecuteTime": {
     "end_time": "2020-02-20T21:58:24.051566Z",
     "start_time": "2020-02-20T21:58:23.560451Z"
    },
    "hidden": true,
    "scrolled": true
   },
   "outputs": [
    {
     "data": {
      "text/plain": [
       "[<matplotlib.lines.Line2D at 0x112890d10>]"
      ]
     },
     "execution_count": 42,
     "metadata": {},
     "output_type": "execute_result"
    },
    {
     "data": {
      "image/png": "[encoded data removed]",
      "text/plain": [
       "<Figure size 1080x504 with 2 Axes>"
      ]
     },
     "metadata": {
      "needs_background": "light"
     },
     "output_type": "display_data"
    }
   ],
   "source": [
    "'''Finalmente se generan dos graficos mediante matplotlib.pyplot \n",
    "para poder visualizar mejor los datos y ver las tendencias'''\n",
    "\n",
    "fig,(ax1,ax2) = plt.subplots(1,2,figsize=(15,7),subplot_kw = {'title' :companies_dropdown.value})\n",
    "\n",
    "\n",
    "ax1.plot(data3.date,data3.open,\n",
    "       linewidth=2.5,color='darkmagenta',label=2014)\n",
    "\n",
    "\n",
    "ax2.plot(df.Period_End,df.Revenue2,\n",
    "        linewidth=2,\n",
    "       color='grey',\n",
    "       alpha=0.3,\n",
    "        marker = 'o', \n",
    "        markersize = 5,\n",
    "        markeredgecolor = 'black',\n",
    "        markeredgewidth = 2)\n",
    "\n",
    "ax2.plot(df.Period_End,df.Forecast_Revenue,\n",
    "        linewidth=2,\n",
    "       color='darkblue',\n",
    "       alpha=0.3,\n",
    "        marker = 'o', \n",
    "        markersize = 5,\n",
    "        markeredgecolor = 'black',\n",
    "        markeredgewidth = 2)\n",
    "\n",
    "\n"
   ]
  },
  {
   "cell_type": "code",
   "execution_count": null,
   "metadata": {
    "hidden": true
   },
   "outputs": [],
   "source": []
  }
 ],
 "metadata": {
  "kernelspec": {
   "display_name": "Python 3",
   "language": "python",
   "name": "python3"
  },
  "language_info": {
   "codemirror_mode": {
    "name": "ipython",
    "version": 3
   },
   "file_extension": ".py",
   "mimetype": "text/x-python",
   "name": "python",
   "nbconvert_exporter": "python",
   "pygments_lexer": "ipython3",
   "version": "3.7.4"
  },
  "varInspector": {
   "cols": {
    "lenName": 16,
    "lenType": 16,
    "lenVar": 40
   },
   "kernels_config": {
    "python": {
     "delete_cmd_postfix": "",
     "delete_cmd_prefix": "del ",
     "library": "var_list.py",
     "varRefreshCmd": "print(var_dic_list())"
    },
    "r": {
     "delete_cmd_postfix": ") ",
     "delete_cmd_prefix": "rm(",
     "library": "var_list.r",
     "varRefreshCmd": "cat(var_dic_list()) "
    }
   },
   "types_to_exclude": [
    "module",
    "function",
    "builtin_function_or_method",
    "instance",
    "_Feature"
   ],
   "window_display": false
  }
 },
 "nbformat": 4,
 "nbformat_minor": 2
}
