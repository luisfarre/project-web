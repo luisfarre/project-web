{
 "cells": [
  {
   "cell_type": "markdown",
   "metadata": {},
   "source": [
    "# WEB SCRAPING + APIs PROJECT"
   ]
  },
  {
   "cell_type": "markdown",
   "metadata": {
    "heading_collapsed": true
   },
   "source": [
    "## Description"
   ]
  },
  {
   "cell_type": "markdown",
   "metadata": {
    "ExecuteTime": {
     "end_time": "2020-02-19T23:34:27.210488Z",
     "start_time": "2020-02-19T23:34:27.197064Z"
    },
    "hidden": true
   },
   "source": [
    "Creator: Luis Farre\n",
    "Date: 20/02/2020\n",
    "\n",
    "Description: El objetivo de este proyecto es obtener los datos necesarios \n",
    "para entender si existe una correlacion entre la cotizacion de las acciones \n",
    "de una empresa con la facturacion de esta.\n",
    "\n",
    "Para ello hemos sacado informacion sobre los resultados de www.investing.com\n",
    "Y hemos utilizado la api www.financialmodelingprep.com para obtener la evolucion de la cotizacion.\n"
   ]
  },
  {
   "cell_type": "markdown",
   "metadata": {
    "heading_collapsed": true
   },
   "source": [
    "## Imports"
   ]
  },
  {
   "cell_type": "code",
   "execution_count": 1,
   "metadata": {
    "ExecuteTime": {
     "end_time": "2020-02-19T23:37:41.500886Z",
     "start_time": "2020-02-19T23:37:39.788450Z"
    },
    "hidden": true
   },
   "outputs": [],
   "source": [
    "import json\n",
    "import requests\n",
    "import numpy as np\n",
    "import pandas as pd\n",
    "import base64\n",
    "from bs4 import BeautifulSoup\n",
    "from pandas.io.json import json_normalize\n",
    "import matplotlib.pyplot as plt\n",
    "%matplotlib inline\n",
    "from matplotlib import ticker\n",
    "import ipywidgets as widgets\n",
    "from IPython.display import display\n",
    "import re\n",
    "import time\n",
    "from selenium import webdriver"
   ]
  },
  {
   "cell_type": "markdown",
   "metadata": {
    "heading_collapsed": true
   },
   "source": [
    "## Web Scraping"
   ]
  },
  {
   "cell_type": "markdown",
   "metadata": {
    "heading_collapsed": true,
    "hidden": true
   },
   "source": [
    "### Scrap Unites States 50 Companies"
   ]
  },
  {
   "cell_type": "code",
   "execution_count": 2,
   "metadata": {
    "ExecuteTime": {
     "end_time": "2020-02-19T23:37:44.087529Z",
     "start_time": "2020-02-19T23:37:41.505687Z"
    },
    "hidden": true
   },
   "outputs": [],
   "source": [
    "url='https://investing.com/equities'\n",
    "headers = {'user-agent': 'Mozilla/5.0 (Macintosh; Intel Mac OS X 10_14_6) AppleWebKit/537.36 (KHTML, like Gecko) Chrome/79.0.3945.130 Safari/537.36'}\n",
    "\n",
    "html=requests.get(url,headers=headers).content\n",
    "soup=BeautifulSoup(html,'lxml')\n",
    "\n",
    "table = soup.find_all('table',{'id':'cross_rate_markets_stocks_1'})"
   ]
  },
  {
   "cell_type": "code",
   "execution_count": 3,
   "metadata": {
    "ExecuteTime": {
     "end_time": "2020-02-19T23:37:44.521815Z",
     "start_time": "2020-02-19T23:37:44.517876Z"
    },
    "hidden": true
   },
   "outputs": [],
   "source": [
    "table2=table[0]"
   ]
  },
  {
   "cell_type": "code",
   "execution_count": 4,
   "metadata": {
    "ExecuteTime": {
     "end_time": "2020-02-19T23:37:44.954592Z",
     "start_time": "2020-02-19T23:37:44.949535Z"
    },
    "hidden": true
   },
   "outputs": [],
   "source": [
    "rows=table2.find_all('tr')\n",
    "rows=rows[1:]"
   ]
  },
  {
   "cell_type": "code",
   "execution_count": 5,
   "metadata": {
    "ExecuteTime": {
     "end_time": "2020-02-19T23:37:44.969142Z",
     "start_time": "2020-02-19T23:37:44.959052Z"
    },
    "hidden": true
   },
   "outputs": [],
   "source": [
    "titles = [row.a.get('title') for row in rows]\n",
    "links = [row.a.get('href') for row in rows]"
   ]
  },
  {
   "cell_type": "markdown",
   "metadata": {
    "hidden": true
   },
   "source": [
    "Diccionario con todas las empresas del IBEX"
   ]
  },
  {
   "cell_type": "markdown",
   "metadata": {
    "heading_collapsed": true,
    "hidden": true
   },
   "source": [
    "### Widget to be able to choose the company to Study"
   ]
  },
  {
   "cell_type": "code",
   "execution_count": 6,
   "metadata": {
    "ExecuteTime": {
     "end_time": "2020-02-19T23:37:44.982355Z",
     "start_time": "2020-02-19T23:37:44.975472Z"
    },
    "hidden": true
   },
   "outputs": [],
   "source": [
    "dict_companies = { titles[i] : links[i] for i in range(len(titles)) }"
   ]
  },
  {
   "cell_type": "code",
   "execution_count": 7,
   "metadata": {
    "ExecuteTime": {
     "end_time": "2020-02-19T23:37:45.013705Z",
     "start_time": "2020-02-19T23:37:44.988577Z"
    },
    "hidden": true
   },
   "outputs": [
    {
     "data": {
      "application/vnd.jupyter.widget-view+json": {
       "model_id": "fc474f109da8416084a1c179657498a0",
       "version_major": 2,
       "version_minor": 0
      },
      "text/plain": [
       "Dropdown(description='Company:', options=('Chevron Corp', 'Citigroup Inc', 'Bank of America Corp', 'AT&T Inc',…"
      ]
     },
     "metadata": {},
     "output_type": "display_data"
    }
   ],
   "source": [
    "companies_dropdown=widgets.Dropdown(options=titles,description='Company:')\n",
    "companies_dropdown"
   ]
  },
  {
   "cell_type": "code",
   "execution_count": 8,
   "metadata": {
    "ExecuteTime": {
     "end_time": "2020-02-19T23:37:45.034476Z",
     "start_time": "2020-02-19T23:37:45.016581Z"
    },
    "hidden": true
   },
   "outputs": [
    {
     "data": {
      "text/plain": [
       "'/equities/chevron'"
      ]
     },
     "execution_count": 8,
     "metadata": {},
     "output_type": "execute_result"
    }
   ],
   "source": [
    "company_web=dict_companies.get(companies_dropdown.value)\n",
    "company_web"
   ]
  },
  {
   "cell_type": "markdown",
   "metadata": {
    "heading_collapsed": true,
    "hidden": true
   },
   "source": [
    "### Scraping Selected Company"
   ]
  },
  {
   "cell_type": "code",
   "execution_count": 9,
   "metadata": {
    "ExecuteTime": {
     "end_time": "2020-02-19T23:37:46.020246Z",
     "start_time": "2020-02-19T23:37:45.039825Z"
    },
    "hidden": true
   },
   "outputs": [],
   "source": [
    "#Publicacion resultados: https://es.investing.com/equities/apple-computer-inc-earnings\n",
    "url=f'https://investing.com{company_web}-earnings'\n",
    "headers = {'user-agent': 'Mozilla/5.0 (Macintosh; Intel Mac OS X 10_14_6) AppleWebKit/537.36 (KHTML, like Gecko) Chrome/79.0.3945.130 Safari/537.36'}\n",
    "\n",
    "#https://es.investing.com/equities/morehistory\n",
    "\n",
    "html=requests.get(url,headers=headers).content\n",
    "soup=BeautifulSoup(html,'lxml')"
   ]
  },
  {
   "cell_type": "code",
   "execution_count": 10,
   "metadata": {
    "ExecuteTime": {
     "end_time": "2020-02-19T23:37:46.026179Z",
     "start_time": "2020-02-19T23:37:46.022727Z"
    },
    "hidden": true
   },
   "outputs": [],
   "source": [
    "#table = soup.find_all('table',{'class':'genTbl openTbl ecoCalTbl earnings earningsPageTbl'})"
   ]
  },
  {
   "cell_type": "markdown",
   "metadata": {
    "heading_collapsed": true,
    "hidden": true
   },
   "source": [
    "### Scrap equity acronym for later call API"
   ]
  },
  {
   "cell_type": "code",
   "execution_count": 11,
   "metadata": {
    "ExecuteTime": {
     "end_time": "2020-02-19T23:37:46.111287Z",
     "start_time": "2020-02-19T23:37:46.028606Z"
    },
    "hidden": true
   },
   "outputs": [],
   "source": [
    "name_api = soup.find_all('h1',{'class':'float_lang_base_1 relativeAttr'})\n",
    "name_api = soup.find_all('h1',{'class':'float_lang_base_1 relativeAttr'})"
   ]
  },
  {
   "cell_type": "code",
   "execution_count": 12,
   "metadata": {
    "ExecuteTime": {
     "end_time": "2020-02-19T23:37:46.161775Z",
     "start_time": "2020-02-19T23:37:46.113811Z"
    },
    "hidden": true
   },
   "outputs": [
    {
     "data": {
      "text/plain": [
       "'CVX'"
      ]
     },
     "execution_count": 12,
     "metadata": {},
     "output_type": "execute_result"
    }
   ],
   "source": [
    "name_api = soup.find_all('h1',{'class':'float_lang_base_1 relativeAttr'})\n",
    "name_api = name_api[0].text.strip().split('\\n')\n",
    "name_api=re.findall('\\((.*)\\)',name_api[0])\n",
    "name_api=name_api[0]\n",
    "name_api"
   ]
  },
  {
   "cell_type": "markdown",
   "metadata": {
    "heading_collapsed": true,
    "hidden": true
   },
   "source": [
    "### Web Scraping via webdriver"
   ]
  },
  {
   "cell_type": "code",
   "execution_count": 14,
   "metadata": {
    "ExecuteTime": {
     "end_time": "2020-02-19T23:39:29.640567Z",
     "start_time": "2020-02-19T23:39:11.823418Z"
    },
    "hidden": true
   },
   "outputs": [
    {
     "data": {
      "text/html": [
       "<div>\n",
       "<style scoped>\n",
       "    .dataframe tbody tr th:only-of-type {\n",
       "        vertical-align: middle;\n",
       "    }\n",
       "\n",
       "    .dataframe tbody tr th {\n",
       "        vertical-align: top;\n",
       "    }\n",
       "\n",
       "    .dataframe thead th {\n",
       "        text-align: right;\n",
       "    }\n",
       "</style>\n",
       "<table border=\"1\" class=\"dataframe\">\n",
       "  <thead>\n",
       "    <tr style=\"text-align: right;\">\n",
       "      <th></th>\n",
       "      <th>Release Date</th>\n",
       "      <th>Period End</th>\n",
       "      <th>EPS</th>\n",
       "      <th>/ Forecast</th>\n",
       "      <th>Revenue</th>\n",
       "      <th>/ Forecast.1</th>\n",
       "    </tr>\n",
       "  </thead>\n",
       "  <tbody>\n",
       "    <tr>\n",
       "      <th>0</th>\n",
       "      <td>Apr 24, 2020</td>\n",
       "      <td>03/2020</td>\n",
       "      <td>--</td>\n",
       "      <td>/ 1.52</td>\n",
       "      <td>--</td>\n",
       "      <td>/ 38.03B</td>\n",
       "    </tr>\n",
       "    <tr>\n",
       "      <th>1</th>\n",
       "      <td>Jan 31, 2020</td>\n",
       "      <td>12/2019</td>\n",
       "      <td>1.24</td>\n",
       "      <td>/ 1.46</td>\n",
       "      <td>36.35B</td>\n",
       "      <td>/ 38.96B</td>\n",
       "    </tr>\n",
       "    <tr>\n",
       "      <th>2</th>\n",
       "      <td>Nov 01, 2019</td>\n",
       "      <td>09/2019</td>\n",
       "      <td>1.4</td>\n",
       "      <td>/ 1.51</td>\n",
       "      <td>36.12B</td>\n",
       "      <td>/ 38B</td>\n",
       "    </tr>\n",
       "    <tr>\n",
       "      <th>3</th>\n",
       "      <td>Aug 02, 2019</td>\n",
       "      <td>06/2019</td>\n",
       "      <td>2.28</td>\n",
       "      <td>/ 1.76</td>\n",
       "      <td>38.85B</td>\n",
       "      <td>/ 40.12B</td>\n",
       "    </tr>\n",
       "  </tbody>\n",
       "</table>\n",
       "</div>"
      ],
      "text/plain": [
       "   Release Date Period End   EPS / Forecast Revenue / Forecast.1\n",
       "0  Apr 24, 2020    03/2020    --     / 1.52      --     / 38.03B\n",
       "1  Jan 31, 2020    12/2019  1.24     / 1.46  36.35B     / 38.96B\n",
       "2  Nov 01, 2019    09/2019   1.4     / 1.51  36.12B        / 38B\n",
       "3  Aug 02, 2019    06/2019  2.28     / 1.76  38.85B     / 40.12B"
      ]
     },
     "execution_count": 14,
     "metadata": {},
     "output_type": "execute_result"
    }
   ],
   "source": [
    "\n",
    "driver = webdriver.Chrome('/Users/inesgalofrebofill/Documents/Ironhack/chromedriver')  # Optional argument, if not specified will search path.\n",
    "driver.get(f'https://investing.com{company_web}-earnings');\n",
    "time.sleep(2) # Let the user actually see something!\n",
    "search_box = driver.find_elements_by_id('showMoreEarningsHistory')[0]\n",
    "search_box.click()\n",
    "time.sleep(2)\n",
    "search_box.click()\n",
    "time.sleep(2)\n",
    "search_box.click()\n",
    "\n",
    "time.sleep(2)\n",
    "df = pd.read_html(driver.page_source)[0]\n",
    "\n",
    "time.sleep(2) # Let the user actually see something!\n",
    "driver.quit()\n",
    "df.head(4)"
   ]
  },
  {
   "cell_type": "code",
   "execution_count": 15,
   "metadata": {
    "ExecuteTime": {
     "end_time": "2020-02-19T23:39:35.398461Z",
     "start_time": "2020-02-19T23:39:35.391065Z"
    },
    "hidden": true
   },
   "outputs": [],
   "source": [
    "df=df[df.Revenue != '--']"
   ]
  },
  {
   "cell_type": "code",
   "execution_count": 16,
   "metadata": {
    "ExecuteTime": {
     "end_time": "2020-02-19T23:39:36.523162Z",
     "start_time": "2020-02-19T23:39:36.494742Z"
    },
    "hidden": true
   },
   "outputs": [],
   "source": [
    "#df=df.rename()"
   ]
  },
  {
   "cell_type": "code",
   "execution_count": 17,
   "metadata": {
    "ExecuteTime": {
     "end_time": "2020-02-19T23:39:37.547981Z",
     "start_time": "2020-02-19T23:39:37.489624Z"
    },
    "hidden": true
   },
   "outputs": [
    {
     "data": {
      "text/html": [
       "<div>\n",
       "<style scoped>\n",
       "    .dataframe tbody tr th:only-of-type {\n",
       "        vertical-align: middle;\n",
       "    }\n",
       "\n",
       "    .dataframe tbody tr th {\n",
       "        vertical-align: top;\n",
       "    }\n",
       "\n",
       "    .dataframe thead th {\n",
       "        text-align: right;\n",
       "    }\n",
       "</style>\n",
       "<table border=\"1\" class=\"dataframe\">\n",
       "  <thead>\n",
       "    <tr style=\"text-align: right;\">\n",
       "      <th></th>\n",
       "      <th>Release Date</th>\n",
       "      <th>Period End</th>\n",
       "      <th>EPS</th>\n",
       "      <th>/ Forecast</th>\n",
       "      <th>Revenue</th>\n",
       "      <th>/ Forecast.1</th>\n",
       "      <th>Period_End</th>\n",
       "      <th>Forecast_EPS</th>\n",
       "      <th>Revenue2</th>\n",
       "      <th>Forecast_Revenue</th>\n",
       "    </tr>\n",
       "  </thead>\n",
       "  <tbody>\n",
       "    <tr>\n",
       "      <th>1</th>\n",
       "      <td>2020-01-31</td>\n",
       "      <td>12/2019</td>\n",
       "      <td>1.24</td>\n",
       "      <td>/ 1.46</td>\n",
       "      <td>36.35B</td>\n",
       "      <td>/ 38.96B</td>\n",
       "      <td>2019-12-01</td>\n",
       "      <td>1.46</td>\n",
       "      <td>36350.0</td>\n",
       "      <td>38960.0</td>\n",
       "    </tr>\n",
       "    <tr>\n",
       "      <th>2</th>\n",
       "      <td>2019-11-01</td>\n",
       "      <td>09/2019</td>\n",
       "      <td>1.4</td>\n",
       "      <td>/ 1.51</td>\n",
       "      <td>36.12B</td>\n",
       "      <td>/ 38B</td>\n",
       "      <td>2019-09-01</td>\n",
       "      <td>1.51</td>\n",
       "      <td>36120.0</td>\n",
       "      <td>380.0</td>\n",
       "    </tr>\n",
       "    <tr>\n",
       "      <th>3</th>\n",
       "      <td>2019-08-02</td>\n",
       "      <td>06/2019</td>\n",
       "      <td>2.28</td>\n",
       "      <td>/ 1.76</td>\n",
       "      <td>38.85B</td>\n",
       "      <td>/ 40.12B</td>\n",
       "      <td>2019-06-01</td>\n",
       "      <td>1.76</td>\n",
       "      <td>38850.0</td>\n",
       "      <td>40120.0</td>\n",
       "    </tr>\n",
       "    <tr>\n",
       "      <th>4</th>\n",
       "      <td>2019-04-26</td>\n",
       "      <td>03/2019</td>\n",
       "      <td>1.32</td>\n",
       "      <td>/ 1.3</td>\n",
       "      <td>35.2B</td>\n",
       "      <td>/ 38.42B</td>\n",
       "      <td>2019-03-01</td>\n",
       "      <td>1.3</td>\n",
       "      <td>3520.0</td>\n",
       "      <td>38420.0</td>\n",
       "    </tr>\n",
       "  </tbody>\n",
       "</table>\n",
       "</div>"
      ],
      "text/plain": [
       "  Release Date Period End   EPS / Forecast Revenue / Forecast.1  Period_End  \\\n",
       "1   2020-01-31    12/2019  1.24     / 1.46  36.35B     / 38.96B  2019-12-01   \n",
       "2   2019-11-01    09/2019   1.4     / 1.51  36.12B        / 38B  2019-09-01   \n",
       "3   2019-08-02    06/2019  2.28     / 1.76  38.85B     / 40.12B  2019-06-01   \n",
       "4   2019-04-26    03/2019  1.32      / 1.3   35.2B     / 38.42B  2019-03-01   \n",
       "\n",
       "  Forecast_EPS  Revenue2  Forecast_Revenue  \n",
       "1         1.46   36350.0           38960.0  \n",
       "2         1.51   36120.0             380.0  \n",
       "3         1.76   38850.0           40120.0  \n",
       "4          1.3    3520.0           38420.0  "
      ]
     },
     "execution_count": 17,
     "metadata": {},
     "output_type": "execute_result"
    }
   ],
   "source": [
    "df['Release Date']=pd.to_datetime(df['Release Date']).dt.date\n",
    "#df['Period End']='30/'+df['Period End']\n",
    "df['Period_End']=pd.to_datetime(df['Period End']).dt.date\n",
    "df=df.replace('[,]', '', regex=True)\n",
    "df['Forecast_EPS']=df['/ Forecast'].replace('/', '', regex=True)\n",
    "df['Revenue2']=df['Revenue'].replace('M', '', regex=True)\n",
    "df['Revenue2']=df['Revenue2'].apply(lambda x: x.replace('.', '') if x.endswith('B') else x)\n",
    "df['Revenue2']=df['Revenue2'].apply(lambda x: x.replace('B', '00') if x.endswith('B') and len(x)==3 else x)\n",
    "df['Revenue2']=df['Revenue2'].apply(lambda x: x.replace('B', '000') if x.endswith('B') and len(x)==2 else x)\n",
    "df['Revenue2']=df['Revenue2'].apply(lambda x: x.replace('B', '0') if x.endswith('B') else x)\n",
    "\n",
    "df['Revenue2']=df['Revenue2'].astype(float)\n",
    "df['Forecast_Revenue']=df['/ Forecast.1'].replace('/', '', regex=True)\n",
    "\n",
    "df['Forecast_Revenue']=df['Forecast_Revenue'].replace('[M]', '', regex=True)\n",
    "df['Forecast_Revenue']=df['Forecast_Revenue'].apply(lambda x: x.replace('.', '') if x.endswith('B') else x)\n",
    "df['Forecast_Revenue']=df['Forecast_Revenue'].apply(lambda x: x.replace('B', '00') if x.endswith('B') and len(x)==3 else x)\n",
    "df['Forecast_Revenue']=df['Forecast_Revenue'].apply(lambda x: x.replace('B', '000') if x.endswith('B') and len(x)==2 else x)\n",
    "df['Forecast_Revenue']=df['Forecast_Revenue'].apply(lambda x: x.replace('B', '0') if x.endswith('B') else x)\n",
    "\n",
    "df['Forecast_Revenue']=df['Forecast_Revenue'].astype(float)\n",
    "\n",
    "\n",
    "df.head(4)"
   ]
  },
  {
   "cell_type": "markdown",
   "metadata": {
    "heading_collapsed": true
   },
   "source": [
    "## API"
   ]
  },
  {
   "cell_type": "markdown",
   "metadata": {
    "heading_collapsed": true,
    "hidden": true
   },
   "source": [
    "### Call API for specific Company  json-DataFrame"
   ]
  },
  {
   "cell_type": "code",
   "execution_count": 18,
   "metadata": {
    "ExecuteTime": {
     "end_time": "2020-02-19T23:39:39.149569Z",
     "start_time": "2020-02-19T23:39:38.335643Z"
    },
    "hidden": true
   },
   "outputs": [],
   "source": [
    "url = f'https://financialmodelingprep.com/api/v3/historical-price-full/{name_api}'\n",
    "response = requests.get(url)\n"
   ]
  },
  {
   "cell_type": "code",
   "execution_count": 19,
   "metadata": {
    "ExecuteTime": {
     "end_time": "2020-02-19T23:39:39.878843Z",
     "start_time": "2020-02-19T23:39:39.833795Z"
    },
    "hidden": true
   },
   "outputs": [],
   "source": [
    "result=response.json()\n",
    "result\n",
    "data=pd.DataFrame(json_normalize(result))"
   ]
  },
  {
   "cell_type": "code",
   "execution_count": 20,
   "metadata": {
    "ExecuteTime": {
     "end_time": "2020-02-19T23:39:40.679742Z",
     "start_time": "2020-02-19T23:39:40.623667Z"
    },
    "hidden": true
   },
   "outputs": [
    {
     "data": {
      "text/html": [
       "<div>\n",
       "<style scoped>\n",
       "    .dataframe tbody tr th:only-of-type {\n",
       "        vertical-align: middle;\n",
       "    }\n",
       "\n",
       "    .dataframe tbody tr th {\n",
       "        vertical-align: top;\n",
       "    }\n",
       "\n",
       "    .dataframe thead th {\n",
       "        text-align: right;\n",
       "    }\n",
       "</style>\n",
       "<table border=\"1\" class=\"dataframe\">\n",
       "  <thead>\n",
       "    <tr style=\"text-align: right;\">\n",
       "      <th></th>\n",
       "      <th>date</th>\n",
       "      <th>open</th>\n",
       "      <th>high</th>\n",
       "      <th>low</th>\n",
       "      <th>close</th>\n",
       "      <th>adjClose</th>\n",
       "      <th>volume</th>\n",
       "      <th>unadjustedVolume</th>\n",
       "      <th>change</th>\n",
       "      <th>changePercent</th>\n",
       "      <th>vwap</th>\n",
       "      <th>label</th>\n",
       "      <th>changeOverTime</th>\n",
       "    </tr>\n",
       "  </thead>\n",
       "  <tbody>\n",
       "    <tr>\n",
       "      <th>0</th>\n",
       "      <td>2015-02-19</td>\n",
       "      <td>108.20</td>\n",
       "      <td>109.58</td>\n",
       "      <td>107.24</td>\n",
       "      <td>108.35</td>\n",
       "      <td>90.05</td>\n",
       "      <td>9721100.0</td>\n",
       "      <td>9721100.0</td>\n",
       "      <td>-0.15</td>\n",
       "      <td>-0.139</td>\n",
       "      <td>108.39000</td>\n",
       "      <td>February 19, 15</td>\n",
       "      <td>-0.00139</td>\n",
       "    </tr>\n",
       "    <tr>\n",
       "      <th>1</th>\n",
       "      <td>2015-02-20</td>\n",
       "      <td>108.43</td>\n",
       "      <td>108.87</td>\n",
       "      <td>107.50</td>\n",
       "      <td>108.60</td>\n",
       "      <td>90.26</td>\n",
       "      <td>7610600.0</td>\n",
       "      <td>7610600.0</td>\n",
       "      <td>-0.17</td>\n",
       "      <td>-0.157</td>\n",
       "      <td>108.32333</td>\n",
       "      <td>February 20, 15</td>\n",
       "      <td>-0.00157</td>\n",
       "    </tr>\n",
       "  </tbody>\n",
       "</table>\n",
       "</div>"
      ],
      "text/plain": [
       "         date    open    high     low   close  adjClose     volume  \\\n",
       "0  2015-02-19  108.20  109.58  107.24  108.35     90.05  9721100.0   \n",
       "1  2015-02-20  108.43  108.87  107.50  108.60     90.26  7610600.0   \n",
       "\n",
       "   unadjustedVolume  change  changePercent       vwap            label  \\\n",
       "0         9721100.0   -0.15         -0.139  108.39000  February 19, 15   \n",
       "1         7610600.0   -0.17         -0.157  108.32333  February 20, 15   \n",
       "\n",
       "   changeOverTime  \n",
       "0        -0.00139  \n",
       "1        -0.00157  "
      ]
     },
     "execution_count": 20,
     "metadata": {},
     "output_type": "execute_result"
    }
   ],
   "source": [
    "data2=json_normalize(data['historical'][0])\n",
    "data2.head(2)"
   ]
  },
  {
   "cell_type": "code",
   "execution_count": 21,
   "metadata": {
    "ExecuteTime": {
     "end_time": "2020-02-19T23:39:41.497225Z",
     "start_time": "2020-02-19T23:39:41.484192Z"
    },
    "hidden": true
   },
   "outputs": [
    {
     "name": "stderr",
     "output_type": "stream",
     "text": [
      "/usr/local/lib/python3.7/site-packages/ipykernel_launcher.py:2: SettingWithCopyWarning: \n",
      "A value is trying to be set on a copy of a slice from a DataFrame.\n",
      "Try using .loc[row_indexer,col_indexer] = value instead\n",
      "\n",
      "See the caveats in the documentation: http://pandas.pydata.org/pandas-docs/stable/user_guide/indexing.html#returning-a-view-versus-a-copy\n",
      "  \n"
     ]
    }
   ],
   "source": [
    "data3=data2[['date','open','close','volume','change','changePercent','vwap']]\n",
    "data3['date']=pd.to_datetime(data3['date']).dt.date"
   ]
  },
  {
   "cell_type": "code",
   "execution_count": 22,
   "metadata": {
    "ExecuteTime": {
     "end_time": "2020-02-19T23:39:42.403039Z",
     "start_time": "2020-02-19T23:39:42.385329Z"
    },
    "hidden": true
   },
   "outputs": [
    {
     "data": {
      "text/html": [
       "<div>\n",
       "<style scoped>\n",
       "    .dataframe tbody tr th:only-of-type {\n",
       "        vertical-align: middle;\n",
       "    }\n",
       "\n",
       "    .dataframe tbody tr th {\n",
       "        vertical-align: top;\n",
       "    }\n",
       "\n",
       "    .dataframe thead th {\n",
       "        text-align: right;\n",
       "    }\n",
       "</style>\n",
       "<table border=\"1\" class=\"dataframe\">\n",
       "  <thead>\n",
       "    <tr style=\"text-align: right;\">\n",
       "      <th></th>\n",
       "      <th>date</th>\n",
       "      <th>open</th>\n",
       "      <th>close</th>\n",
       "      <th>volume</th>\n",
       "      <th>change</th>\n",
       "      <th>changePercent</th>\n",
       "      <th>vwap</th>\n",
       "    </tr>\n",
       "  </thead>\n",
       "  <tbody>\n",
       "    <tr>\n",
       "      <th>0</th>\n",
       "      <td>2015-02-19</td>\n",
       "      <td>108.20</td>\n",
       "      <td>108.35</td>\n",
       "      <td>9721100.0</td>\n",
       "      <td>-0.15</td>\n",
       "      <td>-0.139</td>\n",
       "      <td>108.39000</td>\n",
       "    </tr>\n",
       "    <tr>\n",
       "      <th>1</th>\n",
       "      <td>2015-02-20</td>\n",
       "      <td>108.43</td>\n",
       "      <td>108.60</td>\n",
       "      <td>7610600.0</td>\n",
       "      <td>-0.17</td>\n",
       "      <td>-0.157</td>\n",
       "      <td>108.32333</td>\n",
       "    </tr>\n",
       "    <tr>\n",
       "      <th>2</th>\n",
       "      <td>2015-02-23</td>\n",
       "      <td>107.79</td>\n",
       "      <td>107.86</td>\n",
       "      <td>6724000.0</td>\n",
       "      <td>-0.07</td>\n",
       "      <td>-0.065</td>\n",
       "      <td>107.90333</td>\n",
       "    </tr>\n",
       "    <tr>\n",
       "      <th>3</th>\n",
       "      <td>2015-02-24</td>\n",
       "      <td>107.89</td>\n",
       "      <td>107.96</td>\n",
       "      <td>5708400.0</td>\n",
       "      <td>-0.07</td>\n",
       "      <td>-0.065</td>\n",
       "      <td>107.84667</td>\n",
       "    </tr>\n",
       "    <tr>\n",
       "      <th>4</th>\n",
       "      <td>2015-02-25</td>\n",
       "      <td>108.12</td>\n",
       "      <td>108.58</td>\n",
       "      <td>4806500.0</td>\n",
       "      <td>-0.46</td>\n",
       "      <td>-0.425</td>\n",
       "      <td>108.37333</td>\n",
       "    </tr>\n",
       "  </tbody>\n",
       "</table>\n",
       "</div>"
      ],
      "text/plain": [
       "         date    open   close     volume  change  changePercent       vwap\n",
       "0  2015-02-19  108.20  108.35  9721100.0   -0.15         -0.139  108.39000\n",
       "1  2015-02-20  108.43  108.60  7610600.0   -0.17         -0.157  108.32333\n",
       "2  2015-02-23  107.79  107.86  6724000.0   -0.07         -0.065  107.90333\n",
       "3  2015-02-24  107.89  107.96  5708400.0   -0.07         -0.065  107.84667\n",
       "4  2015-02-25  108.12  108.58  4806500.0   -0.46         -0.425  108.37333"
      ]
     },
     "execution_count": 22,
     "metadata": {},
     "output_type": "execute_result"
    }
   ],
   "source": [
    "data3.head(5)"
   ]
  },
  {
   "cell_type": "markdown",
   "metadata": {},
   "source": [
    "## Analysis and Charts"
   ]
  },
  {
   "cell_type": "code",
   "execution_count": 23,
   "metadata": {
    "ExecuteTime": {
     "end_time": "2020-02-19T23:39:43.889458Z",
     "start_time": "2020-02-19T23:39:43.298150Z"
    }
   },
   "outputs": [
    {
     "name": "stderr",
     "output_type": "stream",
     "text": [
      "/usr/local/lib/python3.7/site-packages/pandas/plotting/_matplotlib/converter.py:103: FutureWarning: Using an implicitly registered datetime converter for a matplotlib plotting method. The converter was registered by pandas on import. Future versions of pandas will require you to explicitly register matplotlib converters.\n",
      "\n",
      "To register the converters:\n",
      "\t>>> from pandas.plotting import register_matplotlib_converters\n",
      "\t>>> register_matplotlib_converters()\n",
      "  warnings.warn(msg, FutureWarning)\n"
     ]
    },
    {
     "data": {
      "text/plain": [
       "[<matplotlib.lines.Line2D at 0x114d09850>]"
      ]
     },
     "execution_count": 23,
     "metadata": {},
     "output_type": "execute_result"
    },
    {
     "data": {
      "image/png": "[encoded data removed]",
      "text/plain": [
       "<Figure size 1080x504 with 2 Axes>"
      ]
     },
     "metadata": {
      "needs_background": "light"
     },
     "output_type": "display_data"
    }
   ],
   "source": [
    "# Requirement 1\n",
    "fig,(ax1,ax2) = plt.subplots(1,2,figsize=(15,7),subplot_kw = {'title' :companies_dropdown.value})\n",
    "\n",
    "\n",
    "ax1.plot(data3.date,data3.open,\n",
    "       linewidth=2.5,color='darkmagenta',label=2014)\n",
    "\n",
    "\n",
    "ax2.plot(df.Period_End,df.Revenue2,\n",
    "        linewidth=2,\n",
    "       color='grey',\n",
    "       alpha=0.3,\n",
    "        marker = 'o', \n",
    "        markersize = 5,\n",
    "        markeredgecolor = 'black',\n",
    "        markeredgewidth = 2)\n",
    "\n",
    "ax2.plot(df.Period_End,df.Forecast_Revenue,\n",
    "        linewidth=2,\n",
    "       color='darkblue',\n",
    "       alpha=0.3,\n",
    "        marker = 'o', \n",
    "        markersize = 5,\n",
    "        markeredgecolor = 'black',\n",
    "        markeredgewidth = 2)\n",
    "\n",
    "\n"
   ]
  },
  {
   "cell_type": "code",
   "execution_count": null,
   "metadata": {
    "ExecuteTime": {
     "end_time": "2020-02-19T19:00:26.667030Z",
     "start_time": "2020-02-19T19:00:26.530468Z"
    }
   },
   "outputs": [],
   "source": []
  },
  {
   "cell_type": "code",
   "execution_count": null,
   "metadata": {},
   "outputs": [],
   "source": []
  },
  {
   "cell_type": "code",
   "execution_count": null,
   "metadata": {},
   "outputs": [],
   "source": [
    "#Falta crear dos csv con los resultados del webscraping y de la API"
   ]
  },
  {
   "cell_type": "code",
   "execution_count": null,
   "metadata": {},
   "outputs": [],
   "source": []
  }
 ],
 "metadata": {
  "kernelspec": {
   "display_name": "Python 3",
   "language": "python",
   "name": "python3"
  },
  "language_info": {
   "codemirror_mode": {
    "name": "ipython",
    "version": 3
   },
   "file_extension": ".py",
   "mimetype": "text/x-python",
   "name": "python",
   "nbconvert_exporter": "python",
   "pygments_lexer": "ipython3",
   "version": "3.7.4"
  },
  "varInspector": {
   "cols": {
    "lenName": 16,
    "lenType": 16,
    "lenVar": 40
   },
   "kernels_config": {
    "python": {
     "delete_cmd_postfix": "",
     "delete_cmd_prefix": "del ",
     "library": "var_list.py",
     "varRefreshCmd": "print(var_dic_list())"
    },
    "r": {
     "delete_cmd_postfix": ") ",
     "delete_cmd_prefix": "rm(",
     "library": "var_list.r",
     "varRefreshCmd": "cat(var_dic_list()) "
    }
   },
   "types_to_exclude": [
    "module",
    "function",
    "builtin_function_or_method",
    "instance",
    "_Feature"
   ],
   "window_display": false
  }
 },
 "nbformat": 4,
 "nbformat_minor": 2
}
