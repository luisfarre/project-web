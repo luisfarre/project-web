{
 "cells": [
  {
   "cell_type": "code",
   "execution_count": 7,
   "metadata": {
    "ExecuteTime": {
     "end_time": "2020-02-19T18:57:04.678051Z",
     "start_time": "2020-02-19T18:57:03.331338Z"
    }
   },
   "outputs": [],
   "source": [
    "import json\n",
    "import requests\n",
    "import numpy as np\n",
    "import pandas as pd\n",
    "import base64\n",
    "from bs4 import BeautifulSoup\n",
    "from pandas.io.json import json_normalize\n",
    "import matplotlib.pyplot as plt\n",
    "%matplotlib inline\n",
    "from matplotlib import ticker\n",
    "import ipywidgets as widgets\n",
    "from IPython.display import display\n",
    "import re"
   ]
  },
  {
   "cell_type": "code",
   "execution_count": 2,
   "metadata": {
    "ExecuteTime": {
     "end_time": "2020-02-16T21:59:43.186430Z",
     "start_time": "2020-02-16T21:59:43.182779Z"
    }
   },
   "outputs": [],
   "source": [
    "#Falta sacar resultados de mas tiempo pendiente de ver como usar: #https://es.investing.com/equities/morehistory\n",
    "#Crear linea de resultados esperados para poder comparar con resultados obtenidos\n",
    "#Añadir en el grafico un segundo eje Y a la derecha con el volumen\n",
    "#Ver que hacer con las unidades de Billions y Millions\n"
   ]
  },
  {
   "cell_type": "markdown",
   "metadata": {},
   "source": [
    "## Web Scraping"
   ]
  },
  {
   "cell_type": "code",
   "execution_count": 10,
   "metadata": {
    "ExecuteTime": {
     "end_time": "2020-02-19T18:57:23.566266Z",
     "start_time": "2020-02-19T18:57:21.660743Z"
    }
   },
   "outputs": [],
   "source": [
    "url='https://investing.com/equities'\n",
    "headers = {'user-agent': 'Mozilla/5.0 (Macintosh; Intel Mac OS X 10_14_6) AppleWebKit/537.36 (KHTML, like Gecko) Chrome/79.0.3945.130 Safari/537.36'}\n",
    "\n",
    "html=requests.get(url,headers=headers).content\n",
    "soup=BeautifulSoup(html,'lxml')\n",
    "\n",
    "table = soup.find_all('table',{'id':'cross_rate_markets_stocks_1'})"
   ]
  },
  {
   "cell_type": "code",
   "execution_count": 4,
   "metadata": {
    "ExecuteTime": {
     "end_time": "2020-02-16T21:59:44.317484Z",
     "start_time": "2020-02-16T21:59:44.306058Z"
    }
   },
   "outputs": [],
   "source": [
    "table2=table[0]"
   ]
  },
  {
   "cell_type": "code",
   "execution_count": 5,
   "metadata": {
    "ExecuteTime": {
     "end_time": "2020-02-16T21:59:44.333002Z",
     "start_time": "2020-02-16T21:59:44.320368Z"
    }
   },
   "outputs": [],
   "source": [
    "rows=table2.find_all('tr')\n",
    "rows=rows[1:]"
   ]
  },
  {
   "cell_type": "code",
   "execution_count": 6,
   "metadata": {
    "ExecuteTime": {
     "end_time": "2020-02-16T21:59:44.351253Z",
     "start_time": "2020-02-16T21:59:44.335660Z"
    }
   },
   "outputs": [],
   "source": [
    "titles = [row.a.get('title') for row in rows]\n",
    "links = [row.a.get('href') for row in rows]"
   ]
  },
  {
   "cell_type": "markdown",
   "metadata": {},
   "source": [
    "Diccionario con todas las empresas del IBEX"
   ]
  },
  {
   "cell_type": "code",
   "execution_count": 7,
   "metadata": {
    "ExecuteTime": {
     "end_time": "2020-02-16T21:59:44.367378Z",
     "start_time": "2020-02-16T21:59:44.359376Z"
    }
   },
   "outputs": [],
   "source": [
    "dict_companies = { titles[i] : links[i] for i in range(len(titles)) }"
   ]
  },
  {
   "cell_type": "code",
   "execution_count": 48,
   "metadata": {
    "ExecuteTime": {
     "end_time": "2020-02-16T22:07:19.517583Z",
     "start_time": "2020-02-16T22:07:19.482602Z"
    }
   },
   "outputs": [
    {
     "data": {
      "application/vnd.jupyter.widget-view+json": {
       "model_id": "aee449719ee545a494416ff0ad1d97a4",
       "version_major": 2,
       "version_minor": 0
      },
      "text/plain": [
       "Dropdown(description='Company:', options=('Chevron Corp', 'Citigroup Inc', 'Bank of America Corp', 'AT&T Inc',…"
      ]
     },
     "metadata": {},
     "output_type": "display_data"
    }
   ],
   "source": [
    "companies_dropdown=widgets.Dropdown(options=titles,description='Company:')\n",
    "companies_dropdown"
   ]
  },
  {
   "cell_type": "code",
   "execution_count": 56,
   "metadata": {
    "ExecuteTime": {
     "end_time": "2020-02-16T22:08:04.691087Z",
     "start_time": "2020-02-16T22:08:04.686543Z"
    }
   },
   "outputs": [
    {
     "data": {
      "text/plain": [
       "'/equities/procter-gamble'"
      ]
     },
     "execution_count": 56,
     "metadata": {},
     "output_type": "execute_result"
    }
   ],
   "source": [
    "company_web=dict_companies.get(companies_dropdown.value)\n",
    "company_web"
   ]
  },
  {
   "cell_type": "markdown",
   "metadata": {},
   "source": [
    "### CREAT WIDGET PARA SELECCIONAR EMPRESA DEL DICCIONARIO Y ASIGNAR A UNA VARIABLE"
   ]
  },
  {
   "cell_type": "code",
   "execution_count": 57,
   "metadata": {
    "ExecuteTime": {
     "end_time": "2020-02-16T22:08:11.285689Z",
     "start_time": "2020-02-16T22:08:10.087870Z"
    }
   },
   "outputs": [],
   "source": [
    "#Publicacion resultados: https://es.investing.com/equities/apple-computer-inc-earnings\n",
    "url=f'https://investing.com{company_web}-earnings'\n",
    "headers = {'user-agent': 'Mozilla/5.0 (Macintosh; Intel Mac OS X 10_14_6) AppleWebKit/537.36 (KHTML, like Gecko) Chrome/79.0.3945.130 Safari/537.36'}\n",
    "\n",
    "#https://es.investing.com/equities/morehistory\n",
    "\n",
    "html=requests.get(url,headers=headers).content\n",
    "soup=BeautifulSoup(html,'lxml')"
   ]
  },
  {
   "cell_type": "code",
   "execution_count": 58,
   "metadata": {
    "ExecuteTime": {
     "end_time": "2020-02-16T22:08:17.698819Z",
     "start_time": "2020-02-16T22:08:17.633480Z"
    }
   },
   "outputs": [],
   "source": [
    "table = soup.find_all('table',{'class':'genTbl openTbl ecoCalTbl earnings earningsPageTbl'})"
   ]
  },
  {
   "cell_type": "code",
   "execution_count": 59,
   "metadata": {
    "ExecuteTime": {
     "end_time": "2020-02-16T22:08:26.248656Z",
     "start_time": "2020-02-16T22:08:26.134407Z"
    }
   },
   "outputs": [
    {
     "data": {
      "text/plain": [
       "[<h1 class=\"float_lang_base_1 relativeAttr\" dir=\"ltr\" itemprop=\"name\">Procter &amp; Gamble Company (PG)\t</h1>]"
      ]
     },
     "execution_count": 59,
     "metadata": {},
     "output_type": "execute_result"
    }
   ],
   "source": [
    "name_api = soup.find_all('h1',{'class':'float_lang_base_1 relativeAttr'})\n",
    "name_api = soup.find_all('h1',{'class':'float_lang_base_1 relativeAttr'})\n",
    "name_api"
   ]
  },
  {
   "cell_type": "code",
   "execution_count": 60,
   "metadata": {
    "ExecuteTime": {
     "end_time": "2020-02-16T22:08:35.790698Z",
     "start_time": "2020-02-16T22:08:35.736636Z"
    }
   },
   "outputs": [
    {
     "data": {
      "text/plain": [
       "'PG'"
      ]
     },
     "execution_count": 60,
     "metadata": {},
     "output_type": "execute_result"
    }
   ],
   "source": [
    "name_api = soup.find_all('h1',{'class':'float_lang_base_1 relativeAttr'})\n",
    "name_api = name_api[0].text.strip().split('\\n')\n",
    "name_api=re.findall('\\((.*)\\)',name_api[0])\n",
    "name_api=name_api[0]\n",
    "name_api"
   ]
  },
  {
   "cell_type": "code",
   "execution_count": 61,
   "metadata": {
    "ExecuteTime": {
     "end_time": "2020-02-16T22:08:42.170062Z",
     "start_time": "2020-02-16T22:08:42.164504Z"
    }
   },
   "outputs": [],
   "source": [
    "table2=table[0]"
   ]
  },
  {
   "cell_type": "code",
   "execution_count": 62,
   "metadata": {
    "ExecuteTime": {
     "end_time": "2020-02-16T22:08:48.300541Z",
     "start_time": "2020-02-16T22:08:48.292373Z"
    }
   },
   "outputs": [],
   "source": [
    "rows=table2.find_all('tr')\n",
    "rows = [row.text.strip().split('\\n') for row in rows]\n",
    "rows =[list(filter(None,row)) for row in rows]"
   ]
  },
  {
   "cell_type": "code",
   "execution_count": 63,
   "metadata": {
    "ExecuteTime": {
     "end_time": "2020-02-16T22:08:53.924366Z",
     "start_time": "2020-02-16T22:08:53.908892Z"
    }
   },
   "outputs": [
    {
     "data": {
      "text/html": [
       "<div>\n",
       "<style scoped>\n",
       "    .dataframe tbody tr th:only-of-type {\n",
       "        vertical-align: middle;\n",
       "    }\n",
       "\n",
       "    .dataframe tbody tr th {\n",
       "        vertical-align: top;\n",
       "    }\n",
       "\n",
       "    .dataframe thead th {\n",
       "        text-align: right;\n",
       "    }\n",
       "</style>\n",
       "<table border=\"1\" class=\"dataframe\">\n",
       "  <thead>\n",
       "    <tr style=\"text-align: right;\">\n",
       "      <th></th>\n",
       "      <th>Date_publish</th>\n",
       "      <th>Period</th>\n",
       "      <th>BPA</th>\n",
       "      <th>PrevBPA</th>\n",
       "      <th>Revenue</th>\n",
       "      <th>PrevRevenue</th>\n",
       "    </tr>\n",
       "  </thead>\n",
       "  <tbody>\n",
       "    <tr>\n",
       "      <th>0</th>\n",
       "      <td>Jan 23, 2020</td>\n",
       "      <td>12/2019</td>\n",
       "      <td>1.42</td>\n",
       "      <td>/  1.21</td>\n",
       "      <td>18.24B</td>\n",
       "      <td>/  17,147M</td>\n",
       "    </tr>\n",
       "    <tr>\n",
       "      <th>1</th>\n",
       "      <td>Oct 22, 2019</td>\n",
       "      <td>09/2019</td>\n",
       "      <td>1.37</td>\n",
       "      <td>/  1.24</td>\n",
       "      <td>17.8B</td>\n",
       "      <td>/  17.45B</td>\n",
       "    </tr>\n",
       "    <tr>\n",
       "      <th>2</th>\n",
       "      <td>Jul 30, 2019</td>\n",
       "      <td>06/2019</td>\n",
       "      <td>1.1</td>\n",
       "      <td>/  1.05</td>\n",
       "      <td>17.09B</td>\n",
       "      <td>/  16.86B</td>\n",
       "    </tr>\n",
       "    <tr>\n",
       "      <th>3</th>\n",
       "      <td>Apr 23, 2019</td>\n",
       "      <td>03/2019</td>\n",
       "      <td>1.06</td>\n",
       "      <td>/  1.03</td>\n",
       "      <td>16.46B</td>\n",
       "      <td>/  16.36B</td>\n",
       "    </tr>\n",
       "    <tr>\n",
       "      <th>4</th>\n",
       "      <td>Jan 23, 2019</td>\n",
       "      <td>12/2018</td>\n",
       "      <td>1.25</td>\n",
       "      <td>/  1.21</td>\n",
       "      <td>17.44B</td>\n",
       "      <td>/  17.16B</td>\n",
       "    </tr>\n",
       "  </tbody>\n",
       "</table>\n",
       "</div>"
      ],
      "text/plain": [
       "   Date_publish   Period   BPA  PrevBPA Revenue PrevRevenue\n",
       "0  Jan 23, 2020  12/2019  1.42  /  1.21  18.24B  /  17,147M\n",
       "1  Oct 22, 2019  09/2019  1.37  /  1.24   17.8B   /  17.45B\n",
       "2  Jul 30, 2019  06/2019   1.1  /  1.05  17.09B   /  16.86B\n",
       "3  Apr 23, 2019  03/2019  1.06  /  1.03  16.46B   /  16.36B\n",
       "4  Jan 23, 2019  12/2018  1.25  /  1.21  17.44B   /  17.16B"
      ]
     },
     "execution_count": 63,
     "metadata": {},
     "output_type": "execute_result"
    }
   ],
   "source": [
    "colnames = ['Date_publish','Period','BPA','PrevBPA','Revenue','PrevRevenue']\n",
    "datos=rows\n",
    "df=pd.DataFrame(datos[2:], columns=colnames)\n",
    "df"
   ]
  },
  {
   "cell_type": "code",
   "execution_count": 64,
   "metadata": {
    "ExecuteTime": {
     "end_time": "2020-02-16T22:08:59.716102Z",
     "start_time": "2020-02-16T22:08:59.687932Z"
    }
   },
   "outputs": [
    {
     "data": {
      "text/html": [
       "<div>\n",
       "<style scoped>\n",
       "    .dataframe tbody tr th:only-of-type {\n",
       "        vertical-align: middle;\n",
       "    }\n",
       "\n",
       "    .dataframe tbody tr th {\n",
       "        vertical-align: top;\n",
       "    }\n",
       "\n",
       "    .dataframe thead th {\n",
       "        text-align: right;\n",
       "    }\n",
       "</style>\n",
       "<table border=\"1\" class=\"dataframe\">\n",
       "  <thead>\n",
       "    <tr style=\"text-align: right;\">\n",
       "      <th></th>\n",
       "      <th>Date_publish</th>\n",
       "      <th>Period</th>\n",
       "      <th>BPA</th>\n",
       "      <th>PrevBPA</th>\n",
       "      <th>Revenue</th>\n",
       "      <th>PrevRevenue</th>\n",
       "    </tr>\n",
       "  </thead>\n",
       "  <tbody>\n",
       "    <tr>\n",
       "      <th>0</th>\n",
       "      <td>2020-01-23</td>\n",
       "      <td>2019-12-30</td>\n",
       "      <td>1.42</td>\n",
       "      <td>1.21</td>\n",
       "      <td>18.24</td>\n",
       "      <td>17.147</td>\n",
       "    </tr>\n",
       "    <tr>\n",
       "      <th>1</th>\n",
       "      <td>2019-10-22</td>\n",
       "      <td>2019-09-30</td>\n",
       "      <td>1.37</td>\n",
       "      <td>1.24</td>\n",
       "      <td>17.80</td>\n",
       "      <td>17.450</td>\n",
       "    </tr>\n",
       "    <tr>\n",
       "      <th>2</th>\n",
       "      <td>2019-07-30</td>\n",
       "      <td>2019-06-30</td>\n",
       "      <td>1.1</td>\n",
       "      <td>1.05</td>\n",
       "      <td>17.09</td>\n",
       "      <td>16.860</td>\n",
       "    </tr>\n",
       "    <tr>\n",
       "      <th>3</th>\n",
       "      <td>2019-04-23</td>\n",
       "      <td>2019-03-30</td>\n",
       "      <td>1.06</td>\n",
       "      <td>1.03</td>\n",
       "      <td>16.46</td>\n",
       "      <td>16.360</td>\n",
       "    </tr>\n",
       "    <tr>\n",
       "      <th>4</th>\n",
       "      <td>2019-01-23</td>\n",
       "      <td>2018-12-30</td>\n",
       "      <td>1.25</td>\n",
       "      <td>1.21</td>\n",
       "      <td>17.44</td>\n",
       "      <td>17.160</td>\n",
       "    </tr>\n",
       "  </tbody>\n",
       "</table>\n",
       "</div>"
      ],
      "text/plain": [
       "  Date_publish      Period   BPA PrevBPA  Revenue  PrevRevenue\n",
       "0   2020-01-23  2019-12-30  1.42    1.21    18.24       17.147\n",
       "1   2019-10-22  2019-09-30  1.37    1.24    17.80       17.450\n",
       "2   2019-07-30  2019-06-30   1.1    1.05    17.09       16.860\n",
       "3   2019-04-23  2019-03-30  1.06    1.03    16.46       16.360\n",
       "4   2019-01-23  2018-12-30  1.25    1.21    17.44       17.160"
      ]
     },
     "execution_count": 64,
     "metadata": {},
     "output_type": "execute_result"
    }
   ],
   "source": [
    "df['Date_publish']=pd.to_datetime(df['Date_publish']).dt.date\n",
    "df['Period']='30/'+df['Period']\n",
    "df['Period']=pd.to_datetime(df['Period']).dt.date\n",
    "df=df.replace('[,]', '.', regex=True)\n",
    "df['PrevBPA']=df['PrevBPA'].replace('/', '', regex=True)\n",
    "df['Revenue']=df['Revenue'].replace('[A-Z]', '', regex=True).astype(float)\n",
    "df['PrevRevenue']=df['PrevRevenue'].replace('/', '', regex=True)\n",
    "df['PrevRevenue']=df['PrevRevenue'].replace('[A-Z]', '', regex=True).astype(float)\n",
    "df"
   ]
  },
  {
   "cell_type": "markdown",
   "metadata": {},
   "source": [
    "### API"
   ]
  },
  {
   "cell_type": "code",
   "execution_count": 65,
   "metadata": {
    "ExecuteTime": {
     "end_time": "2020-02-16T22:09:06.740618Z",
     "start_time": "2020-02-16T22:09:05.982489Z"
    }
   },
   "outputs": [],
   "source": [
    "#https://financialmodelingprep.com/developer/docs/companies-key-stats-free-api/#Python\n",
    "\n",
    "#'https://financialmodelingprep.com/api/v3/historical-price-full/AAPL'\n",
    "\n",
    "\n",
    "url = f'https://financialmodelingprep.com/api/v3/historical-price-full/{name_api}'\n",
    "response = requests.get(url)\n",
    "\n"
   ]
  },
  {
   "cell_type": "code",
   "execution_count": 66,
   "metadata": {
    "ExecuteTime": {
     "end_time": "2020-02-16T22:09:12.339369Z",
     "start_time": "2020-02-16T22:09:12.287852Z"
    }
   },
   "outputs": [],
   "source": [
    "result=response.json()\n",
    "result\n",
    "data=pd.DataFrame(json_normalize(result))"
   ]
  },
  {
   "cell_type": "code",
   "execution_count": 67,
   "metadata": {
    "ExecuteTime": {
     "end_time": "2020-02-16T22:09:17.913634Z",
     "start_time": "2020-02-16T22:09:17.911260Z"
    }
   },
   "outputs": [],
   "source": [
    "#data['historical'][0]"
   ]
  },
  {
   "cell_type": "code",
   "execution_count": 68,
   "metadata": {
    "ExecuteTime": {
     "end_time": "2020-02-16T22:09:23.445416Z",
     "start_time": "2020-02-16T22:09:23.366594Z"
    }
   },
   "outputs": [
    {
     "data": {
      "text/html": [
       "<div>\n",
       "<style scoped>\n",
       "    .dataframe tbody tr th:only-of-type {\n",
       "        vertical-align: middle;\n",
       "    }\n",
       "\n",
       "    .dataframe tbody tr th {\n",
       "        vertical-align: top;\n",
       "    }\n",
       "\n",
       "    .dataframe thead th {\n",
       "        text-align: right;\n",
       "    }\n",
       "</style>\n",
       "<table border=\"1\" class=\"dataframe\">\n",
       "  <thead>\n",
       "    <tr style=\"text-align: right;\">\n",
       "      <th></th>\n",
       "      <th>date</th>\n",
       "      <th>open</th>\n",
       "      <th>high</th>\n",
       "      <th>low</th>\n",
       "      <th>close</th>\n",
       "      <th>adjClose</th>\n",
       "      <th>volume</th>\n",
       "      <th>unadjustedVolume</th>\n",
       "      <th>change</th>\n",
       "      <th>changePercent</th>\n",
       "      <th>vwap</th>\n",
       "      <th>label</th>\n",
       "      <th>changeOverTime</th>\n",
       "    </tr>\n",
       "  </thead>\n",
       "  <tbody>\n",
       "    <tr>\n",
       "      <th>0</th>\n",
       "      <td>2015-02-17</td>\n",
       "      <td>86.06</td>\n",
       "      <td>86.06</td>\n",
       "      <td>85.00</td>\n",
       "      <td>85.49</td>\n",
       "      <td>74.01</td>\n",
       "      <td>10310400.0</td>\n",
       "      <td>10310400.0</td>\n",
       "      <td>0.57</td>\n",
       "      <td>0.662</td>\n",
       "      <td>85.51667</td>\n",
       "      <td>February 17, 15</td>\n",
       "      <td>0.00662</td>\n",
       "    </tr>\n",
       "    <tr>\n",
       "      <th>1</th>\n",
       "      <td>2015-02-18</td>\n",
       "      <td>85.76</td>\n",
       "      <td>86.39</td>\n",
       "      <td>85.52</td>\n",
       "      <td>86.26</td>\n",
       "      <td>74.68</td>\n",
       "      <td>8132300.0</td>\n",
       "      <td>8132300.0</td>\n",
       "      <td>-0.50</td>\n",
       "      <td>-0.583</td>\n",
       "      <td>86.05667</td>\n",
       "      <td>February 18, 15</td>\n",
       "      <td>-0.00583</td>\n",
       "    </tr>\n",
       "    <tr>\n",
       "      <th>2</th>\n",
       "      <td>2015-02-19</td>\n",
       "      <td>86.11</td>\n",
       "      <td>86.30</td>\n",
       "      <td>85.05</td>\n",
       "      <td>85.21</td>\n",
       "      <td>73.77</td>\n",
       "      <td>7271600.0</td>\n",
       "      <td>7271600.0</td>\n",
       "      <td>0.90</td>\n",
       "      <td>1.045</td>\n",
       "      <td>85.52000</td>\n",
       "      <td>February 19, 15</td>\n",
       "      <td>0.01045</td>\n",
       "    </tr>\n",
       "    <tr>\n",
       "      <th>3</th>\n",
       "      <td>2015-02-20</td>\n",
       "      <td>84.95</td>\n",
       "      <td>85.05</td>\n",
       "      <td>84.19</td>\n",
       "      <td>84.87</td>\n",
       "      <td>73.47</td>\n",
       "      <td>9581300.0</td>\n",
       "      <td>9581300.0</td>\n",
       "      <td>0.08</td>\n",
       "      <td>0.094</td>\n",
       "      <td>84.70333</td>\n",
       "      <td>February 20, 15</td>\n",
       "      <td>0.00094</td>\n",
       "    </tr>\n",
       "    <tr>\n",
       "      <th>4</th>\n",
       "      <td>2015-02-23</td>\n",
       "      <td>84.96</td>\n",
       "      <td>85.50</td>\n",
       "      <td>84.65</td>\n",
       "      <td>85.39</td>\n",
       "      <td>73.92</td>\n",
       "      <td>7919200.0</td>\n",
       "      <td>7919200.0</td>\n",
       "      <td>-0.43</td>\n",
       "      <td>-0.506</td>\n",
       "      <td>85.18000</td>\n",
       "      <td>February 23, 15</td>\n",
       "      <td>-0.00506</td>\n",
       "    </tr>\n",
       "    <tr>\n",
       "      <th>...</th>\n",
       "      <td>...</td>\n",
       "      <td>...</td>\n",
       "      <td>...</td>\n",
       "      <td>...</td>\n",
       "      <td>...</td>\n",
       "      <td>...</td>\n",
       "      <td>...</td>\n",
       "      <td>...</td>\n",
       "      <td>...</td>\n",
       "      <td>...</td>\n",
       "      <td>...</td>\n",
       "      <td>...</td>\n",
       "      <td>...</td>\n",
       "    </tr>\n",
       "    <tr>\n",
       "      <th>1254</th>\n",
       "      <td>2020-02-10</td>\n",
       "      <td>126.46</td>\n",
       "      <td>126.83</td>\n",
       "      <td>125.76</td>\n",
       "      <td>126.17</td>\n",
       "      <td>126.17</td>\n",
       "      <td>5216100.0</td>\n",
       "      <td>5216100.0</td>\n",
       "      <td>0.29</td>\n",
       "      <td>0.229</td>\n",
       "      <td>126.25333</td>\n",
       "      <td>February 10, 20</td>\n",
       "      <td>0.00229</td>\n",
       "    </tr>\n",
       "    <tr>\n",
       "      <th>1255</th>\n",
       "      <td>2020-02-11</td>\n",
       "      <td>126.27</td>\n",
       "      <td>126.27</td>\n",
       "      <td>124.03</td>\n",
       "      <td>124.16</td>\n",
       "      <td>124.16</td>\n",
       "      <td>6105700.0</td>\n",
       "      <td>6105700.0</td>\n",
       "      <td>2.11</td>\n",
       "      <td>1.671</td>\n",
       "      <td>124.82000</td>\n",
       "      <td>February 11, 20</td>\n",
       "      <td>0.01671</td>\n",
       "    </tr>\n",
       "    <tr>\n",
       "      <th>1256</th>\n",
       "      <td>2020-02-12</td>\n",
       "      <td>123.68</td>\n",
       "      <td>123.97</td>\n",
       "      <td>122.85</td>\n",
       "      <td>123.45</td>\n",
       "      <td>123.45</td>\n",
       "      <td>6031700.0</td>\n",
       "      <td>6031700.0</td>\n",
       "      <td>0.23</td>\n",
       "      <td>0.186</td>\n",
       "      <td>123.42333</td>\n",
       "      <td>February 12, 20</td>\n",
       "      <td>0.00186</td>\n",
       "    </tr>\n",
       "    <tr>\n",
       "      <th>1257</th>\n",
       "      <td>2020-02-13</td>\n",
       "      <td>123.73</td>\n",
       "      <td>125.28</td>\n",
       "      <td>123.52</td>\n",
       "      <td>124.96</td>\n",
       "      <td>124.96</td>\n",
       "      <td>7159000.0</td>\n",
       "      <td>7159000.0</td>\n",
       "      <td>-1.23</td>\n",
       "      <td>-0.994</td>\n",
       "      <td>124.58667</td>\n",
       "      <td>February 13, 20</td>\n",
       "      <td>-0.00994</td>\n",
       "    </tr>\n",
       "    <tr>\n",
       "      <th>1258</th>\n",
       "      <td>2020-02-14</td>\n",
       "      <td>125.29</td>\n",
       "      <td>126.15</td>\n",
       "      <td>124.79</td>\n",
       "      <td>126.14</td>\n",
       "      <td>126.14</td>\n",
       "      <td>5889100.0</td>\n",
       "      <td>5889100.0</td>\n",
       "      <td>-0.85</td>\n",
       "      <td>-0.678</td>\n",
       "      <td>125.69333</td>\n",
       "      <td>February 14, 20</td>\n",
       "      <td>-0.00678</td>\n",
       "    </tr>\n",
       "  </tbody>\n",
       "</table>\n",
       "<p>1259 rows × 13 columns</p>\n",
       "</div>"
      ],
      "text/plain": [
       "            date    open    high     low   close  adjClose      volume  \\\n",
       "0     2015-02-17   86.06   86.06   85.00   85.49     74.01  10310400.0   \n",
       "1     2015-02-18   85.76   86.39   85.52   86.26     74.68   8132300.0   \n",
       "2     2015-02-19   86.11   86.30   85.05   85.21     73.77   7271600.0   \n",
       "3     2015-02-20   84.95   85.05   84.19   84.87     73.47   9581300.0   \n",
       "4     2015-02-23   84.96   85.50   84.65   85.39     73.92   7919200.0   \n",
       "...          ...     ...     ...     ...     ...       ...         ...   \n",
       "1254  2020-02-10  126.46  126.83  125.76  126.17    126.17   5216100.0   \n",
       "1255  2020-02-11  126.27  126.27  124.03  124.16    124.16   6105700.0   \n",
       "1256  2020-02-12  123.68  123.97  122.85  123.45    123.45   6031700.0   \n",
       "1257  2020-02-13  123.73  125.28  123.52  124.96    124.96   7159000.0   \n",
       "1258  2020-02-14  125.29  126.15  124.79  126.14    126.14   5889100.0   \n",
       "\n",
       "      unadjustedVolume  change  changePercent       vwap            label  \\\n",
       "0           10310400.0    0.57          0.662   85.51667  February 17, 15   \n",
       "1            8132300.0   -0.50         -0.583   86.05667  February 18, 15   \n",
       "2            7271600.0    0.90          1.045   85.52000  February 19, 15   \n",
       "3            9581300.0    0.08          0.094   84.70333  February 20, 15   \n",
       "4            7919200.0   -0.43         -0.506   85.18000  February 23, 15   \n",
       "...                ...     ...            ...        ...              ...   \n",
       "1254         5216100.0    0.29          0.229  126.25333  February 10, 20   \n",
       "1255         6105700.0    2.11          1.671  124.82000  February 11, 20   \n",
       "1256         6031700.0    0.23          0.186  123.42333  February 12, 20   \n",
       "1257         7159000.0   -1.23         -0.994  124.58667  February 13, 20   \n",
       "1258         5889100.0   -0.85         -0.678  125.69333  February 14, 20   \n",
       "\n",
       "      changeOverTime  \n",
       "0            0.00662  \n",
       "1           -0.00583  \n",
       "2            0.01045  \n",
       "3            0.00094  \n",
       "4           -0.00506  \n",
       "...              ...  \n",
       "1254         0.00229  \n",
       "1255         0.01671  \n",
       "1256         0.00186  \n",
       "1257        -0.00994  \n",
       "1258        -0.00678  \n",
       "\n",
       "[1259 rows x 13 columns]"
      ]
     },
     "execution_count": 68,
     "metadata": {},
     "output_type": "execute_result"
    }
   ],
   "source": [
    "data2=json_normalize(data['historical'][0])\n",
    "data2"
   ]
  },
  {
   "cell_type": "code",
   "execution_count": 69,
   "metadata": {
    "ExecuteTime": {
     "end_time": "2020-02-16T22:09:28.965992Z",
     "start_time": "2020-02-16T22:09:28.953637Z"
    }
   },
   "outputs": [
    {
     "name": "stderr",
     "output_type": "stream",
     "text": [
      "/usr/local/lib/python3.7/site-packages/ipykernel_launcher.py:2: SettingWithCopyWarning: \n",
      "A value is trying to be set on a copy of a slice from a DataFrame.\n",
      "Try using .loc[row_indexer,col_indexer] = value instead\n",
      "\n",
      "See the caveats in the documentation: http://pandas.pydata.org/pandas-docs/stable/user_guide/indexing.html#returning-a-view-versus-a-copy\n",
      "  \n"
     ]
    }
   ],
   "source": [
    "data3=data2[['date','open','close','volume','change','changePercent','vwap']]\n",
    "data3['date']=pd.to_datetime(data3['date']).dt.date"
   ]
  },
  {
   "cell_type": "code",
   "execution_count": 70,
   "metadata": {
    "ExecuteTime": {
     "end_time": "2020-02-16T22:09:34.403672Z",
     "start_time": "2020-02-16T22:09:34.386939Z"
    }
   },
   "outputs": [
    {
     "data": {
      "text/html": [
       "<div>\n",
       "<style scoped>\n",
       "    .dataframe tbody tr th:only-of-type {\n",
       "        vertical-align: middle;\n",
       "    }\n",
       "\n",
       "    .dataframe tbody tr th {\n",
       "        vertical-align: top;\n",
       "    }\n",
       "\n",
       "    .dataframe thead th {\n",
       "        text-align: right;\n",
       "    }\n",
       "</style>\n",
       "<table border=\"1\" class=\"dataframe\">\n",
       "  <thead>\n",
       "    <tr style=\"text-align: right;\">\n",
       "      <th></th>\n",
       "      <th>date</th>\n",
       "      <th>open</th>\n",
       "      <th>close</th>\n",
       "      <th>volume</th>\n",
       "      <th>change</th>\n",
       "      <th>changePercent</th>\n",
       "      <th>vwap</th>\n",
       "    </tr>\n",
       "  </thead>\n",
       "  <tbody>\n",
       "    <tr>\n",
       "      <th>0</th>\n",
       "      <td>2015-02-17</td>\n",
       "      <td>86.06</td>\n",
       "      <td>85.49</td>\n",
       "      <td>10310400.0</td>\n",
       "      <td>0.57</td>\n",
       "      <td>0.662</td>\n",
       "      <td>85.51667</td>\n",
       "    </tr>\n",
       "    <tr>\n",
       "      <th>1</th>\n",
       "      <td>2015-02-18</td>\n",
       "      <td>85.76</td>\n",
       "      <td>86.26</td>\n",
       "      <td>8132300.0</td>\n",
       "      <td>-0.50</td>\n",
       "      <td>-0.583</td>\n",
       "      <td>86.05667</td>\n",
       "    </tr>\n",
       "    <tr>\n",
       "      <th>2</th>\n",
       "      <td>2015-02-19</td>\n",
       "      <td>86.11</td>\n",
       "      <td>85.21</td>\n",
       "      <td>7271600.0</td>\n",
       "      <td>0.90</td>\n",
       "      <td>1.045</td>\n",
       "      <td>85.52000</td>\n",
       "    </tr>\n",
       "    <tr>\n",
       "      <th>3</th>\n",
       "      <td>2015-02-20</td>\n",
       "      <td>84.95</td>\n",
       "      <td>84.87</td>\n",
       "      <td>9581300.0</td>\n",
       "      <td>0.08</td>\n",
       "      <td>0.094</td>\n",
       "      <td>84.70333</td>\n",
       "    </tr>\n",
       "    <tr>\n",
       "      <th>4</th>\n",
       "      <td>2015-02-23</td>\n",
       "      <td>84.96</td>\n",
       "      <td>85.39</td>\n",
       "      <td>7919200.0</td>\n",
       "      <td>-0.43</td>\n",
       "      <td>-0.506</td>\n",
       "      <td>85.18000</td>\n",
       "    </tr>\n",
       "  </tbody>\n",
       "</table>\n",
       "</div>"
      ],
      "text/plain": [
       "         date   open  close      volume  change  changePercent      vwap\n",
       "0  2015-02-17  86.06  85.49  10310400.0    0.57          0.662  85.51667\n",
       "1  2015-02-18  85.76  86.26   8132300.0   -0.50         -0.583  86.05667\n",
       "2  2015-02-19  86.11  85.21   7271600.0    0.90          1.045  85.52000\n",
       "3  2015-02-20  84.95  84.87   9581300.0    0.08          0.094  84.70333\n",
       "4  2015-02-23  84.96  85.39   7919200.0   -0.43         -0.506  85.18000"
      ]
     },
     "execution_count": 70,
     "metadata": {},
     "output_type": "execute_result"
    }
   ],
   "source": [
    "data3.head(5)"
   ]
  },
  {
   "cell_type": "code",
   "execution_count": 71,
   "metadata": {
    "ExecuteTime": {
     "end_time": "2020-02-16T22:09:40.176631Z",
     "start_time": "2020-02-16T22:09:39.938930Z"
    }
   },
   "outputs": [
    {
     "data": {
      "text/plain": [
       "<matplotlib.collections.PathCollection at 0x116218ad0>"
      ]
     },
     "execution_count": 71,
     "metadata": {},
     "output_type": "execute_result"
    },
    {
     "data": {
      "image/png": "[encoded data removed]",
      "text/plain": [
       "<Figure size 432x288 with 1 Axes>"
      ]
     },
     "metadata": {
      "needs_background": "light"
     },
     "output_type": "display_data"
    }
   ],
   "source": [
    "plt.scatter(data3['date'], data3['open'], s =0.2, c = 'red')"
   ]
  },
  {
   "cell_type": "code",
   "execution_count": 72,
   "metadata": {
    "ExecuteTime": {
     "end_time": "2020-02-16T22:09:47.989824Z",
     "start_time": "2020-02-16T22:09:47.737629Z"
    }
   },
   "outputs": [
    {
     "data": {
      "text/plain": [
       "<matplotlib.collections.PathCollection at 0x10760a190>"
      ]
     },
     "execution_count": 72,
     "metadata": {},
     "output_type": "execute_result"
    },
    {
     "data": {
      "image/png": "[encoded data removed]",
      "text/plain": [
       "<Figure size 432x288 with 1 Axes>"
      ]
     },
     "metadata": {
      "needs_background": "light"
     },
     "output_type": "display_data"
    }
   ],
   "source": [
    "plt.scatter(df['Date_publish'], df['Revenue'], s =5, c = 'red')"
   ]
  },
  {
   "cell_type": "code",
   "execution_count": 73,
   "metadata": {
    "ExecuteTime": {
     "end_time": "2020-02-16T22:09:54.666013Z",
     "start_time": "2020-02-16T22:09:54.270278Z"
    }
   },
   "outputs": [
    {
     "data": {
      "text/plain": [
       "[<matplotlib.lines.Line2D at 0x117a684d0>]"
      ]
     },
     "execution_count": 73,
     "metadata": {},
     "output_type": "execute_result"
    },
    {
     "data": {
      "image/png": "[encoded data removed]",
      "text/plain": [
       "<Figure size 1080x504 with 1 Axes>"
      ]
     },
     "metadata": {
      "needs_background": "light"
     },
     "output_type": "display_data"
    }
   ],
   "source": [
    "# Requirement 1\n",
    "fig,ax = plt.subplots(nrows=1,ncols=1,figsize=(15,7),subplot_kw = {'title' :companies_dropdown.value})\n",
    "\n",
    "\n",
    "ax.plot(data3.date,data3.open,\n",
    "       linewidth=2.5,color='darkmagenta',label=2014)\n",
    "\n",
    "\n",
    "ax.plot(df.Period,df.Revenue,\n",
    "        linewidth=2,\n",
    "       color='grey',\n",
    "       alpha=0.3,\n",
    "        marker = 'o', \n",
    "        markersize = 5,\n",
    "        markeredgecolor = 'black',\n",
    "        markeredgewidth = 2)\n",
    "\n",
    "ax.plot(df.Period,df.PrevRevenue,\n",
    "        linewidth=2,\n",
    "       color='darkblue',\n",
    "       alpha=0.3,\n",
    "        marker = 'o', \n",
    "        markersize = 5,\n",
    "        markeredgecolor = 'black',\n",
    "        markeredgewidth = 2)\n"
   ]
  },
  {
   "cell_type": "code",
   "execution_count": 2,
   "metadata": {
    "ExecuteTime": {
     "end_time": "2020-02-19T18:52:12.333097Z",
     "start_time": "2020-02-19T18:52:11.940213Z"
    }
   },
   "outputs": [],
   "source": [
    "\n",
    "\n"
   ]
  },
  {
   "cell_type": "code",
   "execution_count": null,
   "metadata": {
    "ExecuteTime": {
     "end_time": "2020-02-19T19:00:26.667030Z",
     "start_time": "2020-02-19T19:00:26.530468Z"
    }
   },
   "outputs": [],
   "source": []
  },
  {
   "cell_type": "code",
   "execution_count": 70,
   "metadata": {
    "ExecuteTime": {
     "end_time": "2020-02-19T20:22:30.352846Z",
     "start_time": "2020-02-19T20:22:08.442921Z"
    }
   },
   "outputs": [],
   "source": [
    "import time\n",
    "from selenium import webdriver\n",
    "\n",
    "driver = webdriver.Chrome('/Users/inesgalofrebofill/Documents/Ironhack/chromedriver')  # Optional argument, if not specified will search path.\n",
    "driver.get('https://www.investing.com/equities/google-inc-earnings');\n",
    "time.sleep(2) # Let the user actually see something!\n",
    "search_box = driver.find_elements_by_id('showMoreEarningsHistory')[0]\n",
    "search_box.click()\n",
    "time.sleep(2)\n",
    "search_box.click()\n",
    "time.sleep(2)\n",
    "search_box.click()\n",
    "time.sleep(2)\n",
    "search_box.click()\n",
    "\n",
    "#html=driver.page_source\n",
    "time.sleep(2)\n",
    "df = pd.read_html(driver.page_source)[0]\n",
    "\n",
    "\n",
    "#url='https://investing.com/equities'\n",
    "#headers = {'user-agent': 'Mozilla/5.0 (Macintosh; Intel Mac OS X 10_14_6) AppleWebKit/537.36 (KHTML, like Gecko) Chrome/79.0.3945.130 Safari/537.36'}\n",
    "\n",
    "#html=requests.get(url,headers=headers).content\n",
    "'''table = driver.find_element_by_id('earningsHistory6369')\n",
    "table.get_attribute()\n",
    "table=table.text\n",
    "print(table)\n",
    "colnames = ['Date_publish','Period','BPA','PrevBPA','Revenue','PrevRevenue']\n",
    "datos=list(table)\n",
    "df=pd.DataFrame(datos)\n",
    "print(df)'''\n",
    "\n",
    "\n",
    "#table = soup.find_all('table',{'class':'genTbl openTbl ecoCalTbl earnings earningsPageTbl'})\n",
    "#soup=BeautifulSoup(html,'lxml')\n",
    "#print(soup)\n",
    "#table = soup.find_all('table',{'id':'cross_rate_markets_stocks_1'})\n",
    "\n",
    "#table2=table[0]\n",
    "\n",
    "#rows=table2.find_all('tr')\n",
    "#rows=rows[1:]\n",
    "\n",
    "\n",
    "#print(rows)\n",
    "\n",
    "\n",
    "\n",
    "time.sleep(5) # Let the user actually see something!\n",
    "driver.quit()\n"
   ]
  },
  {
   "cell_type": "code",
   "execution_count": 71,
   "metadata": {
    "ExecuteTime": {
     "end_time": "2020-02-19T20:22:33.186967Z",
     "start_time": "2020-02-19T20:22:33.165456Z"
    }
   },
   "outputs": [
    {
     "data": {
      "text/html": [
       "<div>\n",
       "<style scoped>\n",
       "    .dataframe tbody tr th:only-of-type {\n",
       "        vertical-align: middle;\n",
       "    }\n",
       "\n",
       "    .dataframe tbody tr th {\n",
       "        vertical-align: top;\n",
       "    }\n",
       "\n",
       "    .dataframe thead th {\n",
       "        text-align: right;\n",
       "    }\n",
       "</style>\n",
       "<table border=\"1\" class=\"dataframe\">\n",
       "  <thead>\n",
       "    <tr style=\"text-align: right;\">\n",
       "      <th></th>\n",
       "      <th>Release Date</th>\n",
       "      <th>Period End</th>\n",
       "      <th>EPS</th>\n",
       "      <th>/ Forecast</th>\n",
       "      <th>Revenue</th>\n",
       "      <th>/ Forecast.1</th>\n",
       "    </tr>\n",
       "  </thead>\n",
       "  <tbody>\n",
       "    <tr>\n",
       "      <th>0</th>\n",
       "      <td>Apr 22, 2020</td>\n",
       "      <td>03/2020</td>\n",
       "      <td>--</td>\n",
       "      <td>/ 12.15</td>\n",
       "      <td>--</td>\n",
       "      <td>/ 42.92B</td>\n",
       "    </tr>\n",
       "    <tr>\n",
       "      <th>1</th>\n",
       "      <td>Feb 03, 2020</td>\n",
       "      <td>12/2019</td>\n",
       "      <td>15.35</td>\n",
       "      <td>/ 12.49</td>\n",
       "      <td>46.08B</td>\n",
       "      <td>/ 46.93B</td>\n",
       "    </tr>\n",
       "    <tr>\n",
       "      <th>2</th>\n",
       "      <td>Oct 28, 2019</td>\n",
       "      <td>09/2019</td>\n",
       "      <td>10.12</td>\n",
       "      <td>/ 12.32</td>\n",
       "      <td>40.5B</td>\n",
       "      <td>/ 40.31B</td>\n",
       "    </tr>\n",
       "    <tr>\n",
       "      <th>3</th>\n",
       "      <td>Jul 25, 2019</td>\n",
       "      <td>06/2019</td>\n",
       "      <td>14.21</td>\n",
       "      <td>/ 11.1</td>\n",
       "      <td>38.94B</td>\n",
       "      <td>/ 38.15B</td>\n",
       "    </tr>\n",
       "    <tr>\n",
       "      <th>4</th>\n",
       "      <td>Apr 29, 2019</td>\n",
       "      <td>03/2019</td>\n",
       "      <td>9.5</td>\n",
       "      <td>/ 10.6</td>\n",
       "      <td>36.34B</td>\n",
       "      <td>/ 37.3B</td>\n",
       "    </tr>\n",
       "    <tr>\n",
       "      <th>5</th>\n",
       "      <td>Feb 04, 2019</td>\n",
       "      <td>12/2018</td>\n",
       "      <td>12.77</td>\n",
       "      <td>/ 10.88</td>\n",
       "      <td>39.28B</td>\n",
       "      <td>/ 38.91B</td>\n",
       "    </tr>\n",
       "    <tr>\n",
       "      <th>6</th>\n",
       "      <td>Oct 25, 2018</td>\n",
       "      <td>09/2018</td>\n",
       "      <td>13.06</td>\n",
       "      <td>/ 10.41</td>\n",
       "      <td>33.74B</td>\n",
       "      <td>/ 33.61B</td>\n",
       "    </tr>\n",
       "    <tr>\n",
       "      <th>7</th>\n",
       "      <td>Jul 23, 2018</td>\n",
       "      <td>06/2018</td>\n",
       "      <td>11.75</td>\n",
       "      <td>/ 9.64</td>\n",
       "      <td>32.66B</td>\n",
       "      <td>/ 25.58B</td>\n",
       "    </tr>\n",
       "    <tr>\n",
       "      <th>8</th>\n",
       "      <td>Apr 23, 2018</td>\n",
       "      <td>03/2018</td>\n",
       "      <td>13.33</td>\n",
       "      <td>/ 9.28</td>\n",
       "      <td>31.15B</td>\n",
       "      <td>/ 24.86B</td>\n",
       "    </tr>\n",
       "    <tr>\n",
       "      <th>9</th>\n",
       "      <td>Feb 01, 2018</td>\n",
       "      <td>12/2017</td>\n",
       "      <td>9.70</td>\n",
       "      <td>/ 9.98</td>\n",
       "      <td>32.32B</td>\n",
       "      <td>/ 31,867M</td>\n",
       "    </tr>\n",
       "    <tr>\n",
       "      <th>10</th>\n",
       "      <td>Oct 26, 2017</td>\n",
       "      <td>09/2017</td>\n",
       "      <td>9.57</td>\n",
       "      <td>/ 8.33</td>\n",
       "      <td>27.77B</td>\n",
       "      <td>/ 27,204M</td>\n",
       "    </tr>\n",
       "    <tr>\n",
       "      <th>11</th>\n",
       "      <td>Jul 24, 2017</td>\n",
       "      <td>06/2017</td>\n",
       "      <td>9.57</td>\n",
       "      <td>/ 4.49</td>\n",
       "      <td>26.01B</td>\n",
       "      <td>/ 25,649M</td>\n",
       "    </tr>\n",
       "    <tr>\n",
       "      <th>12</th>\n",
       "      <td>Apr 27, 2017</td>\n",
       "      <td>03/2017</td>\n",
       "      <td>7.73</td>\n",
       "      <td>/ 7.38</td>\n",
       "      <td>24.75B</td>\n",
       "      <td>/ 24,207M</td>\n",
       "    </tr>\n",
       "    <tr>\n",
       "      <th>13</th>\n",
       "      <td>Jan 26, 2017</td>\n",
       "      <td>12/2016</td>\n",
       "      <td>9.36</td>\n",
       "      <td>/ 9.64</td>\n",
       "      <td>26.06B</td>\n",
       "      <td>/ 25,253M</td>\n",
       "    </tr>\n",
       "    <tr>\n",
       "      <th>14</th>\n",
       "      <td>Oct 27, 2016</td>\n",
       "      <td>09/2016</td>\n",
       "      <td>9.06</td>\n",
       "      <td>/ 8.63</td>\n",
       "      <td>22.45B</td>\n",
       "      <td>/ 22,054M</td>\n",
       "    </tr>\n",
       "    <tr>\n",
       "      <th>15</th>\n",
       "      <td>Jul 28, 2016</td>\n",
       "      <td>06/2016</td>\n",
       "      <td>9.06</td>\n",
       "      <td>/ 8.04</td>\n",
       "      <td>21.50B</td>\n",
       "      <td>/ 20,757M</td>\n",
       "    </tr>\n",
       "    <tr>\n",
       "      <th>16</th>\n",
       "      <td>Apr 21, 2016</td>\n",
       "      <td>03/2016</td>\n",
       "      <td>7.50</td>\n",
       "      <td>/ 7.97</td>\n",
       "      <td>20.26B</td>\n",
       "      <td>/ 20,369M</td>\n",
       "    </tr>\n",
       "    <tr>\n",
       "      <th>17</th>\n",
       "      <td>Feb 01, 2016</td>\n",
       "      <td>12/2015</td>\n",
       "      <td>7.50</td>\n",
       "      <td>/ 8.10</td>\n",
       "      <td>21.33B</td>\n",
       "      <td>/ 20,767M</td>\n",
       "    </tr>\n",
       "    <tr>\n",
       "      <th>18</th>\n",
       "      <td>Oct 22, 2015</td>\n",
       "      <td>09/2015</td>\n",
       "      <td>8.67</td>\n",
       "      <td>/ 7.21</td>\n",
       "      <td>18.68B</td>\n",
       "      <td>/ 18,531M</td>\n",
       "    </tr>\n",
       "    <tr>\n",
       "      <th>19</th>\n",
       "      <td>Jul 16, 2015</td>\n",
       "      <td>06/2015</td>\n",
       "      <td>6.99</td>\n",
       "      <td>/ 6.70</td>\n",
       "      <td>17.73B</td>\n",
       "      <td>/ 17,442M</td>\n",
       "    </tr>\n",
       "    <tr>\n",
       "      <th>20</th>\n",
       "      <td>Apr 23, 2015</td>\n",
       "      <td>03/2015</td>\n",
       "      <td>6.57</td>\n",
       "      <td>/ 6.60</td>\n",
       "      <td>17.26B</td>\n",
       "      <td>/ 17,517M</td>\n",
       "    </tr>\n",
       "    <tr>\n",
       "      <th>21</th>\n",
       "      <td>Jan 29, 2015</td>\n",
       "      <td>12/2014</td>\n",
       "      <td>6.57</td>\n",
       "      <td>/ 6.36</td>\n",
       "      <td>18.10B</td>\n",
       "      <td>/ 15,936M</td>\n",
       "    </tr>\n",
       "    <tr>\n",
       "      <th>22</th>\n",
       "      <td>Oct 16, 2014</td>\n",
       "      <td>09/2014</td>\n",
       "      <td>6.35</td>\n",
       "      <td>/ 6.53</td>\n",
       "      <td>16.52B</td>\n",
       "      <td>/ 16,571M</td>\n",
       "    </tr>\n",
       "    <tr>\n",
       "      <th>23</th>\n",
       "      <td>Jul 17, 2014</td>\n",
       "      <td>06/2014</td>\n",
       "      <td>6.08</td>\n",
       "      <td>/ 6.24</td>\n",
       "      <td>15.96B</td>\n",
       "      <td>/ 15,610M</td>\n",
       "    </tr>\n",
       "    <tr>\n",
       "      <th>24</th>\n",
       "      <td>Apr 16, 2014</td>\n",
       "      <td>03/2014</td>\n",
       "      <td>6.27</td>\n",
       "      <td>/ 6.41</td>\n",
       "      <td>--</td>\n",
       "      <td>/ 15,540M</td>\n",
       "    </tr>\n",
       "    <tr>\n",
       "      <th>25</th>\n",
       "      <td>Jan 30, 2014</td>\n",
       "      <td>12/2013</td>\n",
       "      <td>6.00</td>\n",
       "      <td>/ 6.10</td>\n",
       "      <td>--</td>\n",
       "      <td>/ 16,753M</td>\n",
       "    </tr>\n",
       "    <tr>\n",
       "      <th>26</th>\n",
       "      <td>Oct 17, 2013</td>\n",
       "      <td>09/2013</td>\n",
       "      <td>10.74</td>\n",
       "      <td>/ 5.17</td>\n",
       "      <td>--</td>\n",
       "      <td>/ 14,792M</td>\n",
       "    </tr>\n",
       "  </tbody>\n",
       "</table>\n",
       "</div>"
      ],
      "text/plain": [
       "    Release Date Period End    EPS / Forecast Revenue / Forecast.1\n",
       "0   Apr 22, 2020    03/2020     --    / 12.15      --     / 42.92B\n",
       "1   Feb 03, 2020    12/2019  15.35    / 12.49  46.08B     / 46.93B\n",
       "2   Oct 28, 2019    09/2019  10.12    / 12.32   40.5B     / 40.31B\n",
       "3   Jul 25, 2019    06/2019  14.21     / 11.1  38.94B     / 38.15B\n",
       "4   Apr 29, 2019    03/2019    9.5     / 10.6  36.34B      / 37.3B\n",
       "5   Feb 04, 2019    12/2018  12.77    / 10.88  39.28B     / 38.91B\n",
       "6   Oct 25, 2018    09/2018  13.06    / 10.41  33.74B     / 33.61B\n",
       "7   Jul 23, 2018    06/2018  11.75     / 9.64  32.66B     / 25.58B\n",
       "8   Apr 23, 2018    03/2018  13.33     / 9.28  31.15B     / 24.86B\n",
       "9   Feb 01, 2018    12/2017   9.70     / 9.98  32.32B    / 31,867M\n",
       "10  Oct 26, 2017    09/2017   9.57     / 8.33  27.77B    / 27,204M\n",
       "11  Jul 24, 2017    06/2017   9.57     / 4.49  26.01B    / 25,649M\n",
       "12  Apr 27, 2017    03/2017   7.73     / 7.38  24.75B    / 24,207M\n",
       "13  Jan 26, 2017    12/2016   9.36     / 9.64  26.06B    / 25,253M\n",
       "14  Oct 27, 2016    09/2016   9.06     / 8.63  22.45B    / 22,054M\n",
       "15  Jul 28, 2016    06/2016   9.06     / 8.04  21.50B    / 20,757M\n",
       "16  Apr 21, 2016    03/2016   7.50     / 7.97  20.26B    / 20,369M\n",
       "17  Feb 01, 2016    12/2015   7.50     / 8.10  21.33B    / 20,767M\n",
       "18  Oct 22, 2015    09/2015   8.67     / 7.21  18.68B    / 18,531M\n",
       "19  Jul 16, 2015    06/2015   6.99     / 6.70  17.73B    / 17,442M\n",
       "20  Apr 23, 2015    03/2015   6.57     / 6.60  17.26B    / 17,517M\n",
       "21  Jan 29, 2015    12/2014   6.57     / 6.36  18.10B    / 15,936M\n",
       "22  Oct 16, 2014    09/2014   6.35     / 6.53  16.52B    / 16,571M\n",
       "23  Jul 17, 2014    06/2014   6.08     / 6.24  15.96B    / 15,610M\n",
       "24  Apr 16, 2014    03/2014   6.27     / 6.41      --    / 15,540M\n",
       "25  Jan 30, 2014    12/2013   6.00     / 6.10      --    / 16,753M\n",
       "26  Oct 17, 2013    09/2013  10.74     / 5.17      --    / 14,792M"
      ]
     },
     "execution_count": 71,
     "metadata": {},
     "output_type": "execute_result"
    }
   ],
   "source": [
    "df"
   ]
  },
  {
   "cell_type": "code",
   "execution_count": 56,
   "metadata": {
    "ExecuteTime": {
     "end_time": "2020-02-19T20:02:10.600845Z",
     "start_time": "2020-02-19T20:02:10.586955Z"
    }
   },
   "outputs": [
    {
     "data": {
      "text/plain": [
       "['__class__',\n",
       " '__delattr__',\n",
       " '__dict__',\n",
       " '__dir__',\n",
       " '__doc__',\n",
       " '__eq__',\n",
       " '__format__',\n",
       " '__ge__',\n",
       " '__getattribute__',\n",
       " '__gt__',\n",
       " '__hash__',\n",
       " '__init__',\n",
       " '__init_subclass__',\n",
       " '__le__',\n",
       " '__lt__',\n",
       " '__module__',\n",
       " '__ne__',\n",
       " '__new__',\n",
       " '__reduce__',\n",
       " '__reduce_ex__',\n",
       " '__repr__',\n",
       " '__setattr__',\n",
       " '__sizeof__',\n",
       " '__str__',\n",
       " '__subclasshook__',\n",
       " '__weakref__',\n",
       " '_execute',\n",
       " '_id',\n",
       " '_parent',\n",
       " '_upload',\n",
       " '_w3c',\n",
       " 'clear',\n",
       " 'click',\n",
       " 'find_element',\n",
       " 'find_element_by_class_name',\n",
       " 'find_element_by_css_selector',\n",
       " 'find_element_by_id',\n",
       " 'find_element_by_link_text',\n",
       " 'find_element_by_name',\n",
       " 'find_element_by_partial_link_text',\n",
       " 'find_element_by_tag_name',\n",
       " 'find_element_by_xpath',\n",
       " 'find_elements',\n",
       " 'find_elements_by_class_name',\n",
       " 'find_elements_by_css_selector',\n",
       " 'find_elements_by_id',\n",
       " 'find_elements_by_link_text',\n",
       " 'find_elements_by_name',\n",
       " 'find_elements_by_partial_link_text',\n",
       " 'find_elements_by_tag_name',\n",
       " 'find_elements_by_xpath',\n",
       " 'get_attribute',\n",
       " 'get_property',\n",
       " 'id',\n",
       " 'is_displayed',\n",
       " 'is_enabled',\n",
       " 'is_selected',\n",
       " 'location',\n",
       " 'location_once_scrolled_into_view',\n",
       " 'parent',\n",
       " 'rect',\n",
       " 'screenshot',\n",
       " 'screenshot_as_base64',\n",
       " 'screenshot_as_png',\n",
       " 'send_keys',\n",
       " 'size',\n",
       " 'submit',\n",
       " 'tag_name',\n",
       " 'text',\n",
       " 'value_of_css_property']"
      ]
     },
     "execution_count": 56,
     "metadata": {},
     "output_type": "execute_result"
    }
   ],
   "source": [
    "dir(table)"
   ]
  },
  {
   "cell_type": "code",
   "execution_count": null,
   "metadata": {},
   "outputs": [],
   "source": []
  }
 ],
 "metadata": {
  "kernelspec": {
   "display_name": "Python 3",
   "language": "python",
   "name": "python3"
  },
  "language_info": {
   "codemirror_mode": {
    "name": "ipython",
    "version": 3
   },
   "file_extension": ".py",
   "mimetype": "text/x-python",
   "name": "python",
   "nbconvert_exporter": "python",
   "pygments_lexer": "ipython3",
   "version": "3.7.4"
  },
  "varInspector": {
   "cols": {
    "lenName": 16,
    "lenType": 16,
    "lenVar": 40
   },
   "kernels_config": {
    "python": {
     "delete_cmd_postfix": "",
     "delete_cmd_prefix": "del ",
     "library": "var_list.py",
     "varRefreshCmd": "print(var_dic_list())"
    },
    "r": {
     "delete_cmd_postfix": ") ",
     "delete_cmd_prefix": "rm(",
     "library": "var_list.r",
     "varRefreshCmd": "cat(var_dic_list()) "
    }
   },
   "types_to_exclude": [
    "module",
    "function",
    "builtin_function_or_method",
    "instance",
    "_Feature"
   ],
   "window_display": false
  }
 },
 "nbformat": 4,
 "nbformat_minor": 2
}
