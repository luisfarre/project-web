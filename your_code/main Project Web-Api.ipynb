{
 "cells": [
  {
   "cell_type": "markdown",
   "metadata": {},
   "source": [
    "# WEB SCRAPING + APIs PROJECT"
   ]
  },
  {
   "cell_type": "markdown",
   "metadata": {
    "heading_collapsed": true
   },
   "source": [
    "## Description"
   ]
  },
  {
   "cell_type": "markdown",
   "metadata": {
    "ExecuteTime": {
     "end_time": "2020-02-19T23:34:27.210488Z",
     "start_time": "2020-02-19T23:34:27.197064Z"
    },
    "hidden": true
   },
   "source": [
    "Creator: Luis Farre\n",
    "Date: 20/02/2020\n",
    "\n",
    "Description: El objetivo de este proyecto es obtener los datos necesarios \n",
    "para entender si existe una correlacion entre la cotizacion de las acciones \n",
    "de una empresa con la facturacion de esta.\n",
    "\n",
    "Para ello se ha sacado informacion sobre los resultados de www.investing.com\n",
    "Y se ha utilizado la api www.financialmodelingprep.com para obtener la evolucion de la cotizacion.\n"
   ]
  },
  {
   "cell_type": "markdown",
   "metadata": {
    "heading_collapsed": true
   },
   "source": [
    "## Imports"
   ]
  },
  {
   "cell_type": "code",
   "execution_count": 1,
   "metadata": {
    "ExecuteTime": {
     "end_time": "2020-02-20T22:27:42.918403Z",
     "start_time": "2020-02-20T22:27:41.999101Z"
    },
    "hidden": true
   },
   "outputs": [],
   "source": [
    "import json\n",
    "import requests\n",
    "import numpy as np\n",
    "import pandas as pd\n",
    "import base64\n",
    "from bs4 import BeautifulSoup\n",
    "from pandas.io.json import json_normalize\n",
    "import matplotlib.pyplot as plt\n",
    "%matplotlib inline\n",
    "from matplotlib import ticker\n",
    "import ipywidgets as widgets\n",
    "from IPython.display import display\n",
    "import re\n",
    "import time\n",
    "from selenium import webdriver"
   ]
  },
  {
   "cell_type": "markdown",
   "metadata": {},
   "source": [
    "## Web Scraping"
   ]
  },
  {
   "cell_type": "markdown",
   "metadata": {
    "heading_collapsed": true
   },
   "source": [
    "### Unites States 50 Companies"
   ]
  },
  {
   "cell_type": "code",
   "execution_count": 2,
   "metadata": {
    "ExecuteTime": {
     "end_time": "2020-02-20T22:27:46.217755Z",
     "start_time": "2020-02-20T22:27:42.921458Z"
    },
    "hidden": true
   },
   "outputs": [],
   "source": [
    "'''Se inspecciona la web y medinte el id, se saca la informacion completa de la tabla'''\n",
    "\n",
    "\n",
    "url='https://investing.com/equities'\n",
    "headers = {'user-agent': 'Mozilla/5.0 (Macintosh; Intel Mac OS X 10_14_6) AppleWebKit/537.36 (KHTML, like Gecko) Chrome/79.0.3945.130 Safari/537.36'}\n",
    "\n",
    "html=requests.get(url,headers=headers).content\n",
    "soup=BeautifulSoup(html,'lxml')\n",
    "\n",
    "table = soup.find_all('table',{'id':'cross_rate_markets_stocks_1'})[0]"
   ]
  },
  {
   "cell_type": "code",
   "execution_count": 3,
   "metadata": {
    "ExecuteTime": {
     "end_time": "2020-02-20T22:27:46.229200Z",
     "start_time": "2020-02-20T22:27:46.221351Z"
    },
    "hidden": true
   },
   "outputs": [],
   "source": [
    "rows=table.find_all('tr')\n",
    "rows=rows[1:]"
   ]
  },
  {
   "cell_type": "code",
   "execution_count": 4,
   "metadata": {
    "ExecuteTime": {
     "end_time": "2020-02-20T22:27:46.241297Z",
     "start_time": "2020-02-20T22:27:46.232150Z"
    },
    "hidden": true
   },
   "outputs": [],
   "source": [
    "'''Se obtienen los nombres de todas las empresas y los \n",
    "links especificos para entrar a ver el perfil y la informacion de cada una de ellas'''\n",
    "\n",
    "titles = [row.a.get('title') for row in rows]\n",
    "links = [row.a.get('href') for row in rows]"
   ]
  },
  {
   "cell_type": "markdown",
   "metadata": {
    "heading_collapsed": true
   },
   "source": [
    "### Widget to choose Company"
   ]
  },
  {
   "cell_type": "code",
   "execution_count": 5,
   "metadata": {
    "ExecuteTime": {
     "end_time": "2020-02-20T22:27:46.250884Z",
     "start_time": "2020-02-20T22:27:46.243907Z"
    },
    "hidden": true
   },
   "outputs": [],
   "source": [
    "'''Se crea un diccionario con todas las empresas de la tabla como key y el link como value'''\n",
    "\n",
    "dict_companies = { titles[i] : links[i] for i in range(len(titles)) }"
   ]
  },
  {
   "cell_type": "code",
   "execution_count": 6,
   "metadata": {
    "ExecuteTime": {
     "end_time": "2020-02-20T22:27:46.277563Z",
     "start_time": "2020-02-20T22:27:46.254984Z"
    },
    "hidden": true
   },
   "outputs": [
    {
     "data": {
      "application/vnd.jupyter.widget-view+json": {
       "model_id": "30899cbfd8d34f2ca5b949708f27f144",
       "version_major": 2,
       "version_minor": 0
      },
      "text/plain": [
       "Dropdown(description='Company:', options=('Chevron Corp', 'Citigroup Inc', 'Bank of America Corp', 'AT&T Inc',…"
      ]
     },
     "metadata": {},
     "output_type": "display_data"
    }
   ],
   "source": [
    "'''Se genera un widget Dropdown que permita seleccionar la empresa que se quiere hacer el analysis'''\n",
    "companies_dropdown=widgets.Dropdown(options=titles,description='Company:')\n",
    "companies_dropdown"
   ]
  },
  {
   "cell_type": "code",
   "execution_count": 7,
   "metadata": {
    "ExecuteTime": {
     "end_time": "2020-02-20T22:27:46.296335Z",
     "start_time": "2020-02-20T22:27:46.280450Z"
    },
    "hidden": true
   },
   "outputs": [
    {
     "data": {
      "text/plain": [
       "'/equities/chevron'"
      ]
     },
     "execution_count": 7,
     "metadata": {},
     "output_type": "execute_result"
    }
   ],
   "source": [
    "'''Se obtiene el value (link) de aquella empresa para poder acceder \n",
    "a la informacion especifica posteriormente'''\n",
    "\n",
    "company_web=dict_companies.get(companies_dropdown.value)\n",
    "company_web"
   ]
  },
  {
   "cell_type": "markdown",
   "metadata": {
    "heading_collapsed": true
   },
   "source": [
    "### Find Company acronym for API call"
   ]
  },
  {
   "cell_type": "code",
   "execution_count": 8,
   "metadata": {
    "ExecuteTime": {
     "end_time": "2020-02-20T22:27:47.282035Z",
     "start_time": "2020-02-20T22:27:46.307701Z"
    },
    "hidden": true
   },
   "outputs": [],
   "source": [
    "'''Se realiza web scraping dentro del perfil de la empresa seleccionada'''\n",
    "\n",
    "url=f'https://investing.com{company_web}-earnings'\n",
    "headers = {'user-agent': 'Mozilla/5.0 (Macintosh; Intel Mac OS X 10_14_6) AppleWebKit/537.36 (KHTML, like Gecko) Chrome/79.0.3945.130 Safari/537.36'}\n",
    "\n",
    "#https://es.investing.com/equities/morehistory\n",
    "\n",
    "html=requests.get(url,headers=headers).content\n",
    "soup=BeautifulSoup(html,'lxml')"
   ]
  },
  {
   "cell_type": "code",
   "execution_count": 9,
   "metadata": {
    "ExecuteTime": {
     "end_time": "2020-02-20T22:27:47.337285Z",
     "start_time": "2020-02-20T22:27:47.285628Z"
    },
    "hidden": true
   },
   "outputs": [
    {
     "data": {
      "text/plain": [
       "'CVX'"
      ]
     },
     "execution_count": 9,
     "metadata": {},
     "output_type": "execute_result"
    }
   ],
   "source": [
    "'''Se obtiene el acronimo de la empresa para poder posteriormente hacer el request a la API'''\n",
    "\n",
    "name_api = soup.find_all('h1',{'class':'float_lang_base_1 relativeAttr'})\n",
    "name_api = name_api[0].text.strip().split('\\n')\n",
    "name_api=re.findall('\\((.*)\\)',name_api[0])[0]\n",
    "name_api"
   ]
  },
  {
   "cell_type": "markdown",
   "metadata": {},
   "source": [
    "###  Webdriver Company Results"
   ]
  },
  {
   "cell_type": "code",
   "execution_count": 10,
   "metadata": {
    "ExecuteTime": {
     "end_time": "2020-02-20T22:28:06.996135Z",
     "start_time": "2020-02-20T22:27:47.339183Z"
    }
   },
   "outputs": [
    {
     "data": {
      "text/html": [
       "<div>\n",
       "<style scoped>\n",
       "    .dataframe tbody tr th:only-of-type {\n",
       "        vertical-align: middle;\n",
       "    }\n",
       "\n",
       "    .dataframe tbody tr th {\n",
       "        vertical-align: top;\n",
       "    }\n",
       "\n",
       "    .dataframe thead th {\n",
       "        text-align: right;\n",
       "    }\n",
       "</style>\n",
       "<table border=\"1\" class=\"dataframe\">\n",
       "  <thead>\n",
       "    <tr style=\"text-align: right;\">\n",
       "      <th></th>\n",
       "      <th>Release Date</th>\n",
       "      <th>Period End</th>\n",
       "      <th>EPS</th>\n",
       "      <th>/ Forecast</th>\n",
       "      <th>Revenue</th>\n",
       "      <th>/ Forecast.1</th>\n",
       "    </tr>\n",
       "  </thead>\n",
       "  <tbody>\n",
       "    <tr>\n",
       "      <th>0</th>\n",
       "      <td>Apr 24, 2020</td>\n",
       "      <td>03/2020</td>\n",
       "      <td>--</td>\n",
       "      <td>/ 1.52</td>\n",
       "      <td>--</td>\n",
       "      <td>/ 38.03B</td>\n",
       "    </tr>\n",
       "    <tr>\n",
       "      <th>1</th>\n",
       "      <td>Jan 31, 2020</td>\n",
       "      <td>12/2019</td>\n",
       "      <td>1.24</td>\n",
       "      <td>/ 1.46</td>\n",
       "      <td>36.35B</td>\n",
       "      <td>/ 38.96B</td>\n",
       "    </tr>\n",
       "    <tr>\n",
       "      <th>2</th>\n",
       "      <td>Nov 01, 2019</td>\n",
       "      <td>09/2019</td>\n",
       "      <td>1.4</td>\n",
       "      <td>/ 1.51</td>\n",
       "      <td>36.12B</td>\n",
       "      <td>/ 38B</td>\n",
       "    </tr>\n",
       "    <tr>\n",
       "      <th>3</th>\n",
       "      <td>Aug 02, 2019</td>\n",
       "      <td>06/2019</td>\n",
       "      <td>2.28</td>\n",
       "      <td>/ 1.76</td>\n",
       "      <td>38.85B</td>\n",
       "      <td>/ 40.12B</td>\n",
       "    </tr>\n",
       "  </tbody>\n",
       "</table>\n",
       "</div>"
      ],
      "text/plain": [
       "   Release Date Period End   EPS / Forecast Revenue / Forecast.1\n",
       "0  Apr 24, 2020    03/2020    --     / 1.52      --     / 38.03B\n",
       "1  Jan 31, 2020    12/2019  1.24     / 1.46  36.35B     / 38.96B\n",
       "2  Nov 01, 2019    09/2019   1.4     / 1.51  36.12B        / 38B\n",
       "3  Aug 02, 2019    06/2019  2.28     / 1.76  38.85B     / 40.12B"
      ]
     },
     "execution_count": 10,
     "metadata": {},
     "output_type": "execute_result"
    }
   ],
   "source": [
    "'''Mediante webdriver se accede a la web de la empresa donde estan \n",
    "los resultados trimestrales y se hace click en el apartado \n",
    "show more 3 veces para poder hacer luego scraping y sacar la informacion de la tabla completa.\n",
    "\n",
    "La manera de hacerlo es mediante entrar a la web (driver), al ejecutar este codigo \n",
    "se abrira el navegador y ejecutara acciones en la web para mostrar la tabla.\n",
    "\n",
    "Se utiliza time.sleep para dar tiempo a la web a cargar la informacion\n",
    "\n",
    "Es necesario tener el chromedriver de la misma version que el navegador'''\n",
    "\n",
    "driver = webdriver.Chrome('/Users/inesgalofrebofill/Documents/Ironhack/chromedriver')\n",
    "driver.get(f'https://investing.com{company_web}-earnings');\n",
    "time.sleep(2)\n",
    "search_box = driver.find_elements_by_id('showMoreEarningsHistory')[0]\n",
    "search_box.click()\n",
    "time.sleep(2)\n",
    "search_box.click()\n",
    "time.sleep(2)\n",
    "search_box.click()\n",
    "\n",
    "time.sleep(2)\n",
    "df = pd.read_html(driver.page_source)[0]\n",
    "\n",
    "time.sleep(2)\n",
    "driver.quit()\n",
    "df.head(4)"
   ]
  },
  {
   "cell_type": "code",
   "execution_count": 11,
   "metadata": {
    "ExecuteTime": {
     "end_time": "2020-02-20T22:28:07.010310Z",
     "start_time": "2020-02-20T22:28:07.000075Z"
    }
   },
   "outputs": [],
   "source": [
    "'''Se elimina toda columna que no tenga importe de Revenue ya que es irrelevante para el analisis'''\n",
    "\n",
    "df=df[df.Revenue != '--']"
   ]
  },
  {
   "cell_type": "code",
   "execution_count": 12,
   "metadata": {
    "ExecuteTime": {
     "end_time": "2020-02-20T22:28:07.107867Z",
     "start_time": "2020-02-20T22:28:07.012881Z"
    }
   },
   "outputs": [
    {
     "data": {
      "text/html": [
       "<div>\n",
       "<style scoped>\n",
       "    .dataframe tbody tr th:only-of-type {\n",
       "        vertical-align: middle;\n",
       "    }\n",
       "\n",
       "    .dataframe tbody tr th {\n",
       "        vertical-align: top;\n",
       "    }\n",
       "\n",
       "    .dataframe thead th {\n",
       "        text-align: right;\n",
       "    }\n",
       "</style>\n",
       "<table border=\"1\" class=\"dataframe\">\n",
       "  <thead>\n",
       "    <tr style=\"text-align: right;\">\n",
       "      <th></th>\n",
       "      <th>Release Date</th>\n",
       "      <th>Period End</th>\n",
       "      <th>EPS</th>\n",
       "      <th>/ Forecast</th>\n",
       "      <th>Revenue</th>\n",
       "      <th>/ Forecast.1</th>\n",
       "      <th>Period_End</th>\n",
       "      <th>Forecast_EPS</th>\n",
       "      <th>Revenue2</th>\n",
       "      <th>Forecast_Revenue</th>\n",
       "    </tr>\n",
       "  </thead>\n",
       "  <tbody>\n",
       "    <tr>\n",
       "      <th>1</th>\n",
       "      <td>2020-01-31</td>\n",
       "      <td>12/2019</td>\n",
       "      <td>1.24</td>\n",
       "      <td>/ 1.46</td>\n",
       "      <td>36.35B</td>\n",
       "      <td>/ 38.96B</td>\n",
       "      <td>2019-12-01</td>\n",
       "      <td>1.46</td>\n",
       "      <td>36350.0</td>\n",
       "      <td>38960.0</td>\n",
       "    </tr>\n",
       "    <tr>\n",
       "      <th>2</th>\n",
       "      <td>2019-11-01</td>\n",
       "      <td>09/2019</td>\n",
       "      <td>1.4</td>\n",
       "      <td>/ 1.51</td>\n",
       "      <td>36.12B</td>\n",
       "      <td>/ 38B</td>\n",
       "      <td>2019-09-01</td>\n",
       "      <td>1.51</td>\n",
       "      <td>36120.0</td>\n",
       "      <td>380.0</td>\n",
       "    </tr>\n",
       "    <tr>\n",
       "      <th>3</th>\n",
       "      <td>2019-08-02</td>\n",
       "      <td>06/2019</td>\n",
       "      <td>2.28</td>\n",
       "      <td>/ 1.76</td>\n",
       "      <td>38.85B</td>\n",
       "      <td>/ 40.12B</td>\n",
       "      <td>2019-06-01</td>\n",
       "      <td>1.76</td>\n",
       "      <td>38850.0</td>\n",
       "      <td>40120.0</td>\n",
       "    </tr>\n",
       "    <tr>\n",
       "      <th>4</th>\n",
       "      <td>2019-04-26</td>\n",
       "      <td>03/2019</td>\n",
       "      <td>1.32</td>\n",
       "      <td>/ 1.3</td>\n",
       "      <td>35.2B</td>\n",
       "      <td>/ 38.42B</td>\n",
       "      <td>2019-03-01</td>\n",
       "      <td>1.3</td>\n",
       "      <td>3520.0</td>\n",
       "      <td>38420.0</td>\n",
       "    </tr>\n",
       "  </tbody>\n",
       "</table>\n",
       "</div>"
      ],
      "text/plain": [
       "  Release Date Period End   EPS / Forecast Revenue / Forecast.1  Period_End  \\\n",
       "1   2020-01-31    12/2019  1.24     / 1.46  36.35B     / 38.96B  2019-12-01   \n",
       "2   2019-11-01    09/2019   1.4     / 1.51  36.12B        / 38B  2019-09-01   \n",
       "3   2019-08-02    06/2019  2.28     / 1.76  38.85B     / 40.12B  2019-06-01   \n",
       "4   2019-04-26    03/2019  1.32      / 1.3   35.2B     / 38.42B  2019-03-01   \n",
       "\n",
       "  Forecast_EPS  Revenue2  Forecast_Revenue  \n",
       "1         1.46   36350.0           38960.0  \n",
       "2         1.51   36120.0             380.0  \n",
       "3         1.76   38850.0           40120.0  \n",
       "4          1.3    3520.0           38420.0  "
      ]
     },
     "execution_count": 12,
     "metadata": {},
     "output_type": "execute_result"
    }
   ],
   "source": [
    "'''Se utiliza Regex para limpiar un poco las columnas e intentar traducir las unidades B y M en numericas. \n",
    "Es algo que no se ha conseguido que funcione a la perfeccion. '''\n",
    "\n",
    "\n",
    "df['Release Date']=pd.to_datetime(df['Release Date']).dt.date\n",
    "df['Period_End']=pd.to_datetime(df['Period End']).dt.date\n",
    "df=df.replace('[,]', '', regex=True)\n",
    "df['Forecast_EPS']=df['/ Forecast'].replace('/', '', regex=True)\n",
    "df['Revenue2']=df['Revenue'].replace('M', '', regex=True)\n",
    "df['Revenue2']=df['Revenue2'].apply(lambda x: x.replace('.', '') if x.endswith('B') else x)\n",
    "df['Revenue2']=df['Revenue2'].apply(lambda x: x.replace('B', '00') if x.endswith('B') and len(x)==3 else x)\n",
    "df['Revenue2']=df['Revenue2'].apply(lambda x: x.replace('B', '000') if x.endswith('B') and len(x)==2 else x)\n",
    "df['Revenue2']=df['Revenue2'].apply(lambda x: x.replace('B', '0') if x.endswith('B') else x)\n",
    "\n",
    "df['Revenue2']=df['Revenue2'].astype(float)\n",
    "df['Forecast_Revenue']=df['/ Forecast.1'].replace('/', '', regex=True)\n",
    "\n",
    "df['Forecast_Revenue']=df['Forecast_Revenue'].replace('[M]', '', regex=True)\n",
    "df['Forecast_Revenue']=df['Forecast_Revenue'].apply(lambda x: x.replace('.', '') if x.endswith('B') else x)\n",
    "df['Forecast_Revenue']=df['Forecast_Revenue'].apply(lambda x: x.replace('B', '00') if x.endswith('B') and len(x)==3 else x)\n",
    "df['Forecast_Revenue']=df['Forecast_Revenue'].apply(lambda x: x.replace('B', '000') if x.endswith('B') and len(x)==2 else x)\n",
    "df['Forecast_Revenue']=df['Forecast_Revenue'].apply(lambda x: x.replace('B', '0') if x.endswith('B') else x)\n",
    "\n",
    "df['Forecast_Revenue']=df['Forecast_Revenue'].astype(float)\n",
    "\n",
    "df_entrega=df[['Release Date','Period End','Revenue2','Forecast_Revenue']]\n",
    "df_entrega.to_csv(f'./output/Resultados_publicados_{name_api}.csv')\n",
    "df.head(4)"
   ]
  },
  {
   "cell_type": "markdown",
   "metadata": {},
   "source": [
    "## API"
   ]
  },
  {
   "cell_type": "markdown",
   "metadata": {
    "heading_collapsed": true
   },
   "source": [
    "### API call daily stock price"
   ]
  },
  {
   "cell_type": "code",
   "execution_count": 13,
   "metadata": {
    "ExecuteTime": {
     "end_time": "2020-02-20T22:28:07.855951Z",
     "start_time": "2020-02-20T22:28:07.111082Z"
    },
    "hidden": true
   },
   "outputs": [],
   "source": [
    "'''Se utiliza la api de www.financialmodelingprep.com para \n",
    "obtener la cotizacion historica de la empresa seleccionada anteriormente '''\n",
    "\n",
    "url = f'https://financialmodelingprep.com/api/v3/historical-price-full/{name_api}'\n",
    "response = requests.get(url)\n"
   ]
  },
  {
   "cell_type": "code",
   "execution_count": 14,
   "metadata": {
    "ExecuteTime": {
     "end_time": "2020-02-20T22:28:08.063583Z",
     "start_time": "2020-02-20T22:28:07.859489Z"
    },
    "hidden": true
   },
   "outputs": [
    {
     "data": {
      "text/html": [
       "<div>\n",
       "<style scoped>\n",
       "    .dataframe tbody tr th:only-of-type {\n",
       "        vertical-align: middle;\n",
       "    }\n",
       "\n",
       "    .dataframe tbody tr th {\n",
       "        vertical-align: top;\n",
       "    }\n",
       "\n",
       "    .dataframe thead th {\n",
       "        text-align: right;\n",
       "    }\n",
       "</style>\n",
       "<table border=\"1\" class=\"dataframe\">\n",
       "  <thead>\n",
       "    <tr style=\"text-align: right;\">\n",
       "      <th></th>\n",
       "      <th>date</th>\n",
       "      <th>open</th>\n",
       "      <th>high</th>\n",
       "      <th>low</th>\n",
       "      <th>close</th>\n",
       "      <th>adjClose</th>\n",
       "      <th>volume</th>\n",
       "      <th>unadjustedVolume</th>\n",
       "      <th>change</th>\n",
       "      <th>changePercent</th>\n",
       "      <th>vwap</th>\n",
       "      <th>label</th>\n",
       "      <th>changeOverTime</th>\n",
       "    </tr>\n",
       "  </thead>\n",
       "  <tbody>\n",
       "    <tr>\n",
       "      <th>0</th>\n",
       "      <td>2015-02-20</td>\n",
       "      <td>108.43</td>\n",
       "      <td>108.87</td>\n",
       "      <td>107.50</td>\n",
       "      <td>108.60</td>\n",
       "      <td>90.26</td>\n",
       "      <td>7610600.0</td>\n",
       "      <td>7610600.0</td>\n",
       "      <td>-0.17</td>\n",
       "      <td>-0.157</td>\n",
       "      <td>108.32333</td>\n",
       "      <td>February 20, 15</td>\n",
       "      <td>-0.00157</td>\n",
       "    </tr>\n",
       "    <tr>\n",
       "      <th>1</th>\n",
       "      <td>2015-02-23</td>\n",
       "      <td>107.79</td>\n",
       "      <td>108.50</td>\n",
       "      <td>107.35</td>\n",
       "      <td>107.86</td>\n",
       "      <td>89.65</td>\n",
       "      <td>6724000.0</td>\n",
       "      <td>6724000.0</td>\n",
       "      <td>-0.07</td>\n",
       "      <td>-0.065</td>\n",
       "      <td>107.90333</td>\n",
       "      <td>February 23, 15</td>\n",
       "      <td>-0.00065</td>\n",
       "    </tr>\n",
       "  </tbody>\n",
       "</table>\n",
       "</div>"
      ],
      "text/plain": [
       "         date    open    high     low   close  adjClose     volume  \\\n",
       "0  2015-02-20  108.43  108.87  107.50  108.60     90.26  7610600.0   \n",
       "1  2015-02-23  107.79  108.50  107.35  107.86     89.65  6724000.0   \n",
       "\n",
       "   unadjustedVolume  change  changePercent       vwap            label  \\\n",
       "0         7610600.0   -0.17         -0.157  108.32333  February 20, 15   \n",
       "1         6724000.0   -0.07         -0.065  107.90333  February 23, 15   \n",
       "\n",
       "   changeOverTime  \n",
       "0        -0.00157  \n",
       "1        -0.00065  "
      ]
     },
     "execution_count": 14,
     "metadata": {},
     "output_type": "execute_result"
    }
   ],
   "source": [
    "result=response.json()\n",
    "result\n",
    "data=pd.DataFrame(json_normalize(result))\n",
    "data=json_normalize(data['historical'][0])\n",
    "data.head(2)"
   ]
  },
  {
   "cell_type": "code",
   "execution_count": 15,
   "metadata": {
    "ExecuteTime": {
     "end_time": "2020-02-20T22:28:08.083133Z",
     "start_time": "2020-02-20T22:28:08.068147Z"
    },
    "hidden": true
   },
   "outputs": [],
   "source": [
    "'''Se seleccionan las columnas que realmente tienen utilidas para el analisis'''\n",
    "\n",
    "data=data[['date','open','close','volume','change','changePercent','vwap']]\n",
    "data['date']=pd.to_datetime(data['date']).dt.date"
   ]
  },
  {
   "cell_type": "code",
   "execution_count": 16,
   "metadata": {
    "ExecuteTime": {
     "end_time": "2020-02-20T22:28:08.126208Z",
     "start_time": "2020-02-20T22:28:08.086765Z"
    },
    "hidden": true
   },
   "outputs": [
    {
     "data": {
      "text/html": [
       "<div>\n",
       "<style scoped>\n",
       "    .dataframe tbody tr th:only-of-type {\n",
       "        vertical-align: middle;\n",
       "    }\n",
       "\n",
       "    .dataframe tbody tr th {\n",
       "        vertical-align: top;\n",
       "    }\n",
       "\n",
       "    .dataframe thead th {\n",
       "        text-align: right;\n",
       "    }\n",
       "</style>\n",
       "<table border=\"1\" class=\"dataframe\">\n",
       "  <thead>\n",
       "    <tr style=\"text-align: right;\">\n",
       "      <th></th>\n",
       "      <th>date</th>\n",
       "      <th>open</th>\n",
       "      <th>close</th>\n",
       "      <th>volume</th>\n",
       "      <th>change</th>\n",
       "      <th>changePercent</th>\n",
       "      <th>vwap</th>\n",
       "    </tr>\n",
       "  </thead>\n",
       "  <tbody>\n",
       "    <tr>\n",
       "      <th>0</th>\n",
       "      <td>2015-02-20</td>\n",
       "      <td>108.43</td>\n",
       "      <td>108.60</td>\n",
       "      <td>7610600.0</td>\n",
       "      <td>-0.17</td>\n",
       "      <td>-0.157</td>\n",
       "      <td>108.32333</td>\n",
       "    </tr>\n",
       "    <tr>\n",
       "      <th>1</th>\n",
       "      <td>2015-02-23</td>\n",
       "      <td>107.79</td>\n",
       "      <td>107.86</td>\n",
       "      <td>6724000.0</td>\n",
       "      <td>-0.07</td>\n",
       "      <td>-0.065</td>\n",
       "      <td>107.90333</td>\n",
       "    </tr>\n",
       "    <tr>\n",
       "      <th>2</th>\n",
       "      <td>2015-02-24</td>\n",
       "      <td>107.89</td>\n",
       "      <td>107.96</td>\n",
       "      <td>5708400.0</td>\n",
       "      <td>-0.07</td>\n",
       "      <td>-0.065</td>\n",
       "      <td>107.84667</td>\n",
       "    </tr>\n",
       "    <tr>\n",
       "      <th>3</th>\n",
       "      <td>2015-02-25</td>\n",
       "      <td>108.12</td>\n",
       "      <td>108.58</td>\n",
       "      <td>4806500.0</td>\n",
       "      <td>-0.46</td>\n",
       "      <td>-0.425</td>\n",
       "      <td>108.37333</td>\n",
       "    </tr>\n",
       "    <tr>\n",
       "      <th>4</th>\n",
       "      <td>2015-02-26</td>\n",
       "      <td>107.89</td>\n",
       "      <td>107.06</td>\n",
       "      <td>5903100.0</td>\n",
       "      <td>0.83</td>\n",
       "      <td>0.769</td>\n",
       "      <td>107.19333</td>\n",
       "    </tr>\n",
       "  </tbody>\n",
       "</table>\n",
       "</div>"
      ],
      "text/plain": [
       "         date    open   close     volume  change  changePercent       vwap\n",
       "0  2015-02-20  108.43  108.60  7610600.0   -0.17         -0.157  108.32333\n",
       "1  2015-02-23  107.79  107.86  6724000.0   -0.07         -0.065  107.90333\n",
       "2  2015-02-24  107.89  107.96  5708400.0   -0.07         -0.065  107.84667\n",
       "3  2015-02-25  108.12  108.58  4806500.0   -0.46         -0.425  108.37333\n",
       "4  2015-02-26  107.89  107.06  5903100.0    0.83          0.769  107.19333"
      ]
     },
     "execution_count": 16,
     "metadata": {},
     "output_type": "execute_result"
    }
   ],
   "source": [
    "data.to_csv(f'./output/Cotizacion_stocks_{name_api}.csv')\n",
    "\n",
    "data.head(5)"
   ]
  },
  {
   "cell_type": "markdown",
   "metadata": {},
   "source": [
    "## Analysis and Charts"
   ]
  },
  {
   "cell_type": "code",
   "execution_count": 17,
   "metadata": {
    "ExecuteTime": {
     "end_time": "2020-02-20T22:28:08.578243Z",
     "start_time": "2020-02-20T22:28:08.129310Z"
    },
    "scrolled": true
   },
   "outputs": [
    {
     "name": "stderr",
     "output_type": "stream",
     "text": [
      "/usr/local/lib/python3.7/site-packages/pandas/plotting/_matplotlib/converter.py:103: FutureWarning: Using an implicitly registered datetime converter for a matplotlib plotting method. The converter was registered by pandas on import. Future versions of pandas will require you to explicitly register matplotlib converters.\n",
      "\n",
      "To register the converters:\n",
      "\t>>> from pandas.plotting import register_matplotlib_converters\n",
      "\t>>> register_matplotlib_converters()\n",
      "  warnings.warn(msg, FutureWarning)\n"
     ]
    },
    {
     "data": {
      "text/plain": [
       "[<matplotlib.lines.Line2D at 0x11bee3f10>]"
      ]
     },
     "execution_count": 17,
     "metadata": {},
     "output_type": "execute_result"
    },
    {
     "data": {
      "image/png": "[encoded data removed]",
      "text/plain": [
       "<Figure size 1080x504 with 2 Axes>"
      ]
     },
     "metadata": {
      "needs_background": "light"
     },
     "output_type": "display_data"
    }
   ],
   "source": [
    "'''Finalmente se generan dos graficos mediante matplotlib.pyplot \n",
    "para poder visualizar mejor los datos y ver las tendencias'''\n",
    "\n",
    "fig,(ax1,ax2) = plt.subplots(1,2,figsize=(15,7),subplot_kw = {'title' :companies_dropdown.value})\n",
    "\n",
    "\n",
    "ax1.plot(data.date,data.open,\n",
    "       linewidth=2.5,color='darkmagenta',label=2014)\n",
    "\n",
    "\n",
    "ax2.plot(df.Period_End,df.Revenue2,\n",
    "        linewidth=2,\n",
    "       color='grey',\n",
    "       alpha=0.3,\n",
    "        marker = 'o', \n",
    "        markersize = 5,\n",
    "        markeredgecolor = 'black',\n",
    "        markeredgewidth = 2)\n",
    "\n",
    "ax2.plot(df.Period_End,df.Forecast_Revenue,\n",
    "        linewidth=2,\n",
    "       color='darkblue',\n",
    "       alpha=0.3,\n",
    "        marker = 'o', \n",
    "        markersize = 5,\n",
    "        markeredgecolor = 'black',\n",
    "        markeredgewidth = 2)\n",
    "\n",
    "\n"
   ]
  },
  {
   "cell_type": "code",
   "execution_count": null,
   "metadata": {},
   "outputs": [],
   "source": []
  }
 ],
 "metadata": {
  "kernelspec": {
   "display_name": "Python 3",
   "language": "python",
   "name": "python3"
  },
  "language_info": {
   "codemirror_mode": {
    "name": "ipython",
    "version": 3
   },
   "file_extension": ".py",
   "mimetype": "text/x-python",
   "name": "python",
   "nbconvert_exporter": "python",
   "pygments_lexer": "ipython3",
   "version": "3.7.4"
  },
  "varInspector": {
   "cols": {
    "lenName": 16,
    "lenType": 16,
    "lenVar": 40
   },
   "kernels_config": {
    "python": {
     "delete_cmd_postfix": "",
     "delete_cmd_prefix": "del ",
     "library": "var_list.py",
     "varRefreshCmd": "print(var_dic_list())"
    },
    "r": {
     "delete_cmd_postfix": ") ",
     "delete_cmd_prefix": "rm(",
     "library": "var_list.r",
     "varRefreshCmd": "cat(var_dic_list()) "
    }
   },
   "types_to_exclude": [
    "module",
    "function",
    "builtin_function_or_method",
    "instance",
    "_Feature"
   ],
   "window_display": false
  }
 },
 "nbformat": 4,
 "nbformat_minor": 2
}
