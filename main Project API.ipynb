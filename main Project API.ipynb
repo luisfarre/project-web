{
 "cells": [
  {
   "cell_type": "code",
   "execution_count": 20,
   "metadata": {
    "ExecuteTime": {
     "end_time": "2020-02-16T08:52:55.050279Z",
     "start_time": "2020-02-16T08:52:54.874701Z"
    }
   },
   "outputs": [],
   "source": [
    "import json\n",
    "import requests\n",
    "import pandas as pd\n",
    "import base64\n",
    "from bs4 import BeautifulSoup\n",
    "from pandas.io.json import json_normalize"
   ]
  },
  {
   "cell_type": "markdown",
   "metadata": {},
   "source": [
    "#### Web Scraping"
   ]
  },
  {
   "cell_type": "code",
   "execution_count": 42,
   "metadata": {
    "ExecuteTime": {
     "end_time": "2020-02-16T09:10:51.545786Z",
     "start_time": "2020-02-16T09:10:50.686576Z"
    }
   },
   "outputs": [],
   "source": [
    "#Publicacion resultados: https://es.investing.com/equities/apple-computer-inc-earnings\n",
    "url='https://es.investing.com/equities/apple-computer-inc-earnings'\n",
    "headers = {'user-agent': 'Mozilla/5.0 (Macintosh; Intel Mac OS X 10_14_6) AppleWebKit/537.36 (KHTML, like Gecko) Chrome/79.0.3945.130 Safari/537.36'}\n",
    "\n",
    "#https://es.investing.com/equities/morehistory\n",
    "\n",
    "html=requests.get(url,headers=headers).content\n",
    "soup=BeautifulSoup(html,'lxml')"
   ]
  },
  {
   "cell_type": "code",
   "execution_count": 63,
   "metadata": {
    "ExecuteTime": {
     "end_time": "2020-02-16T09:19:54.380113Z",
     "start_time": "2020-02-16T09:19:54.307603Z"
    }
   },
   "outputs": [],
   "source": [
    "table = soup.find_all('table',{'id':'earningsHistory6408'})"
   ]
  },
  {
   "cell_type": "code",
   "execution_count": 64,
   "metadata": {
    "ExecuteTime": {
     "end_time": "2020-02-16T09:19:54.719884Z",
     "start_time": "2020-02-16T09:19:54.716163Z"
    }
   },
   "outputs": [],
   "source": [
    "table2=table[0]"
   ]
  },
  {
   "cell_type": "code",
   "execution_count": 69,
   "metadata": {
    "ExecuteTime": {
     "end_time": "2020-02-16T09:21:24.709788Z",
     "start_time": "2020-02-16T09:21:24.696001Z"
    }
   },
   "outputs": [],
   "source": [
    "rows=table2.find_all('tr')\n",
    "rows = [row.text.strip().split('\\n') for row in rows]\n",
    "rows =[list(filter(None,row)) for row in rows]"
   ]
  },
  {
   "cell_type": "code",
   "execution_count": 68,
   "metadata": {
    "ExecuteTime": {
     "end_time": "2020-02-16T09:21:16.470742Z",
     "start_time": "2020-02-16T09:21:16.436009Z"
    }
   },
   "outputs": [
    {
     "data": {
      "text/html": [
       "<div>\n",
       "<style scoped>\n",
       "    .dataframe tbody tr th:only-of-type {\n",
       "        vertical-align: middle;\n",
       "    }\n",
       "\n",
       "    .dataframe tbody tr th {\n",
       "        vertical-align: top;\n",
       "    }\n",
       "\n",
       "    .dataframe thead th {\n",
       "        text-align: right;\n",
       "    }\n",
       "</style>\n",
       "<table border=\"1\" class=\"dataframe\">\n",
       "  <thead>\n",
       "    <tr style=\"text-align: right;\">\n",
       "      <th></th>\n",
       "      <th>Fecha de publicación</th>\n",
       "      <th>Período terminado</th>\n",
       "      <th>BPA</th>\n",
       "      <th>Previsión</th>\n",
       "      <th>Ingresos</th>\n",
       "      <th>Previsión</th>\n",
       "    </tr>\n",
       "  </thead>\n",
       "  <tbody>\n",
       "    <tr>\n",
       "      <th>0</th>\n",
       "      <td>05.05.2020</td>\n",
       "      <td>03/2020</td>\n",
       "      <td>--</td>\n",
       "      <td>/  2,99</td>\n",
       "      <td>--</td>\n",
       "      <td>/  65,25B</td>\n",
       "    </tr>\n",
       "    <tr>\n",
       "      <th>1</th>\n",
       "      <td>28.01.2020</td>\n",
       "      <td>12/2019</td>\n",
       "      <td>4,99</td>\n",
       "      <td>/  4,54</td>\n",
       "      <td>91,82B</td>\n",
       "      <td>/  88,51B</td>\n",
       "    </tr>\n",
       "    <tr>\n",
       "      <th>2</th>\n",
       "      <td>30.10.2019</td>\n",
       "      <td>09/2019</td>\n",
       "      <td>3,03</td>\n",
       "      <td>/  2,83</td>\n",
       "      <td>64,04B</td>\n",
       "      <td>/  63,01B</td>\n",
       "    </tr>\n",
       "    <tr>\n",
       "      <th>3</th>\n",
       "      <td>30.07.2019</td>\n",
       "      <td>06/2019</td>\n",
       "      <td>2,18</td>\n",
       "      <td>/  2,09</td>\n",
       "      <td>53,81B</td>\n",
       "      <td>/  53,32B</td>\n",
       "    </tr>\n",
       "    <tr>\n",
       "      <th>4</th>\n",
       "      <td>30.04.2019</td>\n",
       "      <td>03/2019</td>\n",
       "      <td>2,46</td>\n",
       "      <td>/  2,36</td>\n",
       "      <td>58,02B</td>\n",
       "      <td>/  57,51B</td>\n",
       "    </tr>\n",
       "    <tr>\n",
       "      <th>5</th>\n",
       "      <td>29.01.2019</td>\n",
       "      <td>12/2018</td>\n",
       "      <td>4,18</td>\n",
       "      <td>/  4,17</td>\n",
       "      <td>84,31B</td>\n",
       "      <td>/  83,97B</td>\n",
       "    </tr>\n",
       "  </tbody>\n",
       "</table>\n",
       "</div>"
      ],
      "text/plain": [
       "  Fecha de publicación Período terminado   BPA Previsión Ingresos  Previsión\n",
       "0           05.05.2020           03/2020    --   /  2,99       --  /  65,25B\n",
       "1           28.01.2020           12/2019  4,99   /  4,54   91,82B  /  88,51B\n",
       "2           30.10.2019           09/2019  3,03   /  2,83   64,04B  /  63,01B\n",
       "3           30.07.2019           06/2019  2,18   /  2,09   53,81B  /  53,32B\n",
       "4           30.04.2019           03/2019  2,46   /  2,36   58,02B  /  57,51B\n",
       "5           29.01.2019           12/2018  4,18   /  4,17   84,31B  /  83,97B"
      ]
     },
     "execution_count": 68,
     "metadata": {},
     "output_type": "execute_result"
    }
   ],
   "source": [
    "colnames = ['Fecha de publicación','Período terminado','BPA','Previsión','Ingresos','Previsión']\n",
    "datos=rows\n",
    "df=pd.DataFrame(datos[1:], columns=colnames)\n",
    "df"
   ]
  },
  {
   "cell_type": "markdown",
   "metadata": {},
   "source": [
    "### API"
   ]
  },
  {
   "cell_type": "code",
   "execution_count": 14,
   "metadata": {
    "ExecuteTime": {
     "end_time": "2020-02-16T08:31:26.590175Z",
     "start_time": "2020-02-16T08:31:25.851133Z"
    }
   },
   "outputs": [],
   "source": [
    "#https://financialmodelingprep.com/developer/docs/companies-key-stats-free-api/#Python\n",
    "\n",
    "#'https://financialmodelingprep.com/api/v3/historical-price-full/AAPL'\n",
    "\n",
    "\n",
    "url = 'https://financialmodelingprep.com/api/v3/historical-price-full/AAPL'\n",
    "response = requests.get(url)\n",
    "\n"
   ]
  },
  {
   "cell_type": "code",
   "execution_count": 15,
   "metadata": {
    "ExecuteTime": {
     "end_time": "2020-02-16T08:31:26.757772Z",
     "start_time": "2020-02-16T08:31:26.715337Z"
    }
   },
   "outputs": [],
   "source": [
    "result=response.json()\n",
    "result\n",
    "data=pd.DataFrame(json_normalize(result))"
   ]
  },
  {
   "cell_type": "code",
   "execution_count": 16,
   "metadata": {
    "ExecuteTime": {
     "end_time": "2020-02-16T08:31:27.218103Z",
     "start_time": "2020-02-16T08:31:27.146360Z"
    }
   },
   "outputs": [
    {
     "data": {
      "text/html": [
       "<div>\n",
       "<style scoped>\n",
       "    .dataframe tbody tr th:only-of-type {\n",
       "        vertical-align: middle;\n",
       "    }\n",
       "\n",
       "    .dataframe tbody tr th {\n",
       "        vertical-align: top;\n",
       "    }\n",
       "\n",
       "    .dataframe thead th {\n",
       "        text-align: right;\n",
       "    }\n",
       "</style>\n",
       "<table border=\"1\" class=\"dataframe\">\n",
       "  <thead>\n",
       "    <tr style=\"text-align: right;\">\n",
       "      <th></th>\n",
       "      <th>symbol</th>\n",
       "      <th>historical</th>\n",
       "    </tr>\n",
       "  </thead>\n",
       "  <tbody>\n",
       "    <tr>\n",
       "      <th>0</th>\n",
       "      <td>AAPL</td>\n",
       "      <td>[{'date': '2015-02-17', 'open': 127.49, 'high'...</td>\n",
       "    </tr>\n",
       "  </tbody>\n",
       "</table>\n",
       "</div>"
      ],
      "text/plain": [
       "  symbol                                         historical\n",
       "0   AAPL  [{'date': '2015-02-17', 'open': 127.49, 'high'..."
      ]
     },
     "execution_count": 16,
     "metadata": {},
     "output_type": "execute_result"
    }
   ],
   "source": [
    "data['historical'][0]"
   ]
  },
  {
   "cell_type": "code",
   "execution_count": 17,
   "metadata": {
    "ExecuteTime": {
     "end_time": "2020-02-16T08:31:29.682708Z",
     "start_time": "2020-02-16T08:31:29.602346Z"
    }
   },
   "outputs": [
    {
     "data": {
      "text/html": [
       "<div>\n",
       "<style scoped>\n",
       "    .dataframe tbody tr th:only-of-type {\n",
       "        vertical-align: middle;\n",
       "    }\n",
       "\n",
       "    .dataframe tbody tr th {\n",
       "        vertical-align: top;\n",
       "    }\n",
       "\n",
       "    .dataframe thead th {\n",
       "        text-align: right;\n",
       "    }\n",
       "</style>\n",
       "<table border=\"1\" class=\"dataframe\">\n",
       "  <thead>\n",
       "    <tr style=\"text-align: right;\">\n",
       "      <th></th>\n",
       "      <th>date</th>\n",
       "      <th>open</th>\n",
       "      <th>high</th>\n",
       "      <th>low</th>\n",
       "      <th>close</th>\n",
       "      <th>adjClose</th>\n",
       "      <th>volume</th>\n",
       "      <th>unadjustedVolume</th>\n",
       "      <th>change</th>\n",
       "      <th>changePercent</th>\n",
       "      <th>vwap</th>\n",
       "      <th>label</th>\n",
       "      <th>changeOverTime</th>\n",
       "    </tr>\n",
       "  </thead>\n",
       "  <tbody>\n",
       "    <tr>\n",
       "      <th>0</th>\n",
       "      <td>2015-02-17</td>\n",
       "      <td>127.49</td>\n",
       "      <td>128.88</td>\n",
       "      <td>126.92</td>\n",
       "      <td>127.83</td>\n",
       "      <td>118.27</td>\n",
       "      <td>63152400.0</td>\n",
       "      <td>63152400.0</td>\n",
       "      <td>-0.34</td>\n",
       "      <td>-0.267</td>\n",
       "      <td>127.87667</td>\n",
       "      <td>February 17, 15</td>\n",
       "      <td>-0.00267</td>\n",
       "    </tr>\n",
       "    <tr>\n",
       "      <th>1</th>\n",
       "      <td>2015-02-18</td>\n",
       "      <td>127.63</td>\n",
       "      <td>128.78</td>\n",
       "      <td>127.45</td>\n",
       "      <td>128.72</td>\n",
       "      <td>119.09</td>\n",
       "      <td>44891700.0</td>\n",
       "      <td>44891700.0</td>\n",
       "      <td>-1.09</td>\n",
       "      <td>-0.854</td>\n",
       "      <td>128.31667</td>\n",
       "      <td>February 18, 15</td>\n",
       "      <td>-0.00854</td>\n",
       "    </tr>\n",
       "    <tr>\n",
       "      <th>2</th>\n",
       "      <td>2015-02-19</td>\n",
       "      <td>128.48</td>\n",
       "      <td>129.03</td>\n",
       "      <td>128.33</td>\n",
       "      <td>128.45</td>\n",
       "      <td>118.84</td>\n",
       "      <td>37362400.0</td>\n",
       "      <td>37362400.0</td>\n",
       "      <td>0.03</td>\n",
       "      <td>0.023</td>\n",
       "      <td>128.60333</td>\n",
       "      <td>February 19, 15</td>\n",
       "      <td>0.00023</td>\n",
       "    </tr>\n",
       "    <tr>\n",
       "      <th>3</th>\n",
       "      <td>2015-02-20</td>\n",
       "      <td>128.62</td>\n",
       "      <td>129.50</td>\n",
       "      <td>128.05</td>\n",
       "      <td>129.50</td>\n",
       "      <td>119.82</td>\n",
       "      <td>48948400.0</td>\n",
       "      <td>48948400.0</td>\n",
       "      <td>-0.88</td>\n",
       "      <td>-0.684</td>\n",
       "      <td>129.01667</td>\n",
       "      <td>February 20, 15</td>\n",
       "      <td>-0.00684</td>\n",
       "    </tr>\n",
       "    <tr>\n",
       "      <th>4</th>\n",
       "      <td>2015-02-23</td>\n",
       "      <td>130.02</td>\n",
       "      <td>133.00</td>\n",
       "      <td>129.66</td>\n",
       "      <td>133.00</td>\n",
       "      <td>123.05</td>\n",
       "      <td>70974100.0</td>\n",
       "      <td>70974100.0</td>\n",
       "      <td>-2.98</td>\n",
       "      <td>-2.292</td>\n",
       "      <td>131.88667</td>\n",
       "      <td>February 23, 15</td>\n",
       "      <td>-0.02292</td>\n",
       "    </tr>\n",
       "    <tr>\n",
       "      <th>...</th>\n",
       "      <td>...</td>\n",
       "      <td>...</td>\n",
       "      <td>...</td>\n",
       "      <td>...</td>\n",
       "      <td>...</td>\n",
       "      <td>...</td>\n",
       "      <td>...</td>\n",
       "      <td>...</td>\n",
       "      <td>...</td>\n",
       "      <td>...</td>\n",
       "      <td>...</td>\n",
       "      <td>...</td>\n",
       "      <td>...</td>\n",
       "    </tr>\n",
       "    <tr>\n",
       "      <th>1254</th>\n",
       "      <td>2020-02-10</td>\n",
       "      <td>314.18</td>\n",
       "      <td>321.55</td>\n",
       "      <td>313.85</td>\n",
       "      <td>321.55</td>\n",
       "      <td>321.55</td>\n",
       "      <td>27337200.0</td>\n",
       "      <td>27337200.0</td>\n",
       "      <td>-7.37</td>\n",
       "      <td>-2.346</td>\n",
       "      <td>318.98333</td>\n",
       "      <td>February 10, 20</td>\n",
       "      <td>-0.02346</td>\n",
       "    </tr>\n",
       "    <tr>\n",
       "      <th>1255</th>\n",
       "      <td>2020-02-11</td>\n",
       "      <td>323.60</td>\n",
       "      <td>323.90</td>\n",
       "      <td>318.71</td>\n",
       "      <td>319.61</td>\n",
       "      <td>319.61</td>\n",
       "      <td>23580800.0</td>\n",
       "      <td>23580800.0</td>\n",
       "      <td>3.99</td>\n",
       "      <td>1.233</td>\n",
       "      <td>320.74000</td>\n",
       "      <td>February 11, 20</td>\n",
       "      <td>0.01233</td>\n",
       "    </tr>\n",
       "    <tr>\n",
       "      <th>1256</th>\n",
       "      <td>2020-02-12</td>\n",
       "      <td>321.47</td>\n",
       "      <td>327.22</td>\n",
       "      <td>321.47</td>\n",
       "      <td>327.20</td>\n",
       "      <td>327.20</td>\n",
       "      <td>28432600.0</td>\n",
       "      <td>28432600.0</td>\n",
       "      <td>-5.73</td>\n",
       "      <td>-1.782</td>\n",
       "      <td>325.29667</td>\n",
       "      <td>February 12, 20</td>\n",
       "      <td>-0.01782</td>\n",
       "    </tr>\n",
       "    <tr>\n",
       "      <th>1257</th>\n",
       "      <td>2020-02-13</td>\n",
       "      <td>324.19</td>\n",
       "      <td>326.22</td>\n",
       "      <td>323.35</td>\n",
       "      <td>324.87</td>\n",
       "      <td>324.87</td>\n",
       "      <td>23686900.0</td>\n",
       "      <td>23686900.0</td>\n",
       "      <td>-0.68</td>\n",
       "      <td>-0.210</td>\n",
       "      <td>324.81333</td>\n",
       "      <td>February 13, 20</td>\n",
       "      <td>-0.00210</td>\n",
       "    </tr>\n",
       "    <tr>\n",
       "      <th>1258</th>\n",
       "      <td>2020-02-14</td>\n",
       "      <td>324.74</td>\n",
       "      <td>325.98</td>\n",
       "      <td>322.85</td>\n",
       "      <td>324.95</td>\n",
       "      <td>324.95</td>\n",
       "      <td>19982500.0</td>\n",
       "      <td>19982500.0</td>\n",
       "      <td>-0.21</td>\n",
       "      <td>-0.065</td>\n",
       "      <td>324.59333</td>\n",
       "      <td>February 14, 20</td>\n",
       "      <td>-0.00065</td>\n",
       "    </tr>\n",
       "  </tbody>\n",
       "</table>\n",
       "<p>1259 rows × 13 columns</p>\n",
       "</div>"
      ],
      "text/plain": [
       "            date    open    high     low   close  adjClose      volume  \\\n",
       "0     2015-02-17  127.49  128.88  126.92  127.83    118.27  63152400.0   \n",
       "1     2015-02-18  127.63  128.78  127.45  128.72    119.09  44891700.0   \n",
       "2     2015-02-19  128.48  129.03  128.33  128.45    118.84  37362400.0   \n",
       "3     2015-02-20  128.62  129.50  128.05  129.50    119.82  48948400.0   \n",
       "4     2015-02-23  130.02  133.00  129.66  133.00    123.05  70974100.0   \n",
       "...          ...     ...     ...     ...     ...       ...         ...   \n",
       "1254  2020-02-10  314.18  321.55  313.85  321.55    321.55  27337200.0   \n",
       "1255  2020-02-11  323.60  323.90  318.71  319.61    319.61  23580800.0   \n",
       "1256  2020-02-12  321.47  327.22  321.47  327.20    327.20  28432600.0   \n",
       "1257  2020-02-13  324.19  326.22  323.35  324.87    324.87  23686900.0   \n",
       "1258  2020-02-14  324.74  325.98  322.85  324.95    324.95  19982500.0   \n",
       "\n",
       "      unadjustedVolume  change  changePercent       vwap            label  \\\n",
       "0           63152400.0   -0.34         -0.267  127.87667  February 17, 15   \n",
       "1           44891700.0   -1.09         -0.854  128.31667  February 18, 15   \n",
       "2           37362400.0    0.03          0.023  128.60333  February 19, 15   \n",
       "3           48948400.0   -0.88         -0.684  129.01667  February 20, 15   \n",
       "4           70974100.0   -2.98         -2.292  131.88667  February 23, 15   \n",
       "...                ...     ...            ...        ...              ...   \n",
       "1254        27337200.0   -7.37         -2.346  318.98333  February 10, 20   \n",
       "1255        23580800.0    3.99          1.233  320.74000  February 11, 20   \n",
       "1256        28432600.0   -5.73         -1.782  325.29667  February 12, 20   \n",
       "1257        23686900.0   -0.68         -0.210  324.81333  February 13, 20   \n",
       "1258        19982500.0   -0.21         -0.065  324.59333  February 14, 20   \n",
       "\n",
       "      changeOverTime  \n",
       "0           -0.00267  \n",
       "1           -0.00854  \n",
       "2            0.00023  \n",
       "3           -0.00684  \n",
       "4           -0.02292  \n",
       "...              ...  \n",
       "1254        -0.02346  \n",
       "1255         0.01233  \n",
       "1256        -0.01782  \n",
       "1257        -0.00210  \n",
       "1258        -0.00065  \n",
       "\n",
       "[1259 rows x 13 columns]"
      ]
     },
     "execution_count": 17,
     "metadata": {},
     "output_type": "execute_result"
    }
   ],
   "source": [
    "data2=json_normalize(data['historical'][0])\n",
    "data2"
   ]
  },
  {
   "cell_type": "code",
   "execution_count": null,
   "metadata": {},
   "outputs": [],
   "source": []
  }
 ],
 "metadata": {
  "kernelspec": {
   "display_name": "Python 3",
   "language": "python",
   "name": "python3"
  },
  "language_info": {
   "codemirror_mode": {
    "name": "ipython",
    "version": 3
   },
   "file_extension": ".py",
   "mimetype": "text/x-python",
   "name": "python",
   "nbconvert_exporter": "python",
   "pygments_lexer": "ipython3",
   "version": "3.7.4"
  },
  "varInspector": {
   "cols": {
    "lenName": 16,
    "lenType": 16,
    "lenVar": 40
   },
   "kernels_config": {
    "python": {
     "delete_cmd_postfix": "",
     "delete_cmd_prefix": "del ",
     "library": "var_list.py",
     "varRefreshCmd": "print(var_dic_list())"
    },
    "r": {
     "delete_cmd_postfix": ") ",
     "delete_cmd_prefix": "rm(",
     "library": "var_list.r",
     "varRefreshCmd": "cat(var_dic_list()) "
    }
   },
   "types_to_exclude": [
    "module",
    "function",
    "builtin_function_or_method",
    "instance",
    "_Feature"
   ],
   "window_display": false
  }
 },
 "nbformat": 4,
 "nbformat_minor": 2
}
