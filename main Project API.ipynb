{
 "cells": [
  {
   "cell_type": "code",
   "execution_count": 145,
   "metadata": {
    "ExecuteTime": {
     "end_time": "2020-02-16T18:49:08.021702Z",
     "start_time": "2020-02-16T18:49:08.003909Z"
    }
   },
   "outputs": [],
   "source": [
    "import json\n",
    "import requests\n",
    "import numpy as np\n",
    "import pandas as pd\n",
    "import base64\n",
    "from bs4 import BeautifulSoup\n",
    "from pandas.io.json import json_normalize\n",
    "import matplotlib.pyplot as plt\n",
    "%matplotlib inline\n",
    "from matplotlib import ticker\n",
    "import ipywidgets as widgets\n",
    "from IPython.display import display"
   ]
  },
  {
   "cell_type": "markdown",
   "metadata": {},
   "source": [
    "#### Web Scraping"
   ]
  },
  {
   "cell_type": "code",
   "execution_count": 139,
   "metadata": {
    "ExecuteTime": {
     "end_time": "2020-02-16T18:43:52.773065Z",
     "start_time": "2020-02-16T18:43:51.986844Z"
    }
   },
   "outputs": [],
   "source": [
    "#Publicacion resultados: https://es.investing.com/equities/apple-computer-inc-earnings\n",
    "url='https://es.investing.com/equities'\n",
    "headers = {'user-agent': 'Mozilla/5.0 (Macintosh; Intel Mac OS X 10_14_6) AppleWebKit/537.36 (KHTML, like Gecko) Chrome/79.0.3945.130 Safari/537.36'}\n",
    "\n",
    "#https://es.investing.com/equities/morehistory\n",
    "\n",
    "html=requests.get(url,headers=headers).content\n",
    "soup=BeautifulSoup(html,'lxml')\n",
    "\n",
    "table = soup.find_all('table',{'id':'cross_rate_markets_stocks_1'})\n",
    "\n",
    "\n",
    "#table id=\"cross_rate_markets_stocks_1\""
   ]
  },
  {
   "cell_type": "code",
   "execution_count": 148,
   "metadata": {
    "ExecuteTime": {
     "end_time": "2020-02-16T18:50:29.228989Z",
     "start_time": "2020-02-16T18:50:29.222996Z"
    }
   },
   "outputs": [],
   "source": [
    "table2=table[0]"
   ]
  },
  {
   "cell_type": "code",
   "execution_count": 149,
   "metadata": {
    "ExecuteTime": {
     "end_time": "2020-02-16T18:50:30.992773Z",
     "start_time": "2020-02-16T18:50:30.984619Z"
    }
   },
   "outputs": [],
   "source": [
    "rows=table2.find_all('tr')\n",
    "rows=rows[1:]"
   ]
  },
  {
   "cell_type": "code",
   "execution_count": 150,
   "metadata": {
    "ExecuteTime": {
     "end_time": "2020-02-16T18:50:32.931140Z",
     "start_time": "2020-02-16T18:50:32.915756Z"
    }
   },
   "outputs": [],
   "source": [
    "titles = [row.a.get('title') for row in rows]\n",
    "links = [row.a.get('href') for row in rows]"
   ]
  },
  {
   "cell_type": "markdown",
   "metadata": {},
   "source": [
    "Diccionario con todas las empresas del IBEX"
   ]
  },
  {
   "cell_type": "code",
   "execution_count": 151,
   "metadata": {
    "ExecuteTime": {
     "end_time": "2020-02-16T18:50:34.799977Z",
     "start_time": "2020-02-16T18:50:34.794623Z"
    }
   },
   "outputs": [],
   "source": [
    "dict_companies = { titles[i] : links[i] for i in range(len(titles)) }"
   ]
  },
  {
   "cell_type": "code",
   "execution_count": 161,
   "metadata": {
    "ExecuteTime": {
     "end_time": "2020-02-16T18:55:11.893589Z",
     "start_time": "2020-02-16T18:55:11.869240Z"
    }
   },
   "outputs": [
    {
     "data": {
      "application/vnd.jupyter.widget-view+json": {
       "model_id": "4b7ea41a4a654e2f896c03c0e4d44ee9",
       "version_major": 2,
       "version_minor": 0
      },
      "text/plain": [
       "Dropdown(description='Company:', options=('Actividades de Construcción y Servicios S.A. (CFD)', 'Atresmedia Co…"
      ]
     },
     "metadata": {},
     "output_type": "display_data"
    }
   ],
   "source": [
    "companies_dropdown=widgets.Dropdown(options=titles,description='Company:')\n",
    "companies_dropdown"
   ]
  },
  {
   "cell_type": "code",
   "execution_count": 167,
   "metadata": {
    "ExecuteTime": {
     "end_time": "2020-02-16T18:58:23.670538Z",
     "start_time": "2020-02-16T18:58:23.656545Z"
    }
   },
   "outputs": [
    {
     "data": {
      "text/plain": [
       "'/equities/bankinter'"
      ]
     },
     "execution_count": 167,
     "metadata": {},
     "output_type": "execute_result"
    }
   ],
   "source": [
    "company_web=dict_companies.get(companies_dropdown.value)\n",
    "company_web"
   ]
  },
  {
   "cell_type": "markdown",
   "metadata": {},
   "source": [
    "### CREAT WIDGET PARA SELECCIONAR EMPRESA DEL DICCIONARIO Y ASIGNAR A UNA VARIABLE"
   ]
  },
  {
   "cell_type": "code",
   "execution_count": 179,
   "metadata": {
    "ExecuteTime": {
     "end_time": "2020-02-16T19:01:04.061498Z",
     "start_time": "2020-02-16T19:01:03.369971Z"
    }
   },
   "outputs": [],
   "source": [
    "#Publicacion resultados: https://es.investing.com/equities/apple-computer-inc-earnings\n",
    "url=f'https://es.investing.com{company_web}-earnings'\n",
    "headers = {'user-agent': 'Mozilla/5.0 (Macintosh; Intel Mac OS X 10_14_6) AppleWebKit/537.36 (KHTML, like Gecko) Chrome/79.0.3945.130 Safari/537.36'}\n",
    "\n",
    "#https://es.investing.com/equities/morehistory\n",
    "\n",
    "html=requests.get(url,headers=headers).content\n",
    "soup=BeautifulSoup(html,'lxml')"
   ]
  },
  {
   "cell_type": "code",
   "execution_count": 181,
   "metadata": {
    "ExecuteTime": {
     "end_time": "2020-02-16T19:01:08.119858Z",
     "start_time": "2020-02-16T19:01:08.043263Z"
    }
   },
   "outputs": [],
   "source": [
    "table = soup.find_all('table',{'class':'genTbl openTbl ecoCalTbl earnings earningsPageTbl'})"
   ]
  },
  {
   "cell_type": "code",
   "execution_count": 182,
   "metadata": {
    "ExecuteTime": {
     "end_time": "2020-02-16T19:01:10.231987Z",
     "start_time": "2020-02-16T19:01:10.225621Z"
    }
   },
   "outputs": [],
   "source": [
    "table2=table[0]"
   ]
  },
  {
   "cell_type": "code",
   "execution_count": 184,
   "metadata": {
    "ExecuteTime": {
     "end_time": "2020-02-16T19:01:17.048929Z",
     "start_time": "2020-02-16T19:01:17.033501Z"
    }
   },
   "outputs": [],
   "source": [
    "rows=table2.find_all('tr')\n",
    "rows = [row.text.strip().split('\\n') for row in rows]\n",
    "rows =[list(filter(None,row)) for row in rows]"
   ]
  },
  {
   "cell_type": "code",
   "execution_count": 190,
   "metadata": {
    "ExecuteTime": {
     "end_time": "2020-02-16T19:01:46.001958Z",
     "start_time": "2020-02-16T19:01:45.981377Z"
    }
   },
   "outputs": [
    {
     "data": {
      "text/html": [
       "<div>\n",
       "<style scoped>\n",
       "    .dataframe tbody tr th:only-of-type {\n",
       "        vertical-align: middle;\n",
       "    }\n",
       "\n",
       "    .dataframe tbody tr th {\n",
       "        vertical-align: top;\n",
       "    }\n",
       "\n",
       "    .dataframe thead th {\n",
       "        text-align: right;\n",
       "    }\n",
       "</style>\n",
       "<table border=\"1\" class=\"dataframe\">\n",
       "  <thead>\n",
       "    <tr style=\"text-align: right;\">\n",
       "      <th></th>\n",
       "      <th>Date_publish</th>\n",
       "      <th>Period</th>\n",
       "      <th>BPA</th>\n",
       "      <th>PrevBPA</th>\n",
       "      <th>Revenue</th>\n",
       "      <th>PrevRevenue</th>\n",
       "    </tr>\n",
       "  </thead>\n",
       "  <tbody>\n",
       "    <tr>\n",
       "      <th>0</th>\n",
       "      <td>22.01.2020</td>\n",
       "      <td>12/2019</td>\n",
       "      <td>0,12</td>\n",
       "      <td>/  0,12</td>\n",
       "      <td>510M</td>\n",
       "      <td>/  510M</td>\n",
       "    </tr>\n",
       "    <tr>\n",
       "      <th>1</th>\n",
       "      <td>31.10.2019</td>\n",
       "      <td>09/2019</td>\n",
       "      <td>0,15</td>\n",
       "      <td>/  0,15</td>\n",
       "      <td>540,1M</td>\n",
       "      <td>/  531,58M</td>\n",
       "    </tr>\n",
       "    <tr>\n",
       "      <th>2</th>\n",
       "      <td>24.07.2019</td>\n",
       "      <td>06/2019</td>\n",
       "      <td>0,18</td>\n",
       "      <td>/  0,16</td>\n",
       "      <td>499M</td>\n",
       "      <td>/  496,41M</td>\n",
       "    </tr>\n",
       "    <tr>\n",
       "      <th>3</th>\n",
       "      <td>27.04.2019</td>\n",
       "      <td>03/2019</td>\n",
       "      <td>0,16</td>\n",
       "      <td>/  0,16</td>\n",
       "      <td>505M</td>\n",
       "      <td>/  506,82M</td>\n",
       "    </tr>\n",
       "    <tr>\n",
       "      <th>4</th>\n",
       "      <td>23.01.2019</td>\n",
       "      <td>12/2018</td>\n",
       "      <td>0,14</td>\n",
       "      <td>/  0,14</td>\n",
       "      <td>468M</td>\n",
       "      <td>/  465,99M</td>\n",
       "    </tr>\n",
       "  </tbody>\n",
       "</table>\n",
       "</div>"
      ],
      "text/plain": [
       "  Date_publish   Period   BPA  PrevBPA Revenue PrevRevenue\n",
       "0   22.01.2020  12/2019  0,12  /  0,12    510M     /  510M\n",
       "1   31.10.2019  09/2019  0,15  /  0,15  540,1M  /  531,58M\n",
       "2   24.07.2019  06/2019  0,18  /  0,16    499M  /  496,41M\n",
       "3   27.04.2019  03/2019  0,16  /  0,16    505M  /  506,82M\n",
       "4   23.01.2019  12/2018  0,14  /  0,14    468M  /  465,99M"
      ]
     },
     "execution_count": 190,
     "metadata": {},
     "output_type": "execute_result"
    }
   ],
   "source": [
    "colnames = ['Date_publish','Period','BPA','PrevBPA','Revenue','PrevRevenue']\n",
    "datos=rows\n",
    "df=pd.DataFrame(datos[2:], columns=colnames)\n",
    "df"
   ]
  },
  {
   "cell_type": "code",
   "execution_count": 191,
   "metadata": {
    "ExecuteTime": {
     "end_time": "2020-02-16T19:02:06.441634Z",
     "start_time": "2020-02-16T19:02:06.398022Z"
    }
   },
   "outputs": [
    {
     "data": {
      "text/html": [
       "<div>\n",
       "<style scoped>\n",
       "    .dataframe tbody tr th:only-of-type {\n",
       "        vertical-align: middle;\n",
       "    }\n",
       "\n",
       "    .dataframe tbody tr th {\n",
       "        vertical-align: top;\n",
       "    }\n",
       "\n",
       "    .dataframe thead th {\n",
       "        text-align: right;\n",
       "    }\n",
       "</style>\n",
       "<table border=\"1\" class=\"dataframe\">\n",
       "  <thead>\n",
       "    <tr style=\"text-align: right;\">\n",
       "      <th></th>\n",
       "      <th>Date_publish</th>\n",
       "      <th>Period</th>\n",
       "      <th>BPA</th>\n",
       "      <th>PrevBPA</th>\n",
       "      <th>Revenue</th>\n",
       "      <th>PrevRevenue</th>\n",
       "    </tr>\n",
       "  </thead>\n",
       "  <tbody>\n",
       "    <tr>\n",
       "      <th>0</th>\n",
       "      <td>2020-01-22</td>\n",
       "      <td>2019-12-30</td>\n",
       "      <td>0.12</td>\n",
       "      <td>0.12</td>\n",
       "      <td>510.0</td>\n",
       "      <td>510.00</td>\n",
       "    </tr>\n",
       "    <tr>\n",
       "      <th>1</th>\n",
       "      <td>2019-10-31</td>\n",
       "      <td>2019-09-30</td>\n",
       "      <td>0.15</td>\n",
       "      <td>0.15</td>\n",
       "      <td>540.1</td>\n",
       "      <td>531.58</td>\n",
       "    </tr>\n",
       "    <tr>\n",
       "      <th>2</th>\n",
       "      <td>2019-07-24</td>\n",
       "      <td>2019-06-30</td>\n",
       "      <td>0.18</td>\n",
       "      <td>0.16</td>\n",
       "      <td>499.0</td>\n",
       "      <td>496.41</td>\n",
       "    </tr>\n",
       "    <tr>\n",
       "      <th>3</th>\n",
       "      <td>2019-04-27</td>\n",
       "      <td>2019-03-30</td>\n",
       "      <td>0.16</td>\n",
       "      <td>0.16</td>\n",
       "      <td>505.0</td>\n",
       "      <td>506.82</td>\n",
       "    </tr>\n",
       "    <tr>\n",
       "      <th>4</th>\n",
       "      <td>2019-01-23</td>\n",
       "      <td>2018-12-30</td>\n",
       "      <td>0.14</td>\n",
       "      <td>0.14</td>\n",
       "      <td>468.0</td>\n",
       "      <td>465.99</td>\n",
       "    </tr>\n",
       "  </tbody>\n",
       "</table>\n",
       "</div>"
      ],
      "text/plain": [
       "  Date_publish      Period   BPA PrevBPA  Revenue  PrevRevenue\n",
       "0   2020-01-22  2019-12-30  0.12    0.12    510.0       510.00\n",
       "1   2019-10-31  2019-09-30  0.15    0.15    540.1       531.58\n",
       "2   2019-07-24  2019-06-30  0.18    0.16    499.0       496.41\n",
       "3   2019-04-27  2019-03-30  0.16    0.16    505.0       506.82\n",
       "4   2019-01-23  2018-12-30  0.14    0.14    468.0       465.99"
      ]
     },
     "execution_count": 191,
     "metadata": {},
     "output_type": "execute_result"
    }
   ],
   "source": [
    "df['Date_publish']=pd.to_datetime(df['Date_publish']).dt.date\n",
    "df['Period']='30/'+df['Period']\n",
    "df['Period']=pd.to_datetime(df['Period']).dt.date\n",
    "df=df.replace('[,]', '.', regex=True)\n",
    "df['PrevBPA']=df['PrevBPA'].replace('/', '', regex=True)\n",
    "df['Revenue']=df['Revenue'].replace('[A-Z]', '', regex=True).astype(float)\n",
    "df['PrevRevenue']=df['PrevRevenue'].replace('/', '', regex=True)\n",
    "df['PrevRevenue']=df['PrevRevenue'].replace('[A-Z]', '', regex=True).astype(float)\n",
    "df"
   ]
  },
  {
   "cell_type": "markdown",
   "metadata": {},
   "source": [
    "### API"
   ]
  },
  {
   "cell_type": "code",
   "execution_count": 8,
   "metadata": {
    "ExecuteTime": {
     "end_time": "2020-02-16T17:58:08.939701Z",
     "start_time": "2020-02-16T17:58:08.146660Z"
    }
   },
   "outputs": [],
   "source": [
    "#https://financialmodelingprep.com/developer/docs/companies-key-stats-free-api/#Python\n",
    "\n",
    "#'https://financialmodelingprep.com/api/v3/historical-price-full/AAPL'\n",
    "\n",
    "\n",
    "url = 'https://financialmodelingprep.com/api/v3/historical-price-full/AMZN'\n",
    "response = requests.get(url)\n",
    "\n"
   ]
  },
  {
   "cell_type": "code",
   "execution_count": 9,
   "metadata": {
    "ExecuteTime": {
     "end_time": "2020-02-16T17:58:08.994313Z",
     "start_time": "2020-02-16T17:58:08.944156Z"
    }
   },
   "outputs": [],
   "source": [
    "result=response.json()\n",
    "result\n",
    "data=pd.DataFrame(json_normalize(result))"
   ]
  },
  {
   "cell_type": "code",
   "execution_count": 10,
   "metadata": {
    "ExecuteTime": {
     "end_time": "2020-02-16T17:58:09.001731Z",
     "start_time": "2020-02-16T17:58:08.996429Z"
    }
   },
   "outputs": [],
   "source": [
    "#data['historical'][0]"
   ]
  },
  {
   "cell_type": "code",
   "execution_count": 11,
   "metadata": {
    "ExecuteTime": {
     "end_time": "2020-02-16T17:58:09.084339Z",
     "start_time": "2020-02-16T17:58:09.006311Z"
    }
   },
   "outputs": [
    {
     "data": {
      "text/html": [
       "<div>\n",
       "<style scoped>\n",
       "    .dataframe tbody tr th:only-of-type {\n",
       "        vertical-align: middle;\n",
       "    }\n",
       "\n",
       "    .dataframe tbody tr th {\n",
       "        vertical-align: top;\n",
       "    }\n",
       "\n",
       "    .dataframe thead th {\n",
       "        text-align: right;\n",
       "    }\n",
       "</style>\n",
       "<table border=\"1\" class=\"dataframe\">\n",
       "  <thead>\n",
       "    <tr style=\"text-align: right;\">\n",
       "      <th></th>\n",
       "      <th>date</th>\n",
       "      <th>open</th>\n",
       "      <th>high</th>\n",
       "      <th>low</th>\n",
       "      <th>close</th>\n",
       "      <th>adjClose</th>\n",
       "      <th>volume</th>\n",
       "      <th>unadjustedVolume</th>\n",
       "      <th>change</th>\n",
       "      <th>changePercent</th>\n",
       "      <th>vwap</th>\n",
       "      <th>label</th>\n",
       "      <th>changeOverTime</th>\n",
       "    </tr>\n",
       "  </thead>\n",
       "  <tbody>\n",
       "    <tr>\n",
       "      <th>0</th>\n",
       "      <td>2015-02-17</td>\n",
       "      <td>377.72</td>\n",
       "      <td>379.99</td>\n",
       "      <td>372.67</td>\n",
       "      <td>375.43</td>\n",
       "      <td>375.43</td>\n",
       "      <td>3673200.0</td>\n",
       "      <td>3673200.0</td>\n",
       "      <td>2.29</td>\n",
       "      <td>0.606</td>\n",
       "      <td>376.03000</td>\n",
       "      <td>February 17, 15</td>\n",
       "      <td>0.00606</td>\n",
       "    </tr>\n",
       "    <tr>\n",
       "      <th>1</th>\n",
       "      <td>2015-02-18</td>\n",
       "      <td>373.78</td>\n",
       "      <td>376.74</td>\n",
       "      <td>372.85</td>\n",
       "      <td>373.37</td>\n",
       "      <td>373.37</td>\n",
       "      <td>2650600.0</td>\n",
       "      <td>2650600.0</td>\n",
       "      <td>0.41</td>\n",
       "      <td>0.110</td>\n",
       "      <td>374.32000</td>\n",
       "      <td>February 18, 15</td>\n",
       "      <td>0.00110</td>\n",
       "    </tr>\n",
       "    <tr>\n",
       "      <th>2</th>\n",
       "      <td>2015-02-19</td>\n",
       "      <td>373.49</td>\n",
       "      <td>381.88</td>\n",
       "      <td>373.43</td>\n",
       "      <td>379.00</td>\n",
       "      <td>379.00</td>\n",
       "      <td>2953800.0</td>\n",
       "      <td>2953800.0</td>\n",
       "      <td>-5.51</td>\n",
       "      <td>-1.475</td>\n",
       "      <td>378.10333</td>\n",
       "      <td>February 19, 15</td>\n",
       "      <td>-0.01475</td>\n",
       "    </tr>\n",
       "    <tr>\n",
       "      <th>3</th>\n",
       "      <td>2015-02-20</td>\n",
       "      <td>378.62</td>\n",
       "      <td>383.70</td>\n",
       "      <td>375.84</td>\n",
       "      <td>383.66</td>\n",
       "      <td>383.66</td>\n",
       "      <td>3258000.0</td>\n",
       "      <td>3258000.0</td>\n",
       "      <td>-5.04</td>\n",
       "      <td>-1.331</td>\n",
       "      <td>381.06667</td>\n",
       "      <td>February 20, 15</td>\n",
       "      <td>-0.01331</td>\n",
       "    </tr>\n",
       "    <tr>\n",
       "      <th>4</th>\n",
       "      <td>2015-02-23</td>\n",
       "      <td>383.44</td>\n",
       "      <td>384.54</td>\n",
       "      <td>378.00</td>\n",
       "      <td>380.14</td>\n",
       "      <td>380.14</td>\n",
       "      <td>2177000.0</td>\n",
       "      <td>2177000.0</td>\n",
       "      <td>3.30</td>\n",
       "      <td>0.861</td>\n",
       "      <td>380.89333</td>\n",
       "      <td>February 23, 15</td>\n",
       "      <td>0.00861</td>\n",
       "    </tr>\n",
       "    <tr>\n",
       "      <th>...</th>\n",
       "      <td>...</td>\n",
       "      <td>...</td>\n",
       "      <td>...</td>\n",
       "      <td>...</td>\n",
       "      <td>...</td>\n",
       "      <td>...</td>\n",
       "      <td>...</td>\n",
       "      <td>...</td>\n",
       "      <td>...</td>\n",
       "      <td>...</td>\n",
       "      <td>...</td>\n",
       "      <td>...</td>\n",
       "      <td>...</td>\n",
       "    </tr>\n",
       "    <tr>\n",
       "      <th>1254</th>\n",
       "      <td>2020-02-10</td>\n",
       "      <td>2085.01</td>\n",
       "      <td>2135.60</td>\n",
       "      <td>2084.96</td>\n",
       "      <td>2133.91</td>\n",
       "      <td>2133.91</td>\n",
       "      <td>5056200.0</td>\n",
       "      <td>5056200.0</td>\n",
       "      <td>-48.90</td>\n",
       "      <td>-2.345</td>\n",
       "      <td>2118.15667</td>\n",
       "      <td>February 10, 20</td>\n",
       "      <td>-0.02345</td>\n",
       "    </tr>\n",
       "    <tr>\n",
       "      <th>1255</th>\n",
       "      <td>2020-02-11</td>\n",
       "      <td>2150.90</td>\n",
       "      <td>2185.95</td>\n",
       "      <td>2136.00</td>\n",
       "      <td>2150.80</td>\n",
       "      <td>2150.80</td>\n",
       "      <td>5746000.0</td>\n",
       "      <td>5746000.0</td>\n",
       "      <td>0.10</td>\n",
       "      <td>0.005</td>\n",
       "      <td>2157.58333</td>\n",
       "      <td>February 11, 20</td>\n",
       "      <td>0.00005</td>\n",
       "    </tr>\n",
       "    <tr>\n",
       "      <th>1256</th>\n",
       "      <td>2020-02-12</td>\n",
       "      <td>2163.20</td>\n",
       "      <td>2180.25</td>\n",
       "      <td>2155.29</td>\n",
       "      <td>2160.00</td>\n",
       "      <td>2160.00</td>\n",
       "      <td>3334300.0</td>\n",
       "      <td>3334300.0</td>\n",
       "      <td>3.20</td>\n",
       "      <td>0.148</td>\n",
       "      <td>2165.18000</td>\n",
       "      <td>February 12, 20</td>\n",
       "      <td>0.00148</td>\n",
       "    </tr>\n",
       "    <tr>\n",
       "      <th>1257</th>\n",
       "      <td>2020-02-13</td>\n",
       "      <td>2144.99</td>\n",
       "      <td>2170.28</td>\n",
       "      <td>2142.00</td>\n",
       "      <td>2149.87</td>\n",
       "      <td>2149.87</td>\n",
       "      <td>3031800.0</td>\n",
       "      <td>3031800.0</td>\n",
       "      <td>-4.88</td>\n",
       "      <td>-0.228</td>\n",
       "      <td>2154.05000</td>\n",
       "      <td>February 13, 20</td>\n",
       "      <td>-0.00228</td>\n",
       "    </tr>\n",
       "    <tr>\n",
       "      <th>1258</th>\n",
       "      <td>2020-02-14</td>\n",
       "      <td>2155.68</td>\n",
       "      <td>2159.04</td>\n",
       "      <td>2125.89</td>\n",
       "      <td>2134.87</td>\n",
       "      <td>2134.87</td>\n",
       "      <td>2599900.0</td>\n",
       "      <td>2599900.0</td>\n",
       "      <td>20.81</td>\n",
       "      <td>0.965</td>\n",
       "      <td>2139.93333</td>\n",
       "      <td>February 14, 20</td>\n",
       "      <td>0.00965</td>\n",
       "    </tr>\n",
       "  </tbody>\n",
       "</table>\n",
       "<p>1259 rows × 13 columns</p>\n",
       "</div>"
      ],
      "text/plain": [
       "            date     open     high      low    close  adjClose     volume  \\\n",
       "0     2015-02-17   377.72   379.99   372.67   375.43    375.43  3673200.0   \n",
       "1     2015-02-18   373.78   376.74   372.85   373.37    373.37  2650600.0   \n",
       "2     2015-02-19   373.49   381.88   373.43   379.00    379.00  2953800.0   \n",
       "3     2015-02-20   378.62   383.70   375.84   383.66    383.66  3258000.0   \n",
       "4     2015-02-23   383.44   384.54   378.00   380.14    380.14  2177000.0   \n",
       "...          ...      ...      ...      ...      ...       ...        ...   \n",
       "1254  2020-02-10  2085.01  2135.60  2084.96  2133.91   2133.91  5056200.0   \n",
       "1255  2020-02-11  2150.90  2185.95  2136.00  2150.80   2150.80  5746000.0   \n",
       "1256  2020-02-12  2163.20  2180.25  2155.29  2160.00   2160.00  3334300.0   \n",
       "1257  2020-02-13  2144.99  2170.28  2142.00  2149.87   2149.87  3031800.0   \n",
       "1258  2020-02-14  2155.68  2159.04  2125.89  2134.87   2134.87  2599900.0   \n",
       "\n",
       "      unadjustedVolume  change  changePercent        vwap            label  \\\n",
       "0            3673200.0    2.29          0.606   376.03000  February 17, 15   \n",
       "1            2650600.0    0.41          0.110   374.32000  February 18, 15   \n",
       "2            2953800.0   -5.51         -1.475   378.10333  February 19, 15   \n",
       "3            3258000.0   -5.04         -1.331   381.06667  February 20, 15   \n",
       "4            2177000.0    3.30          0.861   380.89333  February 23, 15   \n",
       "...                ...     ...            ...         ...              ...   \n",
       "1254         5056200.0  -48.90         -2.345  2118.15667  February 10, 20   \n",
       "1255         5746000.0    0.10          0.005  2157.58333  February 11, 20   \n",
       "1256         3334300.0    3.20          0.148  2165.18000  February 12, 20   \n",
       "1257         3031800.0   -4.88         -0.228  2154.05000  February 13, 20   \n",
       "1258         2599900.0   20.81          0.965  2139.93333  February 14, 20   \n",
       "\n",
       "      changeOverTime  \n",
       "0            0.00606  \n",
       "1            0.00110  \n",
       "2           -0.01475  \n",
       "3           -0.01331  \n",
       "4            0.00861  \n",
       "...              ...  \n",
       "1254        -0.02345  \n",
       "1255         0.00005  \n",
       "1256         0.00148  \n",
       "1257        -0.00228  \n",
       "1258         0.00965  \n",
       "\n",
       "[1259 rows x 13 columns]"
      ]
     },
     "execution_count": 11,
     "metadata": {},
     "output_type": "execute_result"
    }
   ],
   "source": [
    "data2=json_normalize(data['historical'][0])\n",
    "data2"
   ]
  },
  {
   "cell_type": "code",
   "execution_count": 12,
   "metadata": {
    "ExecuteTime": {
     "end_time": "2020-02-16T17:58:09.103197Z",
     "start_time": "2020-02-16T17:58:09.086859Z"
    }
   },
   "outputs": [
    {
     "name": "stderr",
     "output_type": "stream",
     "text": [
      "/usr/local/lib/python3.7/site-packages/ipykernel_launcher.py:2: SettingWithCopyWarning: \n",
      "A value is trying to be set on a copy of a slice from a DataFrame.\n",
      "Try using .loc[row_indexer,col_indexer] = value instead\n",
      "\n",
      "See the caveats in the documentation: http://pandas.pydata.org/pandas-docs/stable/user_guide/indexing.html#returning-a-view-versus-a-copy\n",
      "  \n"
     ]
    }
   ],
   "source": [
    "data3=data2[['date','open','close','volume','change','changePercent','vwap']]\n",
    "data3['date']=pd.to_datetime(data3['date']).dt.date"
   ]
  },
  {
   "cell_type": "code",
   "execution_count": 13,
   "metadata": {
    "ExecuteTime": {
     "end_time": "2020-02-16T17:58:09.130860Z",
     "start_time": "2020-02-16T17:58:09.105782Z"
    }
   },
   "outputs": [
    {
     "data": {
      "text/html": [
       "<div>\n",
       "<style scoped>\n",
       "    .dataframe tbody tr th:only-of-type {\n",
       "        vertical-align: middle;\n",
       "    }\n",
       "\n",
       "    .dataframe tbody tr th {\n",
       "        vertical-align: top;\n",
       "    }\n",
       "\n",
       "    .dataframe thead th {\n",
       "        text-align: right;\n",
       "    }\n",
       "</style>\n",
       "<table border=\"1\" class=\"dataframe\">\n",
       "  <thead>\n",
       "    <tr style=\"text-align: right;\">\n",
       "      <th></th>\n",
       "      <th>date</th>\n",
       "      <th>open</th>\n",
       "      <th>close</th>\n",
       "      <th>volume</th>\n",
       "      <th>change</th>\n",
       "      <th>changePercent</th>\n",
       "      <th>vwap</th>\n",
       "    </tr>\n",
       "  </thead>\n",
       "  <tbody>\n",
       "    <tr>\n",
       "      <th>0</th>\n",
       "      <td>2015-02-17</td>\n",
       "      <td>377.72</td>\n",
       "      <td>375.43</td>\n",
       "      <td>3673200.0</td>\n",
       "      <td>2.29</td>\n",
       "      <td>0.606</td>\n",
       "      <td>376.03000</td>\n",
       "    </tr>\n",
       "    <tr>\n",
       "      <th>1</th>\n",
       "      <td>2015-02-18</td>\n",
       "      <td>373.78</td>\n",
       "      <td>373.37</td>\n",
       "      <td>2650600.0</td>\n",
       "      <td>0.41</td>\n",
       "      <td>0.110</td>\n",
       "      <td>374.32000</td>\n",
       "    </tr>\n",
       "    <tr>\n",
       "      <th>2</th>\n",
       "      <td>2015-02-19</td>\n",
       "      <td>373.49</td>\n",
       "      <td>379.00</td>\n",
       "      <td>2953800.0</td>\n",
       "      <td>-5.51</td>\n",
       "      <td>-1.475</td>\n",
       "      <td>378.10333</td>\n",
       "    </tr>\n",
       "    <tr>\n",
       "      <th>3</th>\n",
       "      <td>2015-02-20</td>\n",
       "      <td>378.62</td>\n",
       "      <td>383.66</td>\n",
       "      <td>3258000.0</td>\n",
       "      <td>-5.04</td>\n",
       "      <td>-1.331</td>\n",
       "      <td>381.06667</td>\n",
       "    </tr>\n",
       "    <tr>\n",
       "      <th>4</th>\n",
       "      <td>2015-02-23</td>\n",
       "      <td>383.44</td>\n",
       "      <td>380.14</td>\n",
       "      <td>2177000.0</td>\n",
       "      <td>3.30</td>\n",
       "      <td>0.861</td>\n",
       "      <td>380.89333</td>\n",
       "    </tr>\n",
       "  </tbody>\n",
       "</table>\n",
       "</div>"
      ],
      "text/plain": [
       "         date    open   close     volume  change  changePercent       vwap\n",
       "0  2015-02-17  377.72  375.43  3673200.0    2.29          0.606  376.03000\n",
       "1  2015-02-18  373.78  373.37  2650600.0    0.41          0.110  374.32000\n",
       "2  2015-02-19  373.49  379.00  2953800.0   -5.51         -1.475  378.10333\n",
       "3  2015-02-20  378.62  383.66  3258000.0   -5.04         -1.331  381.06667\n",
       "4  2015-02-23  383.44  380.14  2177000.0    3.30          0.861  380.89333"
      ]
     },
     "execution_count": 13,
     "metadata": {},
     "output_type": "execute_result"
    }
   ],
   "source": [
    "data3.head(5)"
   ]
  },
  {
   "cell_type": "code",
   "execution_count": 14,
   "metadata": {
    "ExecuteTime": {
     "end_time": "2020-02-16T17:58:09.401370Z",
     "start_time": "2020-02-16T17:58:09.134211Z"
    }
   },
   "outputs": [
    {
     "name": "stderr",
     "output_type": "stream",
     "text": [
      "/usr/local/lib/python3.7/site-packages/pandas/plotting/_matplotlib/converter.py:103: FutureWarning: Using an implicitly registered datetime converter for a matplotlib plotting method. The converter was registered by pandas on import. Future versions of pandas will require you to explicitly register matplotlib converters.\n",
      "\n",
      "To register the converters:\n",
      "\t>>> from pandas.plotting import register_matplotlib_converters\n",
      "\t>>> register_matplotlib_converters()\n",
      "  warnings.warn(msg, FutureWarning)\n"
     ]
    },
    {
     "data": {
      "text/plain": [
       "<matplotlib.collections.PathCollection at 0x117a81450>"
      ]
     },
     "execution_count": 14,
     "metadata": {},
     "output_type": "execute_result"
    },
    {
     "data": {
      "image/png": "[encoded data removed]",
      "text/plain": [
       "<Figure size 432x288 with 1 Axes>"
      ]
     },
     "metadata": {
      "needs_background": "light"
     },
     "output_type": "display_data"
    }
   ],
   "source": [
    "plt.scatter(data3['date'], data3['open'], s =0.2, c = 'red')"
   ]
  },
  {
   "cell_type": "code",
   "execution_count": 15,
   "metadata": {
    "ExecuteTime": {
     "end_time": "2020-02-16T17:58:09.673471Z",
     "start_time": "2020-02-16T17:58:09.403183Z"
    }
   },
   "outputs": [
    {
     "data": {
      "text/plain": [
       "<matplotlib.collections.PathCollection at 0x119b32450>"
      ]
     },
     "execution_count": 15,
     "metadata": {},
     "output_type": "execute_result"
    },
    {
     "data": {
      "image/png": "[encoded data removed]",
      "text/plain": [
       "<Figure size 432x288 with 1 Axes>"
      ]
     },
     "metadata": {
      "needs_background": "light"
     },
     "output_type": "display_data"
    }
   ],
   "source": [
    "plt.scatter(df['Date_publish'], df['Revenue'], s =5, c = 'red')"
   ]
  },
  {
   "cell_type": "code",
   "execution_count": 17,
   "metadata": {
    "ExecuteTime": {
     "end_time": "2020-02-16T17:59:04.202848Z",
     "start_time": "2020-02-16T17:59:03.903106Z"
    }
   },
   "outputs": [
    {
     "data": {
      "image/png": "[encoded data removed]",
      "text/plain": [
       "<Figure size 1080x504 with 1 Axes>"
      ]
     },
     "metadata": {
      "needs_background": "light"
     },
     "output_type": "display_data"
    }
   ],
   "source": [
    "# Requirement 1\n",
    "fig,ax = plt.subplots(nrows=1,ncols=1,figsize=(15,7))\n",
    "ax.plot(data3.date,data3.open,\n",
    "       linewidth=2.5,color='darkmagenta',label=2014)\n",
    "\n",
    "line = ax.plot(df.Period,df.Revenue,\n",
    "       linewidth=2,\n",
    "       color='grey',\n",
    "       label=2013,\n",
    "       alpha=0.3,\n",
    "        marker = 'o', # full list of options here : https://matplotlib.org/api/markers_api.html#module-matplotlib.markers\n",
    "        markersize = 5,\n",
    "        markeredgecolor = 'black',\n",
    "        markeredgewidth = 2,\n",
    "\n",
    "        # Set a name for the line : this is to be used when we have a legend in the graph\n",
    "       );\n",
    "\n"
   ]
  },
  {
   "cell_type": "code",
   "execution_count": null,
   "metadata": {},
   "outputs": [],
   "source": []
  },
  {
   "cell_type": "code",
   "execution_count": null,
   "metadata": {},
   "outputs": [],
   "source": []
  }
 ],
 "metadata": {
  "kernelspec": {
   "display_name": "Python 3",
   "language": "python",
   "name": "python3"
  },
  "language_info": {
   "codemirror_mode": {
    "name": "ipython",
    "version": 3
   },
   "file_extension": ".py",
   "mimetype": "text/x-python",
   "name": "python",
   "nbconvert_exporter": "python",
   "pygments_lexer": "ipython3",
   "version": "3.7.4"
  },
  "varInspector": {
   "cols": {
    "lenName": 16,
    "lenType": 16,
    "lenVar": 40
   },
   "kernels_config": {
    "python": {
     "delete_cmd_postfix": "",
     "delete_cmd_prefix": "del ",
     "library": "var_list.py",
     "varRefreshCmd": "print(var_dic_list())"
    },
    "r": {
     "delete_cmd_postfix": ") ",
     "delete_cmd_prefix": "rm(",
     "library": "var_list.r",
     "varRefreshCmd": "cat(var_dic_list()) "
    }
   },
   "types_to_exclude": [
    "module",
    "function",
    "builtin_function_or_method",
    "instance",
    "_Feature"
   ],
   "window_display": false
  }
 },
 "nbformat": 4,
 "nbformat_minor": 2
}
