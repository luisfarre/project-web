{
 "cells": [
  {
   "cell_type": "code",
   "execution_count": 243,
   "metadata": {
    "ExecuteTime": {
     "end_time": "2020-02-16T19:38:50.987031Z",
     "start_time": "2020-02-16T19:38:50.974660Z"
    }
   },
   "outputs": [],
   "source": [
    "import json\n",
    "import requests\n",
    "import numpy as np\n",
    "import pandas as pd\n",
    "import base64\n",
    "from bs4 import BeautifulSoup\n",
    "from pandas.io.json import json_normalize\n",
    "import matplotlib.pyplot as plt\n",
    "%matplotlib inline\n",
    "from matplotlib import ticker\n",
    "import ipywidgets as widgets\n",
    "from IPython.display import display\n",
    "import re"
   ]
  },
  {
   "cell_type": "markdown",
   "metadata": {},
   "source": [
    "#### Web Scraping"
   ]
  },
  {
   "cell_type": "code",
   "execution_count": 216,
   "metadata": {
    "ExecuteTime": {
     "end_time": "2020-02-16T19:24:22.757908Z",
     "start_time": "2020-02-16T19:24:21.432618Z"
    }
   },
   "outputs": [],
   "source": [
    "#Publicacion resultados: https://es.investing.com/equities/apple-computer-inc-earnings\n",
    "url='https://investing.com/equities'\n",
    "headers = {'user-agent': 'Mozilla/5.0 (Macintosh; Intel Mac OS X 10_14_6) AppleWebKit/537.36 (KHTML, like Gecko) Chrome/79.0.3945.130 Safari/537.36'}\n",
    "\n",
    "#https://es.investing.com/equities/morehistory\n",
    "\n",
    "html=requests.get(url,headers=headers).content\n",
    "soup=BeautifulSoup(html,'lxml')\n",
    "\n",
    "table = soup.find_all('table',{'id':'cross_rate_markets_stocks_1'})\n",
    "\n",
    "\n",
    "#table id=\"cross_rate_markets_stocks_1\""
   ]
  },
  {
   "cell_type": "code",
   "execution_count": 220,
   "metadata": {
    "ExecuteTime": {
     "end_time": "2020-02-16T19:24:37.324285Z",
     "start_time": "2020-02-16T19:24:37.192793Z"
    }
   },
   "outputs": [
    {
     "data": {
      "text/plain": [
       "<table class=\"genTbl closedTbl crossRatesTbl elpTbl elp30\" id=\"cross_rate_markets_stocks_1\" tablesorter=\"\"><thead><tr><th class=\"flag\"> </th><th class=\"left noWrap elp\">Name<span class=\"headerSortDefault\" sort_default=\"\"></span></th><th>Last</th><th>High</th><th>Low</th><th data-col-caption=\"Change\">Chg.</th><th data-col-caption=\"Change %\">Chg. %<span class=\"headerSortDefault\" sort_default=\"\" sortablecache=\"\"></span></th><th data-col-caption=\"Vol\">Vol.<span class=\"headerSortDefault\" sort_default=\"\" sortablecache=\"\"></span></th><th data-col-caption=\"Time\">Time<span class=\"headerSortDefault\" sort_default=\"\" sortablecache=\"\"></span></th><th class=\"icon\"></th></tr></thead><tbody><tr id=\"pair_240\"><td class=\"flag\"><span class=\"ceFlags USA\" title=\"United States\"> </span></td><td class=\"bold left noWrap elp plusIconTd\"><a href=\"/equities/chevron\" title=\"Chevron Corp\">Chevron</a><span class=\"alertBellGrayPlus js-plus-icon genToolTip oneliner\" data-id=\"240\" data-name=\"Chevron Corp\" data-tooltip=\"Create Alert\" data-volume=\"6,462,600\"></span></td><td class=\"pid-240-last\">110.08</td><td class=\"pid-240-high\">110.97</td><td class=\"pid-240-low\">109.58</td><td class=\"bold redFont pid-240-pc\">-0.29</td><td class=\"bold redFont pid-240-pcp\">-0.26%</td><td class=\"pid-240-turnover\">5.15M</td><td class=\"pid-240-time\" data-value=\"1581723000\">14/02</td><td class=\"icon\"><span class=\"redClockIcon isOpenExch-1\"> </span></td></tr><tr id=\"pair_241\"><td class=\"flag\"><span class=\"ceFlags USA\" title=\"United States\"> </span></td><td class=\"bold left noWrap elp plusIconTd\"><a href=\"/equities/citigroup\" title=\"Citigroup Inc\">Citigroup</a><span class=\"alertBellGrayPlus js-plus-icon genToolTip oneliner\" data-id=\"241\" data-name=\"Citigroup Inc\" data-tooltip=\"Create Alert\" data-volume=\"11,655,887\"></span></td><td class=\"pid-241-last\">78.79</td><td class=\"pid-241-high\">79.09</td><td class=\"pid-241-low\">78.45</td><td class=\"bold redFont pid-241-pc\">-0.21</td><td class=\"bold redFont pid-241-pcp\">-0.27%</td><td class=\"pid-241-turnover\">9.06M</td><td class=\"pid-241-time\" data-value=\"1581723000\">14/02</td><td class=\"icon\"><span class=\"redClockIcon isOpenExch-1\"> </span></td></tr><tr id=\"pair_243\"><td class=\"flag\"><span class=\"ceFlags USA\" title=\"United States\"> </span></td><td class=\"bold left noWrap elp plusIconTd\"><a href=\"/equities/bank-of-america\" title=\"Bank of America Corp\">Bank of America</a><span class=\"alertBellGrayPlus js-plus-icon genToolTip oneliner\" data-id=\"243\" data-name=\"Bank of America Corp\" data-tooltip=\"Create Alert\" data-volume=\"43,270,854\"></span></td><td class=\"pid-243-last\">34.85</td><td class=\"pid-243-high\">34.96</td><td class=\"pid-243-low\">34.70</td><td class=\"bold redFont pid-243-pc\">-0.06</td><td class=\"bold redFont pid-243-pcp\">-0.17%</td><td class=\"pid-243-turnover\">26.45M</td><td class=\"pid-243-time\" data-value=\"1581723000\">14/02</td><td class=\"icon\"><span class=\"redClockIcon isOpenExch-1\"> </span></td></tr><tr id=\"pair_244\"><td class=\"flag\"><span class=\"ceFlags USA\" title=\"United States\"> </span></td><td class=\"bold left noWrap elp plusIconTd\"><a href=\"/equities/at-t\" title=\"AT&amp;T Inc\">AT&amp;T</a><span class=\"alertBellGrayPlus js-plus-icon genToolTip oneliner\" data-id=\"244\" data-name=\"AT&amp;T Inc\" data-tooltip=\"Create Alert\" data-volume=\"30,530,633\"></span></td><td class=\"pid-244-last\">38.25</td><td class=\"pid-244-high\">38.47</td><td class=\"pid-244-low\">38.11</td><td class=\"bold redFont pid-244-pc\">-0.06</td><td class=\"bold redFont pid-244-pcp\">-0.16%</td><td class=\"pid-244-turnover\">27.39M</td><td class=\"pid-244-time\" data-value=\"1581723000\">14/02</td><td class=\"icon\"><span class=\"redClockIcon isOpenExch-1\"> </span></td></tr><tr id=\"pair_251\"><td class=\"flag\"><span class=\"ceFlags USA\" title=\"United States\"> </span></td><td class=\"bold left noWrap elp plusIconTd\"><a href=\"/equities/intel-corp\" title=\"Intel Corporation\">Intel</a><span class=\"alertBellGrayPlus js-plus-icon genToolTip oneliner\" data-id=\"251\" data-name=\"Intel Corporation\" data-tooltip=\"Create Alert\" data-volume=\"20,877,645\"></span></td><td class=\"pid-251-last\">67.27</td><td class=\"pid-251-high\">67.87</td><td class=\"pid-251-low\">66.82</td><td class=\"bold redFont pid-251-pc\">-0.17</td><td class=\"bold redFont pid-251-pcp\">-0.25%</td><td class=\"pid-251-turnover\">13.41M</td><td class=\"pid-251-time\" data-value=\"1581713999\">14/02</td><td class=\"icon\"><span class=\"redClockIcon isOpenExch-2\"> </span></td></tr><tr id=\"pair_252\"><td class=\"flag\"><span class=\"ceFlags USA\" title=\"United States\"> </span></td><td class=\"bold left noWrap elp plusIconTd\"><a href=\"/equities/microsoft-corp\" title=\"Microsoft Corporation\">Microsoft</a><span class=\"alertBellGrayPlus js-plus-icon genToolTip oneliner\" data-id=\"252\" data-name=\"Microsoft Corporation\" data-tooltip=\"Create Alert\" data-volume=\"25,373,786\"></span></td><td class=\"pid-252-last\">185.35</td><td class=\"pid-252-high\">185.41</td><td class=\"pid-252-low\">182.65</td><td class=\"bold greenFont pid-252-pc\">+1.64</td><td class=\"bold greenFont pid-252-pcp\">+0.89%</td><td class=\"pid-252-turnover\">23.15M</td><td class=\"pid-252-time\" data-value=\"1581713999\">14/02</td><td class=\"icon\"><span class=\"redClockIcon isOpenExch-2\"> </span></td></tr><tr id=\"pair_258\"><td class=\"flag\"><span class=\"ceFlags USA\" title=\"United States\"> </span></td><td class=\"bold left noWrap elp plusIconTd\"><a href=\"/equities/disney\" title=\"Walt Disney Company\">Walt Disney</a><span class=\"alertBellGrayPlus js-plus-icon genToolTip oneliner\" data-id=\"258\" data-name=\"Walt Disney Company\" data-tooltip=\"Create Alert\" data-volume=\"9,842,936\"></span></td><td class=\"pid-258-last\">139.54</td><td class=\"pid-258-high\">141.28</td><td class=\"pid-258-low\">139.13</td><td class=\"bold redFont pid-258-pc\">-1.36</td><td class=\"bold redFont pid-258-pcp\">-0.97%</td><td class=\"pid-258-turnover\">9.11M</td><td class=\"pid-258-time\" data-value=\"1581723000\">14/02</td><td class=\"icon\"><span class=\"redClockIcon isOpenExch-1\"> </span></td></tr><tr id=\"pair_260\"><td class=\"flag\"><span class=\"ceFlags USA\" title=\"United States\"> </span></td><td class=\"bold left noWrap elp plusIconTd\"><a href=\"/equities/cisco-sys-inc\" title=\"Cisco Systems Inc\">Cisco</a><span class=\"alertBellGrayPlus js-plus-icon genToolTip oneliner\" data-id=\"260\" data-name=\"Cisco Systems Inc\" data-tooltip=\"Create Alert\" data-volume=\"19,809,962\"></span></td><td class=\"pid-260-last\">46.97</td><td class=\"pid-260-high\">47.22</td><td class=\"pid-260-low\">46.48</td><td class=\"bold redFont pid-260-pc\">-0.35</td><td class=\"bold redFont pid-260-pcp\">-0.74%</td><td class=\"pid-260-turnover\">26.75M</td><td class=\"pid-260-time\" data-value=\"1581713999\">14/02</td><td class=\"icon\"><span class=\"redClockIcon isOpenExch-2\"> </span></td></tr><tr id=\"pair_267\"><td class=\"flag\"><span class=\"ceFlags USA\" title=\"United States\"> </span></td><td class=\"bold left noWrap elp plusIconTd\"><a href=\"/equities/jp-morgan-chase\" title=\"JPMorgan Chase &amp; Co\">JPMorgan</a><span class=\"alertBellGrayPlus js-plus-icon genToolTip oneliner\" data-id=\"267\" data-name=\"JPMorgan Chase &amp; Co\" data-tooltip=\"Create Alert\" data-volume=\"10,120,007\"></span></td><td class=\"pid-267-last\">137.46</td><td class=\"pid-267-high\">138.19</td><td class=\"pid-267-low\">136.94</td><td class=\"bold redFont pid-267-pc\">-0.42</td><td class=\"bold redFont pid-267-pcp\">-0.30%</td><td class=\"pid-267-turnover\">6.63M</td><td class=\"pid-267-time\" data-value=\"1581723000\">14/02</td><td class=\"icon\"><span class=\"redClockIcon isOpenExch-1\"> </span></td></tr><tr id=\"pair_271\"><td class=\"flag\"><span class=\"ceFlags USA\" title=\"United States\"> </span></td><td class=\"bold left noWrap elp plusIconTd\"><a href=\"/equities/coca-cola-co\" title=\"Coca-Cola Company\">Coca-Cola</a><span class=\"alertBellGrayPlus js-plus-icon genToolTip oneliner\" data-id=\"271\" data-name=\"Coca-Cola Company\" data-tooltip=\"Create Alert\" data-volume=\"11,653,590\"></span></td><td class=\"pid-271-last\">59.95</td><td class=\"pid-271-high\">60.07</td><td class=\"pid-271-low\">59.62</td><td class=\"bold greenFont pid-271-pc\">+0.34</td><td class=\"bold greenFont pid-271-pcp\">+0.57%</td><td class=\"pid-271-turnover\">9.97M</td><td class=\"pid-271-time\" data-value=\"1581723000\">14/02</td><td class=\"icon\"><span class=\"redClockIcon isOpenExch-1\"> </span></td></tr><tr id=\"pair_272\"><td class=\"flag\"><span class=\"ceFlags USA\" title=\"United States\"> </span></td><td class=\"bold left noWrap elp plusIconTd\"><a href=\"/equities/mcdonalds\" title=\"McDonald’s Corporation\">McDonald’s</a><span class=\"alertBellGrayPlus js-plus-icon genToolTip oneliner\" data-id=\"272\" data-name=\"McDonald’s Corporation\" data-tooltip=\"Create Alert\" data-volume=\"3,214,621\"></span></td><td class=\"pid-272-last\">217.09</td><td class=\"pid-272-high\">217.84</td><td class=\"pid-272-low\">216.38</td><td class=\"bold redFont pid-272-pc\">-0.33</td><td class=\"bold redFont pid-272-pcp\">-0.15%</td><td class=\"pid-272-turnover\">1.72M</td><td class=\"pid-272-time\" data-value=\"1581723000\">14/02</td><td class=\"icon\"><span class=\"redClockIcon isOpenExch-1\"> </span></td></tr><tr id=\"pair_274\"><td class=\"flag\"><span class=\"ceFlags USA\" title=\"United States\"> </span></td><td class=\"bold left noWrap elp plusIconTd\"><a href=\"/equities/oracle-corp\" title=\"Oracle Corporation\">Oracle</a><span class=\"alertBellGrayPlus js-plus-icon genToolTip oneliner\" data-id=\"274\" data-name=\"Oracle Corporation\" data-tooltip=\"Create Alert\" data-volume=\"10,105,470\"></span></td><td class=\"pid-274-last\">55.47</td><td class=\"pid-274-high\">55.84</td><td class=\"pid-274-low\">55.24</td><td class=\"bold greenFont pid-274-pc\">+0.16</td><td class=\"bold greenFont pid-274-pcp\">+0.29%</td><td class=\"pid-274-turnover\">7.50M</td><td class=\"pid-274-time\" data-value=\"1581723000\">14/02</td><td class=\"icon\"><span class=\"redClockIcon isOpenExch-1\"> </span></td></tr><tr id=\"pair_275\"><td class=\"flag\"><span class=\"ceFlags USA\" title=\"United States\"> </span></td><td class=\"bold left noWrap elp plusIconTd\"><a href=\"/equities/merck---co\" title=\"Merck &amp; Company Inc\">Merck&amp;Co</a><span class=\"alertBellGrayPlus js-plus-icon genToolTip oneliner\" data-id=\"275\" data-name=\"Merck &amp; Company Inc\" data-tooltip=\"Create Alert\" data-volume=\"9,358,864\"></span></td><td class=\"pid-275-last\">82.65</td><td class=\"pid-275-high\">82.80</td><td class=\"pid-275-low\">81.67</td><td class=\"bold greenFont pid-275-pc\">+0.68</td><td class=\"bold greenFont pid-275-pcp\">+0.83%</td><td class=\"pid-275-turnover\">8.34M</td><td class=\"pid-275-time\" data-value=\"1581723000\">14/02</td><td class=\"icon\"><span class=\"redClockIcon isOpenExch-1\"> </span></td></tr><tr id=\"pair_6365\"><td class=\"flag\"><span class=\"ceFlags USA\" title=\"United States\"> </span></td><td class=\"bold left noWrap elp plusIconTd\"><a href=\"/equities/gilead-sciences-inc\" title=\"Gilead Sciences Inc\">Gilead</a><span class=\"alertBellGrayPlus js-plus-icon genToolTip oneliner\" data-id=\"6365\" data-name=\"Gilead Sciences Inc\" data-tooltip=\"Create Alert\" data-volume=\"9,643,329\"></span></td><td class=\"pid-6365-last\">67.56</td><td class=\"pid-6365-high\">67.66</td><td class=\"pid-6365-low\">67.04</td><td class=\"bold greenFont pid-6365-pc\">+0.76</td><td class=\"bold greenFont pid-6365-pcp\">+1.14%</td><td class=\"pid-6365-turnover\">9.11M</td><td class=\"pid-6365-time\" data-value=\"1581713999\">14/02</td><td class=\"icon\"><span class=\"redClockIcon isOpenExch-2\"> </span></td></tr><tr id=\"pair_6369\"><td class=\"flag\"><span class=\"ceFlags USA\" title=\"United States\"> </span></td><td class=\"bold left noWrap elp plusIconTd\"><a href=\"/equities/google-inc\" title=\"Alphabet Inc Class A\">Alphabet A</a><span class=\"alertBellGrayPlus js-plus-icon genToolTip oneliner\" data-id=\"6369\" data-name=\"Alphabet Inc Class A\" data-tooltip=\"Create Alert\" data-volume=\"1,535,374\"></span></td><td class=\"pid-6369-last\">1,518.73</td><td class=\"pid-6369-high\">1,520.05</td><td class=\"pid-6369-low\">1,505.55</td><td class=\"bold greenFont pid-6369-pc\">+5.34</td><td class=\"bold greenFont pid-6369-pcp\">+0.35%</td><td class=\"pid-6369-turnover\">1.16M</td><td class=\"pid-6369-time\" data-value=\"1581713999\">14/02</td><td class=\"icon\"><span class=\"redClockIcon isOpenExch-2\"> </span></td></tr><tr id=\"pair_6376\"><td class=\"flag\"><span class=\"ceFlags USA\" title=\"United States\"> </span></td><td class=\"bold left noWrap elp plusIconTd\"><a href=\"/equities/qualcomm-inc\" title=\"Qualcomm Incorporated\">Qualcomm</a><span class=\"alertBellGrayPlus js-plus-icon genToolTip oneliner\" data-id=\"6376\" data-name=\"Qualcomm Incorporated\" data-tooltip=\"Create Alert\" data-volume=\"9,521,384\"></span></td><td class=\"pid-6376-last\">89.60</td><td class=\"pid-6376-high\">90.80</td><td class=\"pid-6376-low\">88.79</td><td class=\"bold redFont pid-6376-pc\">-0.43</td><td class=\"bold redFont pid-6376-pcp\">-0.48%</td><td class=\"pid-6376-turnover\">6.26M</td><td class=\"pid-6376-time\" data-value=\"1581713999\">14/02</td><td class=\"icon\"><span class=\"redClockIcon isOpenExch-2\"> </span></td></tr><tr id=\"pair_6378\"><td class=\"flag\"><span class=\"ceFlags USA\" title=\"United States\"> </span></td><td class=\"bold left noWrap elp plusIconTd\"><a href=\"/equities/baidu.com\" title=\"Baidu Inc\">Baidu</a><span class=\"alertBellGrayPlus js-plus-icon genToolTip oneliner\" data-id=\"6378\" data-name=\"Baidu Inc\" data-tooltip=\"Create Alert\" data-volume=\"3,598,278\"></span></td><td class=\"pid-6378-last\">134.57</td><td class=\"pid-6378-high\">135.90</td><td class=\"pid-6378-low\">134.05</td><td class=\"bold redFont pid-6378-pc\">-0.61</td><td class=\"bold redFont pid-6378-pcp\">-0.45%</td><td class=\"pid-6378-turnover\">1.70M</td><td class=\"pid-6378-time\" data-value=\"1581713999\">14/02</td><td class=\"icon\"><span class=\"redClockIcon isOpenExch-2\"> </span></td></tr><tr id=\"pair_6408\"><td class=\"flag\"><span class=\"ceFlags USA\" title=\"United States\"> </span></td><td class=\"bold left noWrap elp plusIconTd\"><a href=\"/equities/apple-computer-inc\" title=\"Apple Inc\">Apple</a><span class=\"alertBellGrayPlus js-plus-icon genToolTip oneliner\" data-id=\"6408\" data-name=\"Apple Inc\" data-tooltip=\"Create Alert\" data-volume=\"29,549,809\"></span></td><td class=\"pid-6408-last\">324.95</td><td class=\"pid-6408-high\">325.98</td><td class=\"pid-6408-low\">322.85</td><td class=\"bold greenFont pid-6408-pc\">+0.08</td><td class=\"bold greenFont pid-6408-pcp\">+0.02%</td><td class=\"pid-6408-turnover\">20.03M</td><td class=\"pid-6408-time\" data-value=\"1581713999\">14/02</td><td class=\"icon\"><span class=\"redClockIcon isOpenExch-2\"> </span></td></tr><tr id=\"pair_6435\"><td class=\"flag\"><span class=\"ceFlags USA\" title=\"United States\"> </span></td><td class=\"bold left noWrap elp plusIconTd\"><a href=\"/equities/amazon-com-inc\" title=\"Amazon.com Inc\">Amazon.com</a><span class=\"alertBellGrayPlus js-plus-icon genToolTip oneliner\" data-id=\"6435\" data-name=\"Amazon.com Inc\" data-tooltip=\"Create Alert\" data-volume=\"3,634,685\"></span></td><td class=\"pid-6435-last\">2,134.87</td><td class=\"pid-6435-high\">2,159.04</td><td class=\"pid-6435-low\">2,125.89</td><td class=\"bold redFont pid-6435-pc\">-15.00</td><td class=\"bold redFont pid-6435-pcp\">-0.70%</td><td class=\"pid-6435-turnover\">2.61M</td><td class=\"pid-6435-time\" data-value=\"1581713999\">14/02</td><td class=\"icon\"><span class=\"redClockIcon isOpenExch-2\"> </span></td></tr><tr id=\"pair_6466\"><td class=\"flag\"><span class=\"ceFlags USA\" title=\"United States\"> </span></td><td class=\"bold left noWrap elp plusIconTd\"><a href=\"/equities/amgen-inc\" title=\"Amgen Inc\">Amgen</a><span class=\"alertBellGrayPlus js-plus-icon genToolTip oneliner\" data-id=\"6466\" data-name=\"Amgen Inc\" data-tooltip=\"Create Alert\" data-volume=\"2,253,977\"></span></td><td class=\"pid-6466-last\">223.48</td><td class=\"pid-6466-high\">223.49</td><td class=\"pid-6466-low\">221.34</td><td class=\"bold greenFont pid-6466-pc\">+0.44</td><td class=\"bold greenFont pid-6466-pcp\">+0.20%</td><td class=\"pid-6466-turnover\">1.61M</td><td class=\"pid-6466-time\" data-value=\"1581713999\">14/02</td><td class=\"icon\"><span class=\"redClockIcon isOpenExch-2\"> </span></td></tr><tr id=\"pair_6487\"><td class=\"flag\"><span class=\"ceFlags USA\" title=\"United States\"> </span></td><td class=\"bold left noWrap elp plusIconTd\"><a href=\"/equities/biogen-idec-inc\" title=\"Biogen Inc\">Biogen</a><span class=\"alertBellGrayPlus js-plus-icon genToolTip oneliner\" data-id=\"6487\" data-name=\"Biogen Inc\" data-tooltip=\"Create Alert\" data-volume=\"1,827,932\"></span></td><td class=\"pid-6487-last\">333.00</td><td class=\"pid-6487-high\">335.40</td><td class=\"pid-6487-low\">331.83</td><td class=\"bold redFont pid-6487-pc\">-1.25</td><td class=\"bold redFont pid-6487-pcp\">-0.37%</td><td class=\"pid-6487-turnover\">1.02M</td><td class=\"pid-6487-time\" data-value=\"1581713999\">14/02</td><td class=\"icon\"><span class=\"redClockIcon isOpenExch-2\"> </span></td></tr><tr id=\"pair_6516\"><td class=\"flag\"><span class=\"ceFlags USA\" title=\"United States\"> </span></td><td class=\"bold left noWrap elp plusIconTd\"><a href=\"/equities/comcast-corp-new\" title=\"Comcast Corp\">Comcast</a><span class=\"alertBellGrayPlus js-plus-icon genToolTip oneliner\" data-id=\"6516\" data-name=\"Comcast Corp\" data-tooltip=\"Create Alert\" data-volume=\"20,968,528\"></span></td><td class=\"pid-6516-last\">46.09</td><td class=\"pid-6516-high\">46.18</td><td class=\"pid-6516-low\">45.75</td><td class=\"bold greenFont pid-6516-pc\">+0.02</td><td class=\"bold greenFont pid-6516-pcp\">+0.04%</td><td class=\"pid-6516-turnover\">15.93M</td><td class=\"pid-6516-time\" data-value=\"1581713999\">14/02</td><td class=\"icon\"><span class=\"redClockIcon isOpenExch-2\"> </span></td></tr><tr id=\"pair_7873\"><td class=\"flag\"><span class=\"ceFlags USA\" title=\"United States\"> </span></td><td class=\"bold left noWrap elp plusIconTd\"><a href=\"/equities/actavis\" title=\"Allergan PLC\">Allergan</a><span class=\"alertBellGrayPlus js-plus-icon genToolTip oneliner\" data-id=\"7873\" data-name=\"Allergan PLC\" data-tooltip=\"Create Alert\" data-volume=\"2,385,728\"></span></td><td class=\"pid-7873-last\">198.32</td><td class=\"pid-7873-high\">199.40</td><td class=\"pid-7873-low\">197.94</td><td class=\"bold redFont pid-7873-pc\">-0.94</td><td class=\"bold redFont pid-7873-pcp\">-0.47%</td><td class=\"pid-7873-turnover\">3.06M</td><td class=\"pid-7873-time\" data-value=\"1581723000\">14/02</td><td class=\"icon\"><span class=\"redClockIcon isOpenExch-1\"> </span></td></tr><tr id=\"pair_7888\"><td class=\"flag\"><span class=\"ceFlags USA\" title=\"United States\"> </span></td><td class=\"bold left noWrap elp plusIconTd\"><a href=\"/equities/exxon-mobil\" title=\"Exxon Mobil Corp\">Exxon Mobil</a><span class=\"alertBellGrayPlus js-plus-icon genToolTip oneliner\" data-id=\"7888\" data-name=\"Exxon Mobil Corp\" data-tooltip=\"Create Alert\" data-volume=\"15,609,581\"></span></td><td class=\"pid-7888-last\">60.65</td><td class=\"pid-7888-high\">61.16</td><td class=\"pid-7888-low\">60.28</td><td class=\"bold redFont pid-7888-pc\">-0.28</td><td class=\"bold redFont pid-7888-pcp\">-0.46%</td><td class=\"pid-7888-turnover\">10.86M</td><td class=\"pid-7888-time\" data-value=\"1581723000\">14/02</td><td class=\"icon\"><span class=\"redClockIcon isOpenExch-1\"> </span></td></tr><tr id=\"pair_7989\"><td class=\"flag\"><span class=\"ceFlags USA\" title=\"United States\"> </span></td><td class=\"bold left noWrap elp plusIconTd\"><a href=\"/equities/pfizer\" title=\"Pfizer Inc\">Pfizer</a><span class=\"alertBellGrayPlus js-plus-icon genToolTip oneliner\" data-id=\"7989\" data-name=\"Pfizer Inc\" data-tooltip=\"Create Alert\" data-volume=\"21,213,894\"></span></td><td class=\"pid-7989-last\">36.51</td><td class=\"pid-7989-high\">37.04</td><td class=\"pid-7989-low\">36.42</td><td class=\"bold redFont pid-7989-pc\">-0.42</td><td class=\"bold redFont pid-7989-pcp\">-1.14%</td><td class=\"pid-7989-turnover\">19.93M</td><td class=\"pid-7989-time\" data-value=\"1581723000\">14/02</td><td class=\"icon\"><span class=\"redClockIcon isOpenExch-1\"> </span></td></tr><tr id=\"pair_7992\"><td class=\"flag\"><span class=\"ceFlags USA\" title=\"United States\"> </span></td><td class=\"bold left noWrap elp plusIconTd\"><a href=\"/equities/wells-fargo\" title=\"Wells Fargo &amp; Company\">Wells Fargo&amp;Co</a><span class=\"alertBellGrayPlus js-plus-icon genToolTip oneliner\" data-id=\"7992\" data-name=\"Wells Fargo &amp; Company\" data-tooltip=\"Create Alert\" data-volume=\"19,020,257\"></span></td><td class=\"pid-7992-last\">48.22</td><td class=\"pid-7992-high\">48.32</td><td class=\"pid-7992-low\">47.75</td><td class=\"bold greenFont pid-7992-pc\">+0.10</td><td class=\"bold greenFont pid-7992-pcp\">+0.21%</td><td class=\"pid-7992-turnover\">15.53M</td><td class=\"pid-7992-time\" data-value=\"1581723000\">14/02</td><td class=\"icon\"><span class=\"redClockIcon isOpenExch-1\"> </span></td></tr><tr id=\"pair_7997\"><td class=\"flag\"><span class=\"ceFlags USA\" title=\"United States\"> </span></td><td class=\"bold left noWrap elp plusIconTd\"><a href=\"/equities/wal-mart-stores\" title=\"Walmart Inc\">Walmart</a><span class=\"alertBellGrayPlus js-plus-icon genToolTip oneliner\" data-id=\"7997\" data-name=\"Walmart Inc\" data-tooltip=\"Create Alert\" data-volume=\"5,338,760\"></span></td><td class=\"pid-7997-last\">117.89</td><td class=\"pid-7997-high\">118.57</td><td class=\"pid-7997-low\">117.16</td><td class=\"bold greenFont pid-7997-pc\">+0.45</td><td class=\"bold greenFont pid-7997-pcp\">+0.38%</td><td class=\"pid-7997-turnover\">8.13M</td><td class=\"pid-7997-time\" data-value=\"1581723000\">14/02</td><td class=\"icon\"><span class=\"redClockIcon isOpenExch-1\"> </span></td></tr><tr id=\"pair_8064\"><td class=\"flag\"><span class=\"ceFlags USA\" title=\"United States\"> </span></td><td class=\"bold left noWrap elp plusIconTd\"><a href=\"/equities/home-depot\" title=\"Home Depot Inc\">Home Depot</a><span class=\"alertBellGrayPlus js-plus-icon genToolTip oneliner\" data-id=\"8064\" data-name=\"Home Depot Inc\" data-tooltip=\"Create Alert\" data-volume=\"5,140,956\"></span></td><td class=\"pid-8064-last\">245.03</td><td class=\"pid-8064-high\">245.20</td><td class=\"pid-8064-low\">242.63</td><td class=\"bold greenFont pid-8064-pc\">+2.67</td><td class=\"bold greenFont pid-8064-pcp\">+1.10%</td><td class=\"pid-8064-turnover\">2.84M</td><td class=\"pid-8064-time\" data-value=\"1581723000\">14/02</td><td class=\"icon\"><span class=\"redClockIcon isOpenExch-1\"> </span></td></tr><tr id=\"pair_8082\"><td class=\"flag\"><span class=\"ceFlags USA\" title=\"United States\"> </span></td><td class=\"bold left noWrap elp plusIconTd\"><a href=\"/equities/ibm\" title=\"International Business Machines\">IBM</a><span class=\"alertBellGrayPlus js-plus-icon genToolTip oneliner\" data-id=\"8082\" data-name=\"International Business Machines\" data-tooltip=\"Create Alert\" data-volume=\"4,574,120\"></span></td><td class=\"pid-8082-last\">150.70</td><td class=\"pid-8082-high\">154.56</td><td class=\"pid-8082-low\">149.77</td><td class=\"bold redFont pid-8082-pc\">-3.61</td><td class=\"bold redFont pid-8082-pcp\">-2.34%</td><td class=\"pid-8082-turnover\">6.10M</td><td class=\"pid-8082-time\" data-value=\"1581723000\">14/02</td><td class=\"icon\"><span class=\"redClockIcon isOpenExch-1\"> </span></td></tr><tr id=\"pair_8122\"><td class=\"flag\"><span class=\"ceFlags USA\" title=\"United States\"> </span></td><td class=\"bold left noWrap elp plusIconTd\"><a href=\"/equities/williams-cos\" title=\"Williams Companies Inc\">Williams</a><span class=\"alertBellGrayPlus js-plus-icon genToolTip oneliner\" data-id=\"8122\" data-name=\"Williams Companies Inc\" data-tooltip=\"Create Alert\" data-volume=\"10,910,736\"></span></td><td class=\"pid-8122-last\">21.54</td><td class=\"pid-8122-high\">21.69</td><td class=\"pid-8122-low\">21.42</td><td class=\"bold redFont pid-8122-pc\">-0.08</td><td class=\"bold redFont pid-8122-pcp\">-0.37%</td><td class=\"pid-8122-turnover\">6.07M</td><td class=\"pid-8122-time\" data-value=\"1581723000\">14/02</td><td class=\"icon\"><span class=\"redClockIcon isOpenExch-1\"> </span></td></tr><tr id=\"pair_8127\"><td class=\"flag\"><span class=\"ceFlags USA\" title=\"United States\"> </span></td><td class=\"bold left noWrap elp plusIconTd\"><a href=\"/equities/verizon-communications\" title=\"Verizon Communications Inc\">Verizon</a><span class=\"alertBellGrayPlus js-plus-icon genToolTip oneliner\" data-id=\"8127\" data-name=\"Verizon Communications Inc\" data-tooltip=\"Create Alert\" data-volume=\"12,244,392\"></span></td><td class=\"pid-8127-last\">58.51</td><td class=\"pid-8127-high\">58.81</td><td class=\"pid-8127-low\">58.28</td><td class=\"bold redFont pid-8127-pc\">-0.14</td><td class=\"bold redFont pid-8127-pcp\">-0.24%</td><td class=\"pid-8127-turnover\">9.14M</td><td class=\"pid-8127-time\" data-value=\"1581723000\">14/02</td><td class=\"icon\"><span class=\"redClockIcon isOpenExch-1\"> </span></td></tr><tr id=\"pair_8177\"><td class=\"flag\"><span class=\"ceFlags USA\" title=\"United States\"> </span></td><td class=\"bold left noWrap elp plusIconTd\"><a href=\"/equities/johnson-johnson\" title=\"Johnson &amp; Johnson\">J&amp;J</a><span class=\"alertBellGrayPlus js-plus-icon genToolTip oneliner\" data-id=\"8177\" data-name=\"Johnson &amp; Johnson\" data-tooltip=\"Create Alert\" data-volume=\"6,554,745\"></span></td><td class=\"pid-8177-last\">150.13</td><td class=\"pid-8177-high\">150.64</td><td class=\"pid-8177-low\">149.15</td><td class=\"bold greenFont pid-8177-pc\">+0.04</td><td class=\"bold greenFont pid-8177-pcp\">+0.03%</td><td class=\"pid-8177-turnover\">5.72M</td><td class=\"pid-8177-time\" data-value=\"1581723000\">14/02</td><td class=\"icon\"><span class=\"redClockIcon isOpenExch-1\"> </span></td></tr><tr id=\"pair_8193\"><td class=\"flag\"><span class=\"ceFlags USA\" title=\"United States\"> </span></td><td class=\"bold left noWrap elp plusIconTd\"><a href=\"/equities/general-electric\" title=\"General Electric Company\">General Electric</a><span class=\"alertBellGrayPlus js-plus-icon genToolTip oneliner\" data-id=\"8193\" data-name=\"General Electric Company\" data-tooltip=\"Create Alert\" data-volume=\"56,217,969\"></span></td><td class=\"pid-8193-last\">12.83</td><td class=\"pid-8193-high\">13.07</td><td class=\"pid-8193-low\">12.75</td><td class=\"bold redFont pid-8193-pc\">-0.11</td><td class=\"bold redFont pid-8193-pcp\">-0.85%</td><td class=\"pid-8193-turnover\">36.97M</td><td class=\"pid-8193-time\" data-value=\"1581723000\">14/02</td><td class=\"icon\"><span class=\"redClockIcon isOpenExch-1\"> </span></td></tr><tr id=\"pair_8318\"><td class=\"flag\"><span class=\"ceFlags USA\" title=\"United States\"> </span></td><td class=\"bold left noWrap elp plusIconTd\"><a href=\"/equities/visa-inc\" title=\"Visa Inc Class A\">Visa A</a><span class=\"alertBellGrayPlus js-plus-icon genToolTip oneliner\" data-id=\"8318\" data-name=\"Visa Inc Class A\" data-tooltip=\"Create Alert\" data-volume=\"7,983,104\"></span></td><td class=\"pid-8318-last\">210.29</td><td class=\"pid-8318-high\">210.78</td><td class=\"pid-8318-low\">208.01</td><td class=\"bold greenFont pid-8318-pc\">+2.89</td><td class=\"bold greenFont pid-8318-pcp\">+1.39%</td><td class=\"pid-8318-turnover\">6.55M</td><td class=\"pid-8318-time\" data-value=\"1581723000\">14/02</td><td class=\"icon\"><span class=\"redClockIcon isOpenExch-1\"> </span></td></tr><tr id=\"pair_8354\"><td class=\"flag\"><span class=\"ceFlags USA\" title=\"United States\"> </span></td><td class=\"bold left noWrap elp plusIconTd\"><a href=\"/equities/schlumberger-ltd\" title=\"Schlumberger NV\">Schlumberger</a><span class=\"alertBellGrayPlus js-plus-icon genToolTip oneliner\" data-id=\"8354\" data-name=\"Schlumberger NV\" data-tooltip=\"Create Alert\" data-volume=\"10,520,127\"></span></td><td class=\"pid-8354-last\">34.42</td><td class=\"pid-8354-high\">34.87</td><td class=\"pid-8354-low\">34.14</td><td class=\"bold redFont pid-8354-pc\">-0.28</td><td class=\"bold redFont pid-8354-pcp\">-0.81%</td><td class=\"pid-8354-turnover\">7.90M</td><td class=\"pid-8354-time\" data-value=\"1581723000\">14/02</td><td class=\"icon\"><span class=\"redClockIcon isOpenExch-1\"> </span></td></tr><tr id=\"pair_8944\"><td class=\"flag\"><span class=\"ceFlags USA\" title=\"United States\"> </span></td><td class=\"bold left noWrap elp plusIconTd\"><a href=\"/equities/delta-air-lines-new\" title=\"Delta Air Lines Inc\">Delta Air Lines</a><span class=\"alertBellGrayPlus js-plus-icon genToolTip oneliner\" data-id=\"8944\" data-name=\"Delta Air Lines Inc\" data-tooltip=\"Create Alert\" data-volume=\"6,115,528\"></span></td><td class=\"pid-8944-last\">58.90</td><td class=\"pid-8944-high\">59.47</td><td class=\"pid-8944-low\">58.58</td><td class=\"bold redFont pid-8944-pc\">-0.23</td><td class=\"bold redFont pid-8944-pcp\">-0.39%</td><td class=\"pid-8944-turnover\">3.81M</td><td class=\"pid-8944-time\" data-value=\"1581723000\">14/02</td><td class=\"icon\"><span class=\"redClockIcon isOpenExch-1\"> </span></td></tr><tr id=\"pair_8952\"><td class=\"flag\"><span class=\"ceFlags USA\" title=\"United States\"> </span></td><td class=\"bold left noWrap elp plusIconTd\"><a href=\"/equities/procter-gamble\" title=\"Procter &amp; Gamble Company\">Procter&amp;Gamble</a><span class=\"alertBellGrayPlus js-plus-icon genToolTip oneliner\" data-id=\"8952\" data-name=\"Procter &amp; Gamble Company\" data-tooltip=\"Create Alert\" data-volume=\"6,652,053\"></span></td><td class=\"pid-8952-last\">126.14</td><td class=\"pid-8952-high\">126.15</td><td class=\"pid-8952-low\">124.79</td><td class=\"bold greenFont pid-8952-pc\">+1.18</td><td class=\"bold greenFont pid-8952-pcp\">+0.94%</td><td class=\"pid-8952-turnover\">5.89M</td><td class=\"pid-8952-time\" data-value=\"1581723000\">14/02</td><td class=\"icon\"><span class=\"redClockIcon isOpenExch-1\"> </span></td></tr><tr id=\"pair_13072\"><td class=\"flag\"><span class=\"ceFlags USA\" title=\"United States\"> </span></td><td class=\"bold left noWrap elp plusIconTd\"><a href=\"/equities/priceline.com-inc\" title=\"Booking Holdings Inc\">Booking</a><span class=\"alertBellGrayPlus js-plus-icon genToolTip oneliner\" data-id=\"13072\" data-name=\"Booking Holdings Inc\" data-tooltip=\"Create Alert\" data-volume=\"376,505\"></span></td><td class=\"pid-13072-last\">1,991.0</td><td class=\"pid-13072-high\">2,024.9</td><td class=\"pid-13072-low\">1,984.7</td><td class=\"bold greenFont pid-13072-pc\">+31.0</td><td class=\"bold greenFont pid-13072-pcp\">+1.58%</td><td class=\"pid-13072-turnover\">535.94K</td><td class=\"pid-13072-time\" data-value=\"1581713999\">14/02</td><td class=\"icon\"><span class=\"redClockIcon isOpenExch-2\"> </span></td></tr><tr id=\"pair_13994\"><td class=\"flag\"><span class=\"ceFlags USA\" title=\"United States\"> </span></td><td class=\"bold left noWrap elp plusIconTd\"><a href=\"/equities/tesla-motors\" title=\"Tesla Inc\">Tesla</a><span class=\"alertBellGrayPlus js-plus-icon genToolTip oneliner\" data-id=\"13994\" data-name=\"Tesla Inc\" data-tooltip=\"Create Alert\" data-volume=\"16,034,998\"></span></td><td class=\"pid-13994-last\">800.03</td><td class=\"pid-13994-high\">812.97</td><td class=\"pid-13994-low\">785.50</td><td class=\"bold redFont pid-13994-pc\">-3.97</td><td class=\"bold redFont pid-13994-pcp\">-0.49%</td><td class=\"pid-13994-turnover\">15.69M</td><td class=\"pid-13994-time\" data-value=\"1581713999\">14/02</td><td class=\"icon\"><span class=\"redClockIcon isOpenExch-2\"> </span></td></tr><tr id=\"pair_26490\"><td class=\"flag\"><span class=\"ceFlags USA\" title=\"United States\"> </span></td><td class=\"bold left noWrap elp plusIconTd\"><a href=\"/equities/facebook-inc\" title=\"Facebook Inc\">Facebook</a><span class=\"alertBellGrayPlus js-plus-icon genToolTip oneliner\" data-id=\"26490\" data-name=\"Facebook Inc\" data-tooltip=\"Create Alert\" data-volume=\"14,530,305\"></span></td><td class=\"pid-26490-last\">214.18</td><td class=\"pid-26490-high\">214.93</td><td class=\"pid-26490-low\">212.65</td><td class=\"bold greenFont pid-26490-pc\">+1.04</td><td class=\"bold greenFont pid-26490-pcp\">+0.49%</td><td class=\"pid-26490-turnover\">10.74M</td><td class=\"pid-26490-time\" data-value=\"1581713999\">14/02</td><td class=\"icon\"><span class=\"redClockIcon isOpenExch-2\"> </span></td></tr><tr id=\"pair_32391\"><td class=\"flag\"><span class=\"ceFlags USA\" title=\"United States\"> </span></td><td class=\"bold left noWrap elp plusIconTd\"><a href=\"/equities/regeneron-phar.\" title=\"Regeneron Pharmaceuticals Inc\">Regeneron Pharma</a><span class=\"alertBellGrayPlus js-plus-icon genToolTip oneliner\" data-id=\"32391\" data-name=\"Regeneron Pharmaceuticals Inc\" data-tooltip=\"Create Alert\" data-volume=\"801,179\"></span></td><td class=\"pid-32391-last\">399.55</td><td class=\"pid-32391-high\">402.09</td><td class=\"pid-32391-low\">393.39</td><td class=\"bold greenFont pid-32391-pc\">+0.74</td><td class=\"bold greenFont pid-32391-pcp\">+0.19%</td><td class=\"pid-32391-turnover\">536.83K</td><td class=\"pid-32391-time\" data-value=\"1581713999\">14/02</td><td class=\"icon\"><span class=\"redClockIcon isOpenExch-2\"> </span></td></tr><tr id=\"pair_40041\"><td class=\"flag\"><span class=\"ceFlags USA\" title=\"United States\"> </span></td><td class=\"bold left noWrap elp plusIconTd\"><a href=\"/equities/abbvie-inc\" title=\"AbbVie Inc\">AbbVie</a><span class=\"alertBellGrayPlus js-plus-icon genToolTip oneliner\" data-id=\"40041\" data-name=\"AbbVie Inc\" data-tooltip=\"Create Alert\" data-volume=\"8,312,503\"></span></td><td class=\"pid-40041-last\">94.05</td><td class=\"pid-40041-high\">95.30</td><td class=\"pid-40041-low\">93.77</td><td class=\"bold redFont pid-40041-pc\">-1.30</td><td class=\"bold redFont pid-40041-pcp\">-1.36%</td><td class=\"pid-40041-turnover\">11.18M</td><td class=\"pid-40041-time\" data-value=\"1581723000\">14/02</td><td class=\"icon\"><span class=\"redClockIcon isOpenExch-1\"> </span></td></tr><tr id=\"pair_44334\"><td class=\"flag\"><span class=\"ceFlags USA\" title=\"United States\"> </span></td><td class=\"bold left noWrap elp plusIconTd\"><a href=\"/equities/twitter-inc\" title=\"Twitter Inc\">Twitter Inc</a><span class=\"alertBellGrayPlus js-plus-icon genToolTip oneliner\" data-id=\"44334\" data-name=\"Twitter Inc\" data-tooltip=\"Create Alert\" data-volume=\"15,412,317\"></span></td><td class=\"pid-44334-last\">36.91</td><td class=\"pid-44334-high\">37.35</td><td class=\"pid-44334-low\">36.58</td><td class=\"bold redFont pid-44334-pc\">-0.25</td><td class=\"bold redFont pid-44334-pcp\">-0.67%</td><td class=\"pid-44334-turnover\">12.21M</td><td class=\"pid-44334-time\" data-value=\"1581723000\">14/02</td><td class=\"icon\"><span class=\"redClockIcon isOpenExch-1\"> </span></td></tr><tr id=\"pair_44412\"><td class=\"flag\"><span class=\"ceFlags USA\" title=\"United States\"> </span></td><td class=\"bold left noWrap elp plusIconTd\"><a href=\"/equities/american-airlines-group\" title=\"American Airlines Group\">American Airlines</a><span class=\"alertBellGrayPlus js-plus-icon genToolTip oneliner\" data-id=\"44412\" data-name=\"American Airlines Group\" data-tooltip=\"Create Alert\" data-volume=\"8,134,640\"></span></td><td class=\"pid-44412-last\">29.20</td><td class=\"pid-44412-high\">30.27</td><td class=\"pid-44412-low\">29.14</td><td class=\"bold redFont pid-44412-pc\">-0.89</td><td class=\"bold redFont pid-44412-pcp\">-2.96%</td><td class=\"pid-44412-turnover\">5.52M</td><td class=\"pid-44412-time\" data-value=\"1581713999\">14/02</td><td class=\"icon\"><span class=\"redClockIcon isOpenExch-2\"> </span></td></tr><tr id=\"pair_100160\"><td class=\"flag\"><span class=\"ceFlags USA\" title=\"United States\"> </span></td><td class=\"bold left noWrap elp plusIconTd\"><a href=\"/equities/google-inc-c\" title=\"Alphabet Inc Class C\">Alphabet C</a><span class=\"alertBellGrayPlus js-plus-icon genToolTip oneliner\" data-id=\"100160\" data-name=\"Alphabet Inc Class C\" data-tooltip=\"Create Alert\" data-volume=\"1,464,103\"></span></td><td class=\"pid-100160-last\">1,520.74</td><td class=\"pid-100160-high\">1,520.74</td><td class=\"pid-100160-low\">1,507.34</td><td class=\"bold greenFont pid-100160-pc\">+6.08</td><td class=\"bold greenFont pid-100160-pcp\">+0.40%</td><td class=\"pid-100160-turnover\">1.20M</td><td class=\"pid-100160-time\" data-value=\"1581713999\">14/02</td><td class=\"icon\"><span class=\"redClockIcon isOpenExch-2\"> </span></td></tr><tr id=\"pair_941155\"><td class=\"flag\"><span class=\"ceFlags USA\" title=\"United States\"> </span></td><td class=\"bold left noWrap elp plusIconTd\"><a href=\"/equities/alibaba\" title=\"Alibaba Group Holdings Ltd ADR\">Alibaba ADR</a><span class=\"alertBellGrayPlus js-plus-icon genToolTip oneliner\" data-id=\"941155\" data-name=\"Alibaba Group Holdings Ltd ADR\" data-tooltip=\"Create Alert\" data-volume=\"15,544,100\"></span></td><td class=\"pid-941155-last\">219.63</td><td class=\"pid-941155-high\">221.64</td><td class=\"pid-941155-low\">218.23</td><td class=\"bold redFont pid-941155-pc\">-0.73</td><td class=\"bold redFont pid-941155-pcp\">-0.33%</td><td class=\"pid-941155-turnover\">10.69M</td><td class=\"pid-941155-time\" data-value=\"1581723000\">14/02</td><td class=\"icon\"><span class=\"redClockIcon isOpenExch-1\"> </span></td></tr><tr id=\"pair_954868\"><td class=\"flag\"><span class=\"ceFlags USA\" title=\"United States\"> </span></td><td class=\"bold left noWrap elp plusIconTd\"><a href=\"/equities/fitbit-inc\" title=\"Fitbit Inc\">Fitbit Inc</a><span class=\"alertBellGrayPlus js-plus-icon genToolTip oneliner\" data-id=\"954868\" data-name=\"Fitbit Inc\" data-tooltip=\"Create Alert\" data-volume=\"7,071,021\"></span></td><td class=\"pid-954868-last\">6.42</td><td class=\"pid-954868-high\">6.51</td><td class=\"pid-954868-low\">6.42</td><td class=\"bold redFont pid-954868-pc\">-0.08</td><td class=\"bold redFont pid-954868-pcp\">-1.23%</td><td class=\"pid-954868-turnover\">6.42M</td><td class=\"pid-954868-time\" data-value=\"1581723000\">14/02</td><td class=\"icon\"><span class=\"redClockIcon isOpenExch-1\"> </span></td></tr></tbody></table>"
      ]
     },
     "execution_count": 220,
     "metadata": {},
     "output_type": "execute_result"
    }
   ],
   "source": [
    "table2=table[0]"
   ]
  },
  {
   "cell_type": "code",
   "execution_count": 222,
   "metadata": {
    "ExecuteTime": {
     "end_time": "2020-02-16T19:25:45.678589Z",
     "start_time": "2020-02-16T19:25:45.665391Z"
    }
   },
   "outputs": [
    {
     "data": {
      "text/plain": [
       "<tr id=\"pair_252\"><td class=\"flag\"><span class=\"ceFlags USA\" title=\"United States\"> </span></td><td class=\"bold left noWrap elp plusIconTd\"><a href=\"/equities/microsoft-corp\" title=\"Microsoft Corporation\">Microsoft</a><span class=\"alertBellGrayPlus js-plus-icon genToolTip oneliner\" data-id=\"252\" data-name=\"Microsoft Corporation\" data-tooltip=\"Create Alert\" data-volume=\"25,373,786\"></span></td><td class=\"pid-252-last\">185.35</td><td class=\"pid-252-high\">185.41</td><td class=\"pid-252-low\">182.65</td><td class=\"bold greenFont pid-252-pc\">+1.64</td><td class=\"bold greenFont pid-252-pcp\">+0.89%</td><td class=\"pid-252-turnover\">23.15M</td><td class=\"pid-252-time\" data-value=\"1581713999\">14/02</td><td class=\"icon\"><span class=\"redClockIcon isOpenExch-2\"> </span></td></tr>"
      ]
     },
     "execution_count": 222,
     "metadata": {},
     "output_type": "execute_result"
    }
   ],
   "source": [
    "rows=table2.find_all('tr')\n",
    "#rows=rows[1:]\n",
    "rows[6]"
   ]
  },
  {
   "cell_type": "code",
   "execution_count": 195,
   "metadata": {
    "ExecuteTime": {
     "end_time": "2020-02-16T19:04:25.461679Z",
     "start_time": "2020-02-16T19:04:25.451636Z"
    }
   },
   "outputs": [],
   "source": [
    "titles = [row.a.get('title') for row in rows]\n",
    "links = [row.a.get('href') for row in rows]"
   ]
  },
  {
   "cell_type": "markdown",
   "metadata": {},
   "source": [
    "Diccionario con todas las empresas del IBEX"
   ]
  },
  {
   "cell_type": "code",
   "execution_count": 196,
   "metadata": {
    "ExecuteTime": {
     "end_time": "2020-02-16T19:04:27.111046Z",
     "start_time": "2020-02-16T19:04:27.106086Z"
    }
   },
   "outputs": [],
   "source": [
    "dict_companies = { titles[i] : links[i] for i in range(len(titles)) }"
   ]
  },
  {
   "cell_type": "code",
   "execution_count": 197,
   "metadata": {
    "ExecuteTime": {
     "end_time": "2020-02-16T19:04:28.788920Z",
     "start_time": "2020-02-16T19:04:28.772478Z"
    }
   },
   "outputs": [
    {
     "data": {
      "application/vnd.jupyter.widget-view+json": {
       "model_id": "9c9ce25f1fb743d5a01142aab608521f",
       "version_major": 2,
       "version_minor": 0
      },
      "text/plain": [
       "Dropdown(description='Company:', options=('Chevron Corp', 'Citigroup Inc', 'Bank of America Corp', 'AT&T Inc',…"
      ]
     },
     "metadata": {},
     "output_type": "display_data"
    }
   ],
   "source": [
    "companies_dropdown=widgets.Dropdown(options=titles,description='Company:')\n",
    "companies_dropdown"
   ]
  },
  {
   "cell_type": "code",
   "execution_count": 205,
   "metadata": {
    "ExecuteTime": {
     "end_time": "2020-02-16T19:22:44.079914Z",
     "start_time": "2020-02-16T19:22:44.070906Z"
    }
   },
   "outputs": [
    {
     "data": {
      "text/plain": [
       "'/equities/disney'"
      ]
     },
     "execution_count": 205,
     "metadata": {},
     "output_type": "execute_result"
    }
   ],
   "source": [
    "company_web=dict_companies.get(companies_dropdown.value)\n",
    "company_web"
   ]
  },
  {
   "cell_type": "markdown",
   "metadata": {},
   "source": [
    "### CREAT WIDGET PARA SELECCIONAR EMPRESA DEL DICCIONARIO Y ASIGNAR A UNA VARIABLE"
   ]
  },
  {
   "cell_type": "code",
   "execution_count": 223,
   "metadata": {
    "ExecuteTime": {
     "end_time": "2020-02-16T19:28:11.964794Z",
     "start_time": "2020-02-16T19:28:10.443590Z"
    }
   },
   "outputs": [],
   "source": [
    "#Publicacion resultados: https://es.investing.com/equities/apple-computer-inc-earnings\n",
    "url=f'https://investing.com{company_web}-earnings'\n",
    "headers = {'user-agent': 'Mozilla/5.0 (Macintosh; Intel Mac OS X 10_14_6) AppleWebKit/537.36 (KHTML, like Gecko) Chrome/79.0.3945.130 Safari/537.36'}\n",
    "\n",
    "#https://es.investing.com/equities/morehistory\n",
    "\n",
    "html=requests.get(url,headers=headers).content\n",
    "soup=BeautifulSoup(html,'lxml')"
   ]
  },
  {
   "cell_type": "code",
   "execution_count": 224,
   "metadata": {
    "ExecuteTime": {
     "end_time": "2020-02-16T19:28:15.994725Z",
     "start_time": "2020-02-16T19:28:15.911729Z"
    }
   },
   "outputs": [],
   "source": [
    "table = soup.find_all('table',{'class':'genTbl openTbl ecoCalTbl earnings earningsPageTbl'})"
   ]
  },
  {
   "cell_type": "code",
   "execution_count": 232,
   "metadata": {
    "ExecuteTime": {
     "end_time": "2020-02-16T19:34:16.437774Z",
     "start_time": "2020-02-16T19:34:16.277754Z"
    }
   },
   "outputs": [
    {
     "data": {
      "text/plain": [
       "[]"
      ]
     },
     "execution_count": 232,
     "metadata": {},
     "output_type": "execute_result"
    }
   ],
   "source": [
    "name_api = soup.find_all('h1',{'class':'float_lang_base_1 relativeAttr'})\n",
    "name_api = soup.find_all('h1',{'class':'float_lang_base_1 relativeAttr'})\n",
    "name_api"
   ]
  },
  {
   "cell_type": "code",
   "execution_count": 267,
   "metadata": {
    "ExecuteTime": {
     "end_time": "2020-02-16T19:46:10.164065Z",
     "start_time": "2020-02-16T19:46:10.086709Z"
    }
   },
   "outputs": [
    {
     "data": {
      "text/plain": [
       "'DIS'"
      ]
     },
     "execution_count": 267,
     "metadata": {},
     "output_type": "execute_result"
    }
   ],
   "source": [
    "name_api = soup.find_all('h1',{'class':'float_lang_base_1 relativeAttr'})\n",
    "name_api = name_api[0].text.strip().split('\\n')\n",
    "name_api=re.findall('\\((.*)\\)',name_api[0])\n",
    "name_api=name_api[0]\n",
    "name_api"
   ]
  },
  {
   "cell_type": "code",
   "execution_count": 268,
   "metadata": {
    "ExecuteTime": {
     "end_time": "2020-02-16T19:46:12.531618Z",
     "start_time": "2020-02-16T19:46:12.526261Z"
    }
   },
   "outputs": [],
   "source": [
    "table2=table[0]"
   ]
  },
  {
   "cell_type": "code",
   "execution_count": 269,
   "metadata": {
    "ExecuteTime": {
     "end_time": "2020-02-16T19:46:14.857351Z",
     "start_time": "2020-02-16T19:46:14.849637Z"
    }
   },
   "outputs": [],
   "source": [
    "rows=table2.find_all('tr')\n",
    "rows = [row.text.strip().split('\\n') for row in rows]\n",
    "rows =[list(filter(None,row)) for row in rows]"
   ]
  },
  {
   "cell_type": "code",
   "execution_count": 270,
   "metadata": {
    "ExecuteTime": {
     "end_time": "2020-02-16T19:46:16.978800Z",
     "start_time": "2020-02-16T19:46:16.962394Z"
    }
   },
   "outputs": [
    {
     "data": {
      "text/html": [
       "<div>\n",
       "<style scoped>\n",
       "    .dataframe tbody tr th:only-of-type {\n",
       "        vertical-align: middle;\n",
       "    }\n",
       "\n",
       "    .dataframe tbody tr th {\n",
       "        vertical-align: top;\n",
       "    }\n",
       "\n",
       "    .dataframe thead th {\n",
       "        text-align: right;\n",
       "    }\n",
       "</style>\n",
       "<table border=\"1\" class=\"dataframe\">\n",
       "  <thead>\n",
       "    <tr style=\"text-align: right;\">\n",
       "      <th></th>\n",
       "      <th>Date_publish</th>\n",
       "      <th>Period</th>\n",
       "      <th>BPA</th>\n",
       "      <th>PrevBPA</th>\n",
       "      <th>Revenue</th>\n",
       "      <th>PrevRevenue</th>\n",
       "    </tr>\n",
       "  </thead>\n",
       "  <tbody>\n",
       "    <tr>\n",
       "      <th>0</th>\n",
       "      <td>Feb 04, 2020</td>\n",
       "      <td>12/2019</td>\n",
       "      <td>1.53</td>\n",
       "      <td>/  1.46</td>\n",
       "      <td>20.86B</td>\n",
       "      <td>/  20.76B</td>\n",
       "    </tr>\n",
       "    <tr>\n",
       "      <th>1</th>\n",
       "      <td>Nov 07, 2019</td>\n",
       "      <td>09/2019</td>\n",
       "      <td>1.07</td>\n",
       "      <td>/  0.94</td>\n",
       "      <td>19.1B</td>\n",
       "      <td>/  19.18B</td>\n",
       "    </tr>\n",
       "    <tr>\n",
       "      <th>2</th>\n",
       "      <td>Aug 06, 2019</td>\n",
       "      <td>06/2019</td>\n",
       "      <td>1.35</td>\n",
       "      <td>/  1.72</td>\n",
       "      <td>20.25B</td>\n",
       "      <td>/  21.45B</td>\n",
       "    </tr>\n",
       "    <tr>\n",
       "      <th>3</th>\n",
       "      <td>May 08, 2019</td>\n",
       "      <td>03/2019</td>\n",
       "      <td>1.61</td>\n",
       "      <td>/  1.58</td>\n",
       "      <td>14.92B</td>\n",
       "      <td>/  14.59B</td>\n",
       "    </tr>\n",
       "    <tr>\n",
       "      <th>4</th>\n",
       "      <td>Feb 05, 2019</td>\n",
       "      <td>12/2018</td>\n",
       "      <td>1.84</td>\n",
       "      <td>/  1.54</td>\n",
       "      <td>15.3B</td>\n",
       "      <td>/  15.16B</td>\n",
       "    </tr>\n",
       "  </tbody>\n",
       "</table>\n",
       "</div>"
      ],
      "text/plain": [
       "   Date_publish   Period   BPA  PrevBPA Revenue PrevRevenue\n",
       "0  Feb 04, 2020  12/2019  1.53  /  1.46  20.86B   /  20.76B\n",
       "1  Nov 07, 2019  09/2019  1.07  /  0.94   19.1B   /  19.18B\n",
       "2  Aug 06, 2019  06/2019  1.35  /  1.72  20.25B   /  21.45B\n",
       "3  May 08, 2019  03/2019  1.61  /  1.58  14.92B   /  14.59B\n",
       "4  Feb 05, 2019  12/2018  1.84  /  1.54   15.3B   /  15.16B"
      ]
     },
     "execution_count": 270,
     "metadata": {},
     "output_type": "execute_result"
    }
   ],
   "source": [
    "colnames = ['Date_publish','Period','BPA','PrevBPA','Revenue','PrevRevenue']\n",
    "datos=rows\n",
    "df=pd.DataFrame(datos[2:], columns=colnames)\n",
    "df"
   ]
  },
  {
   "cell_type": "code",
   "execution_count": 271,
   "metadata": {
    "ExecuteTime": {
     "end_time": "2020-02-16T19:46:19.222548Z",
     "start_time": "2020-02-16T19:46:19.191231Z"
    }
   },
   "outputs": [
    {
     "data": {
      "text/html": [
       "<div>\n",
       "<style scoped>\n",
       "    .dataframe tbody tr th:only-of-type {\n",
       "        vertical-align: middle;\n",
       "    }\n",
       "\n",
       "    .dataframe tbody tr th {\n",
       "        vertical-align: top;\n",
       "    }\n",
       "\n",
       "    .dataframe thead th {\n",
       "        text-align: right;\n",
       "    }\n",
       "</style>\n",
       "<table border=\"1\" class=\"dataframe\">\n",
       "  <thead>\n",
       "    <tr style=\"text-align: right;\">\n",
       "      <th></th>\n",
       "      <th>Date_publish</th>\n",
       "      <th>Period</th>\n",
       "      <th>BPA</th>\n",
       "      <th>PrevBPA</th>\n",
       "      <th>Revenue</th>\n",
       "      <th>PrevRevenue</th>\n",
       "    </tr>\n",
       "  </thead>\n",
       "  <tbody>\n",
       "    <tr>\n",
       "      <th>0</th>\n",
       "      <td>2020-02-04</td>\n",
       "      <td>2019-12-30</td>\n",
       "      <td>1.53</td>\n",
       "      <td>1.46</td>\n",
       "      <td>20.86</td>\n",
       "      <td>20.76</td>\n",
       "    </tr>\n",
       "    <tr>\n",
       "      <th>1</th>\n",
       "      <td>2019-11-07</td>\n",
       "      <td>2019-09-30</td>\n",
       "      <td>1.07</td>\n",
       "      <td>0.94</td>\n",
       "      <td>19.10</td>\n",
       "      <td>19.18</td>\n",
       "    </tr>\n",
       "    <tr>\n",
       "      <th>2</th>\n",
       "      <td>2019-08-06</td>\n",
       "      <td>2019-06-30</td>\n",
       "      <td>1.35</td>\n",
       "      <td>1.72</td>\n",
       "      <td>20.25</td>\n",
       "      <td>21.45</td>\n",
       "    </tr>\n",
       "    <tr>\n",
       "      <th>3</th>\n",
       "      <td>2019-05-08</td>\n",
       "      <td>2019-03-30</td>\n",
       "      <td>1.61</td>\n",
       "      <td>1.58</td>\n",
       "      <td>14.92</td>\n",
       "      <td>14.59</td>\n",
       "    </tr>\n",
       "    <tr>\n",
       "      <th>4</th>\n",
       "      <td>2019-02-05</td>\n",
       "      <td>2018-12-30</td>\n",
       "      <td>1.84</td>\n",
       "      <td>1.54</td>\n",
       "      <td>15.30</td>\n",
       "      <td>15.16</td>\n",
       "    </tr>\n",
       "  </tbody>\n",
       "</table>\n",
       "</div>"
      ],
      "text/plain": [
       "  Date_publish      Period   BPA PrevBPA  Revenue  PrevRevenue\n",
       "0   2020-02-04  2019-12-30  1.53    1.46    20.86        20.76\n",
       "1   2019-11-07  2019-09-30  1.07    0.94    19.10        19.18\n",
       "2   2019-08-06  2019-06-30  1.35    1.72    20.25        21.45\n",
       "3   2019-05-08  2019-03-30  1.61    1.58    14.92        14.59\n",
       "4   2019-02-05  2018-12-30  1.84    1.54    15.30        15.16"
      ]
     },
     "execution_count": 271,
     "metadata": {},
     "output_type": "execute_result"
    }
   ],
   "source": [
    "df['Date_publish']=pd.to_datetime(df['Date_publish']).dt.date\n",
    "df['Period']='30/'+df['Period']\n",
    "df['Period']=pd.to_datetime(df['Period']).dt.date\n",
    "df=df.replace('[,]', '.', regex=True)\n",
    "df['PrevBPA']=df['PrevBPA'].replace('/', '', regex=True)\n",
    "df['Revenue']=df['Revenue'].replace('[A-Z]', '', regex=True).astype(float)\n",
    "df['PrevRevenue']=df['PrevRevenue'].replace('/', '', regex=True)\n",
    "df['PrevRevenue']=df['PrevRevenue'].replace('[A-Z]', '', regex=True).astype(float)\n",
    "df"
   ]
  },
  {
   "cell_type": "markdown",
   "metadata": {},
   "source": [
    "### API"
   ]
  },
  {
   "cell_type": "code",
   "execution_count": 272,
   "metadata": {
    "ExecuteTime": {
     "end_time": "2020-02-16T19:46:37.378447Z",
     "start_time": "2020-02-16T19:46:36.631467Z"
    }
   },
   "outputs": [],
   "source": [
    "#https://financialmodelingprep.com/developer/docs/companies-key-stats-free-api/#Python\n",
    "\n",
    "#'https://financialmodelingprep.com/api/v3/historical-price-full/AAPL'\n",
    "\n",
    "\n",
    "url = f'https://financialmodelingprep.com/api/v3/historical-price-full/{name_api}'\n",
    "response = requests.get(url)\n",
    "\n"
   ]
  },
  {
   "cell_type": "code",
   "execution_count": 273,
   "metadata": {
    "ExecuteTime": {
     "end_time": "2020-02-16T19:46:39.800283Z",
     "start_time": "2020-02-16T19:46:39.760798Z"
    }
   },
   "outputs": [],
   "source": [
    "result=response.json()\n",
    "result\n",
    "data=pd.DataFrame(json_normalize(result))"
   ]
  },
  {
   "cell_type": "code",
   "execution_count": 274,
   "metadata": {
    "ExecuteTime": {
     "end_time": "2020-02-16T19:46:41.983291Z",
     "start_time": "2020-02-16T19:46:41.977200Z"
    }
   },
   "outputs": [],
   "source": [
    "#data['historical'][0]"
   ]
  },
  {
   "cell_type": "code",
   "execution_count": 275,
   "metadata": {
    "ExecuteTime": {
     "end_time": "2020-02-16T19:46:44.030521Z",
     "start_time": "2020-02-16T19:46:43.962209Z"
    }
   },
   "outputs": [
    {
     "data": {
      "text/html": [
       "<div>\n",
       "<style scoped>\n",
       "    .dataframe tbody tr th:only-of-type {\n",
       "        vertical-align: middle;\n",
       "    }\n",
       "\n",
       "    .dataframe tbody tr th {\n",
       "        vertical-align: top;\n",
       "    }\n",
       "\n",
       "    .dataframe thead th {\n",
       "        text-align: right;\n",
       "    }\n",
       "</style>\n",
       "<table border=\"1\" class=\"dataframe\">\n",
       "  <thead>\n",
       "    <tr style=\"text-align: right;\">\n",
       "      <th></th>\n",
       "      <th>date</th>\n",
       "      <th>open</th>\n",
       "      <th>high</th>\n",
       "      <th>low</th>\n",
       "      <th>close</th>\n",
       "      <th>adjClose</th>\n",
       "      <th>volume</th>\n",
       "      <th>unadjustedVolume</th>\n",
       "      <th>change</th>\n",
       "      <th>changePercent</th>\n",
       "      <th>vwap</th>\n",
       "      <th>label</th>\n",
       "      <th>changeOverTime</th>\n",
       "    </tr>\n",
       "  </thead>\n",
       "  <tbody>\n",
       "    <tr>\n",
       "      <th>0</th>\n",
       "      <td>2015-02-17</td>\n",
       "      <td>104.23</td>\n",
       "      <td>104.45</td>\n",
       "      <td>103.57</td>\n",
       "      <td>104.12</td>\n",
       "      <td>97.62</td>\n",
       "      <td>4759300.0</td>\n",
       "      <td>4759300.0</td>\n",
       "      <td>0.11</td>\n",
       "      <td>0.106</td>\n",
       "      <td>104.04667</td>\n",
       "      <td>February 17, 15</td>\n",
       "      <td>0.00106</td>\n",
       "    </tr>\n",
       "    <tr>\n",
       "      <th>1</th>\n",
       "      <td>2015-02-18</td>\n",
       "      <td>103.40</td>\n",
       "      <td>104.33</td>\n",
       "      <td>103.40</td>\n",
       "      <td>103.86</td>\n",
       "      <td>97.38</td>\n",
       "      <td>3760200.0</td>\n",
       "      <td>3760200.0</td>\n",
       "      <td>-0.46</td>\n",
       "      <td>-0.445</td>\n",
       "      <td>103.86333</td>\n",
       "      <td>February 18, 15</td>\n",
       "      <td>-0.00445</td>\n",
       "    </tr>\n",
       "    <tr>\n",
       "      <th>2</th>\n",
       "      <td>2015-02-19</td>\n",
       "      <td>104.00</td>\n",
       "      <td>104.08</td>\n",
       "      <td>103.55</td>\n",
       "      <td>103.89</td>\n",
       "      <td>97.41</td>\n",
       "      <td>5094100.0</td>\n",
       "      <td>5094100.0</td>\n",
       "      <td>0.11</td>\n",
       "      <td>0.106</td>\n",
       "      <td>103.84000</td>\n",
       "      <td>February 19, 15</td>\n",
       "      <td>0.00106</td>\n",
       "    </tr>\n",
       "    <tr>\n",
       "      <th>3</th>\n",
       "      <td>2015-02-20</td>\n",
       "      <td>103.86</td>\n",
       "      <td>104.69</td>\n",
       "      <td>102.73</td>\n",
       "      <td>104.55</td>\n",
       "      <td>98.03</td>\n",
       "      <td>5197000.0</td>\n",
       "      <td>5197000.0</td>\n",
       "      <td>-0.69</td>\n",
       "      <td>-0.664</td>\n",
       "      <td>103.99000</td>\n",
       "      <td>February 20, 15</td>\n",
       "      <td>-0.00664</td>\n",
       "    </tr>\n",
       "    <tr>\n",
       "      <th>4</th>\n",
       "      <td>2015-02-23</td>\n",
       "      <td>104.76</td>\n",
       "      <td>105.23</td>\n",
       "      <td>104.44</td>\n",
       "      <td>104.99</td>\n",
       "      <td>98.44</td>\n",
       "      <td>5587100.0</td>\n",
       "      <td>5587100.0</td>\n",
       "      <td>-0.23</td>\n",
       "      <td>-0.220</td>\n",
       "      <td>104.88667</td>\n",
       "      <td>February 23, 15</td>\n",
       "      <td>-0.00220</td>\n",
       "    </tr>\n",
       "    <tr>\n",
       "      <th>...</th>\n",
       "      <td>...</td>\n",
       "      <td>...</td>\n",
       "      <td>...</td>\n",
       "      <td>...</td>\n",
       "      <td>...</td>\n",
       "      <td>...</td>\n",
       "      <td>...</td>\n",
       "      <td>...</td>\n",
       "      <td>...</td>\n",
       "      <td>...</td>\n",
       "      <td>...</td>\n",
       "      <td>...</td>\n",
       "      <td>...</td>\n",
       "    </tr>\n",
       "    <tr>\n",
       "      <th>1254</th>\n",
       "      <td>2020-02-10</td>\n",
       "      <td>141.03</td>\n",
       "      <td>142.59</td>\n",
       "      <td>140.46</td>\n",
       "      <td>142.59</td>\n",
       "      <td>142.59</td>\n",
       "      <td>8162100.0</td>\n",
       "      <td>8162100.0</td>\n",
       "      <td>-1.56</td>\n",
       "      <td>-1.106</td>\n",
       "      <td>141.88000</td>\n",
       "      <td>February 10, 20</td>\n",
       "      <td>-0.01106</td>\n",
       "    </tr>\n",
       "    <tr>\n",
       "      <th>1255</th>\n",
       "      <td>2020-02-11</td>\n",
       "      <td>142.85</td>\n",
       "      <td>142.99</td>\n",
       "      <td>140.46</td>\n",
       "      <td>141.01</td>\n",
       "      <td>141.01</td>\n",
       "      <td>10790100.0</td>\n",
       "      <td>10790100.0</td>\n",
       "      <td>1.84</td>\n",
       "      <td>1.288</td>\n",
       "      <td>141.48667</td>\n",
       "      <td>February 11, 20</td>\n",
       "      <td>0.01288</td>\n",
       "    </tr>\n",
       "    <tr>\n",
       "      <th>1256</th>\n",
       "      <td>2020-02-12</td>\n",
       "      <td>141.34</td>\n",
       "      <td>142.22</td>\n",
       "      <td>140.87</td>\n",
       "      <td>141.85</td>\n",
       "      <td>141.85</td>\n",
       "      <td>8168200.0</td>\n",
       "      <td>8168200.0</td>\n",
       "      <td>-0.51</td>\n",
       "      <td>-0.361</td>\n",
       "      <td>141.64667</td>\n",
       "      <td>February 12, 20</td>\n",
       "      <td>-0.00361</td>\n",
       "    </tr>\n",
       "    <tr>\n",
       "      <th>1257</th>\n",
       "      <td>2020-02-13</td>\n",
       "      <td>141.17</td>\n",
       "      <td>141.90</td>\n",
       "      <td>140.82</td>\n",
       "      <td>140.90</td>\n",
       "      <td>140.90</td>\n",
       "      <td>7543100.0</td>\n",
       "      <td>7543100.0</td>\n",
       "      <td>0.27</td>\n",
       "      <td>0.191</td>\n",
       "      <td>141.20667</td>\n",
       "      <td>February 13, 20</td>\n",
       "      <td>0.00191</td>\n",
       "    </tr>\n",
       "    <tr>\n",
       "      <th>1258</th>\n",
       "      <td>2020-02-14</td>\n",
       "      <td>141.10</td>\n",
       "      <td>141.28</td>\n",
       "      <td>139.13</td>\n",
       "      <td>139.54</td>\n",
       "      <td>139.54</td>\n",
       "      <td>9107300.0</td>\n",
       "      <td>9107300.0</td>\n",
       "      <td>1.56</td>\n",
       "      <td>1.106</td>\n",
       "      <td>139.98333</td>\n",
       "      <td>February 14, 20</td>\n",
       "      <td>0.01106</td>\n",
       "    </tr>\n",
       "  </tbody>\n",
       "</table>\n",
       "<p>1259 rows × 13 columns</p>\n",
       "</div>"
      ],
      "text/plain": [
       "            date    open    high     low   close  adjClose      volume  \\\n",
       "0     2015-02-17  104.23  104.45  103.57  104.12     97.62   4759300.0   \n",
       "1     2015-02-18  103.40  104.33  103.40  103.86     97.38   3760200.0   \n",
       "2     2015-02-19  104.00  104.08  103.55  103.89     97.41   5094100.0   \n",
       "3     2015-02-20  103.86  104.69  102.73  104.55     98.03   5197000.0   \n",
       "4     2015-02-23  104.76  105.23  104.44  104.99     98.44   5587100.0   \n",
       "...          ...     ...     ...     ...     ...       ...         ...   \n",
       "1254  2020-02-10  141.03  142.59  140.46  142.59    142.59   8162100.0   \n",
       "1255  2020-02-11  142.85  142.99  140.46  141.01    141.01  10790100.0   \n",
       "1256  2020-02-12  141.34  142.22  140.87  141.85    141.85   8168200.0   \n",
       "1257  2020-02-13  141.17  141.90  140.82  140.90    140.90   7543100.0   \n",
       "1258  2020-02-14  141.10  141.28  139.13  139.54    139.54   9107300.0   \n",
       "\n",
       "      unadjustedVolume  change  changePercent       vwap            label  \\\n",
       "0            4759300.0    0.11          0.106  104.04667  February 17, 15   \n",
       "1            3760200.0   -0.46         -0.445  103.86333  February 18, 15   \n",
       "2            5094100.0    0.11          0.106  103.84000  February 19, 15   \n",
       "3            5197000.0   -0.69         -0.664  103.99000  February 20, 15   \n",
       "4            5587100.0   -0.23         -0.220  104.88667  February 23, 15   \n",
       "...                ...     ...            ...        ...              ...   \n",
       "1254         8162100.0   -1.56         -1.106  141.88000  February 10, 20   \n",
       "1255        10790100.0    1.84          1.288  141.48667  February 11, 20   \n",
       "1256         8168200.0   -0.51         -0.361  141.64667  February 12, 20   \n",
       "1257         7543100.0    0.27          0.191  141.20667  February 13, 20   \n",
       "1258         9107300.0    1.56          1.106  139.98333  February 14, 20   \n",
       "\n",
       "      changeOverTime  \n",
       "0            0.00106  \n",
       "1           -0.00445  \n",
       "2            0.00106  \n",
       "3           -0.00664  \n",
       "4           -0.00220  \n",
       "...              ...  \n",
       "1254        -0.01106  \n",
       "1255         0.01288  \n",
       "1256        -0.00361  \n",
       "1257         0.00191  \n",
       "1258         0.01106  \n",
       "\n",
       "[1259 rows x 13 columns]"
      ]
     },
     "execution_count": 275,
     "metadata": {},
     "output_type": "execute_result"
    }
   ],
   "source": [
    "data2=json_normalize(data['historical'][0])\n",
    "data2"
   ]
  },
  {
   "cell_type": "code",
   "execution_count": 276,
   "metadata": {
    "ExecuteTime": {
     "end_time": "2020-02-16T19:46:46.624570Z",
     "start_time": "2020-02-16T19:46:46.611298Z"
    }
   },
   "outputs": [
    {
     "name": "stderr",
     "output_type": "stream",
     "text": [
      "/usr/local/lib/python3.7/site-packages/ipykernel_launcher.py:2: SettingWithCopyWarning: \n",
      "A value is trying to be set on a copy of a slice from a DataFrame.\n",
      "Try using .loc[row_indexer,col_indexer] = value instead\n",
      "\n",
      "See the caveats in the documentation: http://pandas.pydata.org/pandas-docs/stable/user_guide/indexing.html#returning-a-view-versus-a-copy\n",
      "  \n"
     ]
    }
   ],
   "source": [
    "data3=data2[['date','open','close','volume','change','changePercent','vwap']]\n",
    "data3['date']=pd.to_datetime(data3['date']).dt.date"
   ]
  },
  {
   "cell_type": "code",
   "execution_count": 277,
   "metadata": {
    "ExecuteTime": {
     "end_time": "2020-02-16T19:46:49.269621Z",
     "start_time": "2020-02-16T19:46:49.253421Z"
    }
   },
   "outputs": [
    {
     "data": {
      "text/html": [
       "<div>\n",
       "<style scoped>\n",
       "    .dataframe tbody tr th:only-of-type {\n",
       "        vertical-align: middle;\n",
       "    }\n",
       "\n",
       "    .dataframe tbody tr th {\n",
       "        vertical-align: top;\n",
       "    }\n",
       "\n",
       "    .dataframe thead th {\n",
       "        text-align: right;\n",
       "    }\n",
       "</style>\n",
       "<table border=\"1\" class=\"dataframe\">\n",
       "  <thead>\n",
       "    <tr style=\"text-align: right;\">\n",
       "      <th></th>\n",
       "      <th>date</th>\n",
       "      <th>open</th>\n",
       "      <th>close</th>\n",
       "      <th>volume</th>\n",
       "      <th>change</th>\n",
       "      <th>changePercent</th>\n",
       "      <th>vwap</th>\n",
       "    </tr>\n",
       "  </thead>\n",
       "  <tbody>\n",
       "    <tr>\n",
       "      <th>0</th>\n",
       "      <td>2015-02-17</td>\n",
       "      <td>104.23</td>\n",
       "      <td>104.12</td>\n",
       "      <td>4759300.0</td>\n",
       "      <td>0.11</td>\n",
       "      <td>0.106</td>\n",
       "      <td>104.04667</td>\n",
       "    </tr>\n",
       "    <tr>\n",
       "      <th>1</th>\n",
       "      <td>2015-02-18</td>\n",
       "      <td>103.40</td>\n",
       "      <td>103.86</td>\n",
       "      <td>3760200.0</td>\n",
       "      <td>-0.46</td>\n",
       "      <td>-0.445</td>\n",
       "      <td>103.86333</td>\n",
       "    </tr>\n",
       "    <tr>\n",
       "      <th>2</th>\n",
       "      <td>2015-02-19</td>\n",
       "      <td>104.00</td>\n",
       "      <td>103.89</td>\n",
       "      <td>5094100.0</td>\n",
       "      <td>0.11</td>\n",
       "      <td>0.106</td>\n",
       "      <td>103.84000</td>\n",
       "    </tr>\n",
       "    <tr>\n",
       "      <th>3</th>\n",
       "      <td>2015-02-20</td>\n",
       "      <td>103.86</td>\n",
       "      <td>104.55</td>\n",
       "      <td>5197000.0</td>\n",
       "      <td>-0.69</td>\n",
       "      <td>-0.664</td>\n",
       "      <td>103.99000</td>\n",
       "    </tr>\n",
       "    <tr>\n",
       "      <th>4</th>\n",
       "      <td>2015-02-23</td>\n",
       "      <td>104.76</td>\n",
       "      <td>104.99</td>\n",
       "      <td>5587100.0</td>\n",
       "      <td>-0.23</td>\n",
       "      <td>-0.220</td>\n",
       "      <td>104.88667</td>\n",
       "    </tr>\n",
       "  </tbody>\n",
       "</table>\n",
       "</div>"
      ],
      "text/plain": [
       "         date    open   close     volume  change  changePercent       vwap\n",
       "0  2015-02-17  104.23  104.12  4759300.0    0.11          0.106  104.04667\n",
       "1  2015-02-18  103.40  103.86  3760200.0   -0.46         -0.445  103.86333\n",
       "2  2015-02-19  104.00  103.89  5094100.0    0.11          0.106  103.84000\n",
       "3  2015-02-20  103.86  104.55  5197000.0   -0.69         -0.664  103.99000\n",
       "4  2015-02-23  104.76  104.99  5587100.0   -0.23         -0.220  104.88667"
      ]
     },
     "execution_count": 277,
     "metadata": {},
     "output_type": "execute_result"
    }
   ],
   "source": [
    "data3.head(5)"
   ]
  },
  {
   "cell_type": "code",
   "execution_count": 278,
   "metadata": {
    "ExecuteTime": {
     "end_time": "2020-02-16T19:46:51.864391Z",
     "start_time": "2020-02-16T19:46:51.647482Z"
    }
   },
   "outputs": [
    {
     "data": {
      "text/plain": [
       "<matplotlib.collections.PathCollection at 0x10b43e950>"
      ]
     },
     "execution_count": 278,
     "metadata": {},
     "output_type": "execute_result"
    },
    {
     "data": {
      "image/png": "[encoded data removed]",
      "text/plain": [
       "<Figure size 432x288 with 1 Axes>"
      ]
     },
     "metadata": {
      "needs_background": "light"
     },
     "output_type": "display_data"
    }
   ],
   "source": [
    "plt.scatter(data3['date'], data3['open'], s =0.2, c = 'red')"
   ]
  },
  {
   "cell_type": "code",
   "execution_count": 279,
   "metadata": {
    "ExecuteTime": {
     "end_time": "2020-02-16T19:46:54.349037Z",
     "start_time": "2020-02-16T19:46:54.127162Z"
    }
   },
   "outputs": [
    {
     "data": {
      "text/plain": [
       "<matplotlib.collections.PathCollection at 0x10b42d750>"
      ]
     },
     "execution_count": 279,
     "metadata": {},
     "output_type": "execute_result"
    },
    {
     "data": {
      "image/png": "[encoded data removed]",
      "text/plain": [
       "<Figure size 432x288 with 1 Axes>"
      ]
     },
     "metadata": {
      "needs_background": "light"
     },
     "output_type": "display_data"
    }
   ],
   "source": [
    "plt.scatter(df['Date_publish'], df['Revenue'], s =5, c = 'red')"
   ]
  },
  {
   "cell_type": "code",
   "execution_count": 280,
   "metadata": {
    "ExecuteTime": {
     "end_time": "2020-02-16T19:46:57.258261Z",
     "start_time": "2020-02-16T19:46:56.924942Z"
    }
   },
   "outputs": [
    {
     "data": {
      "image/png": "[encoded data removed]",
      "text/plain": [
       "<Figure size 1080x504 with 1 Axes>"
      ]
     },
     "metadata": {
      "needs_background": "light"
     },
     "output_type": "display_data"
    }
   ],
   "source": [
    "# Requirement 1\n",
    "fig,ax = plt.subplots(nrows=1,ncols=1,figsize=(15,7))\n",
    "ax.plot(data3.date,data3.open,\n",
    "       linewidth=2.5,color='darkmagenta',label=2014)\n",
    "\n",
    "line = ax.plot(df.Period,df.Revenue,\n",
    "       linewidth=2,\n",
    "       color='grey',\n",
    "       label=2013,\n",
    "       alpha=0.3,\n",
    "        marker = 'o', # full list of options here : https://matplotlib.org/api/markers_api.html#module-matplotlib.markers\n",
    "        markersize = 5,\n",
    "        markeredgecolor = 'black',\n",
    "        markeredgewidth = 2,\n",
    "\n",
    "        # Set a name for the line : this is to be used when we have a legend in the graph\n",
    "       );\n",
    "\n"
   ]
  },
  {
   "cell_type": "code",
   "execution_count": null,
   "metadata": {},
   "outputs": [],
   "source": []
  },
  {
   "cell_type": "code",
   "execution_count": null,
   "metadata": {},
   "outputs": [],
   "source": []
  }
 ],
 "metadata": {
  "kernelspec": {
   "display_name": "Python 3",
   "language": "python",
   "name": "python3"
  },
  "language_info": {
   "codemirror_mode": {
    "name": "ipython",
    "version": 3
   },
   "file_extension": ".py",
   "mimetype": "text/x-python",
   "name": "python",
   "nbconvert_exporter": "python",
   "pygments_lexer": "ipython3",
   "version": "3.7.4"
  },
  "varInspector": {
   "cols": {
    "lenName": 16,
    "lenType": 16,
    "lenVar": 40
   },
   "kernels_config": {
    "python": {
     "delete_cmd_postfix": "",
     "delete_cmd_prefix": "del ",
     "library": "var_list.py",
     "varRefreshCmd": "print(var_dic_list())"
    },
    "r": {
     "delete_cmd_postfix": ") ",
     "delete_cmd_prefix": "rm(",
     "library": "var_list.r",
     "varRefreshCmd": "cat(var_dic_list()) "
    }
   },
   "types_to_exclude": [
    "module",
    "function",
    "builtin_function_or_method",
    "instance",
    "_Feature"
   ],
   "window_display": false
  }
 },
 "nbformat": 4,
 "nbformat_minor": 2
}
